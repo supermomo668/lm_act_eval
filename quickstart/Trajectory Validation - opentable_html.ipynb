{
 "cells": [
  {
   "cell_type": "code",
   "execution_count": 1,
   "metadata": {},
   "outputs": [],
   "source": [
    "from pathlib import Path\n",
    "import os\n",
    "from dotenv import load_dotenv\n",
    "from tqdm import tqdm\n",
    "tqdm.pandas()\n",
    "%load_ext autoreload\n",
    "%autoreload 2"
   ]
  },
  {
   "cell_type": "code",
   "execution_count": 2,
   "metadata": {},
   "outputs": [
    {
     "name": "stdout",
     "output_type": "stream",
     "text": [
      "/home/opadmin/llama2d_opentable/lm_act_eval\n"
     ]
    },
    {
     "data": {
      "text/plain": [
       "True"
      ]
     },
     "execution_count": 2,
     "metadata": {},
     "output_type": "execute_result"
    }
   ],
   "source": [
    "# change dir to ml repo at ml/ root (if you started in notebook/)\n",
    "os.chdir('../')\n",
    "print(Path.cwd())\n",
    "load_dotenv()"
   ]
  },
  {
   "cell_type": "code",
   "execution_count": 3,
   "metadata": {},
   "outputs": [
    {
     "name": "stderr",
     "output_type": "stream",
     "text": [
      "/home/opadmin/anaconda3/envs/eval/lib/python3.11/site-packages/tqdm/auto.py:21: TqdmWarning: IProgress not found. Please update jupyter and ipywidgets. See https://ipywidgets.readthedocs.io/en/stable/user_install.html\n",
      "  from .autonotebook import tqdm as notebook_tqdm\n"
     ]
    },
    {
     "name": "stdout",
     "output_type": "stream",
     "text": [
      "Google Cloud not set up, skipping import of providers.gemini_utils.generate_from_gemini_completion\n",
      "Google Cloud not set up, skipping import of vertexai.preview.generative_models.Image and llms.generate_from_gemini_completion\n"
     ]
    },
    {
     "name": "stderr",
     "output_type": "stream",
     "text": [
      "/home/opadmin/anaconda3/envs/eval/lib/python3.11/site-packages/deepeval/__init__.py:41: UserWarning: You are using deepeval version 0.20.90, however version 0.21.23 is available. You should consider upgrading via the \"pip install --upgrade deepeval\" command.\n",
      "  warnings.warn(\n"
     ]
    }
   ],
   "source": [
    "from datasets import Dataset\n",
    "import pandas as pd\n",
    "from lm_act_eval.evaluation_harness.helper_functions.multion import (\n",
    "  action_prefix,\n",
    "  clean_extracted_text,\n",
    "  extract_thought,\n",
    "  extract_action,\n",
    "  extract_explanation,\n",
    "  ParseChatCompletion,\n",
    "  extract_first\n",
    ")\n",
    "from lm_act_eval.evaluation_harness.utils.url import is_screenshot_url_accessible"
   ]
  },
  {
   "cell_type": "code",
   "execution_count": 4,
   "metadata": {},
   "outputs": [],
   "source": [
    "from typing import Callable\n",
    "from tqdm import tqdm"
   ]
  },
  {
   "cell_type": "code",
   "execution_count": 36,
   "metadata": {},
   "outputs": [],
   "source": [
    "# subdependent \n",
    "from lm_act_eval.evaluation_harness.evaluators.sft.dataframe import DataFrameEvaluator\n",
    "from lm_act_eval.evaluation_harness.helper_functions import multion\n",
    "#\n"
   ]
  },
  {
   "cell_type": "code",
   "execution_count": 38,
   "metadata": {},
   "outputs": [
    {
     "name": "stdout",
     "output_type": "stream",
     "text": [
      "Composed Configurations:\n",
      "project: opentable\n",
      "eval:\n",
      "  sft:\n",
      "    trajectory:\n",
      "      data:\n",
      "        path: lm_act_eval/.cache/five-star-trajectories/csv/data.csv\n",
      "        columns:\n",
      "          trajectory_id: session_id\n",
      "          action_idx: idx_in_session\n",
      "          'y': ground_truth\n",
      "          y_': GPTV_generations\n",
      "        extract_fs:\n",
      "          QUERY:\n",
      "            QUERY: null\n",
      "          screenshot:\n",
      "            screenshot: null\n",
      "          GOAL:\n",
      "            chat_completion_messages: parse_completion.parse_content\n",
      "          HTML:\n",
      "            DOM: opentable_extract_reservation_details\n",
      "        logging:\n",
      "          wandb:\n",
      "            project: opentable\n",
      "            result: lm_act_eval-run\n",
      "          braintrust:\n",
      "            project: multion_opentable\n",
      "      metrics:\n",
      "        opentable_html:\n",
      "          evaluate_group_last: action_idx\n",
      "          inputs:\n",
      "          - HTML\n",
      "          args:\n",
      "          - null\n",
      "        gpt-v:\n",
      "          inputs:\n",
      "          - GOAL\n",
      "          - QUERY\n",
      "          - screenshots\n",
      "          args:\n",
      "          - PROMPT_VERSION: multion_trajectory\n",
      "        contextual_precision:\n",
      "          inputs:\n",
      "          - inputs: GOAL\n",
      "          - actual_output: y_\n",
      "          - expected_output: 'y'\n",
      "          - retrieval_context: null\n",
      "          args:\n",
      "          - threshold: 0.7\n",
      "          - model: gpt-4\n",
      "          - include_reason: true\n",
      "\n"
     ]
    }
   ],
   "source": [
    "from lm_act_eval._init_conf import init_conf\n",
    "hydra_cfg = init_conf('trajectory_eval-dev')\n",
    "cfg = hydra_cfg.eval"
   ]
  },
  {
   "cell_type": "code",
   "execution_count": 39,
   "metadata": {},
   "outputs": [
    {
     "name": "stdout",
     "output_type": "stream",
     "text": [
      "[{'role': 'system', 'content': '**Goal**: Let\\'s play a game - You are an expert agent named MULTI·O Index(['session_id', 'idx_in_session', '_id', 'event_id', 'parent_id',\n",
      "       'event_type', 'event_name', 'config', 'children_ids', 'inputs',\n",
      "       'outputs', 'error', 'start_time', 'end_time', 'metadata', 'feedback',\n",
      "       'metrics', 'user_properties', 'source', 'duration', 'project_id',\n",
      "       'tenant', 'QUERY', 'URL', 'DOM', 'RULES', 'USER_CONTEXT',\n",
      "       'PREV_ACTIONS', 'chat_history', 'CURRENT_TIME', 'planPrompt',\n",
      "       'previousActionsRepetitionPrompt', 'chat_completion_messages',\n",
      "       'ground_truth', 'screenshot', 'prompt', 'internal_metadata'],\n",
      "      dtype='object')\n"
     ]
    },
    {
     "data": {
      "text/html": [
       "<div>\n",
       "<style scoped>\n",
       "    .dataframe tbody tr th:only-of-type {\n",
       "        vertical-align: middle;\n",
       "    }\n",
       "\n",
       "    .dataframe tbody tr th {\n",
       "        vertical-align: top;\n",
       "    }\n",
       "\n",
       "    .dataframe thead th {\n",
       "        text-align: right;\n",
       "    }\n",
       "</style>\n",
       "<table border=\"1\" class=\"dataframe\">\n",
       "  <thead>\n",
       "    <tr style=\"text-align: right;\">\n",
       "      <th></th>\n",
       "      <th>session_id</th>\n",
       "      <th>idx_in_session</th>\n",
       "      <th>_id</th>\n",
       "      <th>event_id</th>\n",
       "      <th>parent_id</th>\n",
       "      <th>event_type</th>\n",
       "      <th>event_name</th>\n",
       "      <th>config</th>\n",
       "      <th>children_ids</th>\n",
       "      <th>inputs</th>\n",
       "      <th>...</th>\n",
       "      <th>PREV_ACTIONS</th>\n",
       "      <th>chat_history</th>\n",
       "      <th>CURRENT_TIME</th>\n",
       "      <th>planPrompt</th>\n",
       "      <th>previousActionsRepetitionPrompt</th>\n",
       "      <th>chat_completion_messages</th>\n",
       "      <th>ground_truth</th>\n",
       "      <th>screenshot</th>\n",
       "      <th>prompt</th>\n",
       "      <th>internal_metadata</th>\n",
       "    </tr>\n",
       "  </thead>\n",
       "  <tbody>\n",
       "    <tr>\n",
       "      <th>0</th>\n",
       "      <td>ce3bf1c8-371a-4adb-98e6-2cce19c1aff5</td>\n",
       "      <td>0</td>\n",
       "      <td>65f0c5d705cef8bdb70153a9</td>\n",
       "      <td>cc3d0d22-4759-43d8-a688-d174ca94f9dd</td>\n",
       "      <td>ce3bf1c8-371a-4adb-98e6-2cce19c1aff5</td>\n",
       "      <td>model</td>\n",
       "      <td>Model Completion</td>\n",
       "      <td>{'model': 'gpt-4-1106-preview', 'provider': 'u...</td>\n",
       "      <td>[]</td>\n",
       "      <td>{'QUERY': 'Find a restaurant with vegetarian o...</td>\n",
       "      <td>...</td>\n",
       "      <td>NaN</td>\n",
       "      <td>[]</td>\n",
       "      <td>Tuesday, March 12, 2024 at 4:14:11 PM CDT</td>\n",
       "      <td>IMPORTANT: If the objective is complex, compri...</td>\n",
       "      <td>**PREVIOUS ACTIONS Repetition**:\\n- Review the...</td>\n",
       "      <td>[{'role': 'system', 'content': '**Goal**: Let\\...</td>\n",
       "      <td>PLAN: To find a restaurant with vegetarian opt...</td>\n",
       "      <td>https://multion-client-screenshots.s3.us-east-...</td>\n",
       "      <td>NaN</td>\n",
       "      <td>NaN</td>\n",
       "    </tr>\n",
       "    <tr>\n",
       "      <th>1</th>\n",
       "      <td>ce3bf1c8-371a-4adb-98e6-2cce19c1aff5</td>\n",
       "      <td>1</td>\n",
       "      <td>65f0c60705cef8bdb70153ab</td>\n",
       "      <td>44b78fc2-24e2-40e5-b39d-e887a7129587</td>\n",
       "      <td>ce3bf1c8-371a-4adb-98e6-2cce19c1aff5</td>\n",
       "      <td>model</td>\n",
       "      <td>Model Completion</td>\n",
       "      <td>{'model': 'gpt-4-1106-preview', 'provider': 'u...</td>\n",
       "      <td>[]</td>\n",
       "      <td>{'QUERY': 'Find a restaurant with vegetarian o...</td>\n",
       "      <td>...</td>\n",
       "      <td>- I am searching for restaurants with vegetari...</td>\n",
       "      <td>[{'role': 'user', 'content': 'Find a restauran...</td>\n",
       "      <td>Tuesday, March 12, 2024 at 4:15:02 PM CDT</td>\n",
       "      <td>IMPORTANT: If the objective is complex, compri...</td>\n",
       "      <td>**PREVIOUS ACTIONS Repetition**:\\n- Review the...</td>\n",
       "      <td>[{'role': 'system', 'content': '**Goal**: Let\\...</td>\n",
       "      <td>The search for \"vegetarian\" in St. Louis has y...</td>\n",
       "      <td>https://multion-client-screenshots.s3.us-east-...</td>\n",
       "      <td>NaN</td>\n",
       "      <td>NaN</td>\n",
       "    </tr>\n",
       "  </tbody>\n",
       "</table>\n",
       "<p>2 rows × 37 columns</p>\n",
       "</div>"
      ],
      "text/plain": [
       "                             session_id idx_in_session  \\\n",
       "0  ce3bf1c8-371a-4adb-98e6-2cce19c1aff5              0   \n",
       "1  ce3bf1c8-371a-4adb-98e6-2cce19c1aff5              1   \n",
       "\n",
       "                        _id                              event_id  \\\n",
       "0  65f0c5d705cef8bdb70153a9  cc3d0d22-4759-43d8-a688-d174ca94f9dd   \n",
       "1  65f0c60705cef8bdb70153ab  44b78fc2-24e2-40e5-b39d-e887a7129587   \n",
       "\n",
       "                              parent_id event_type        event_name  \\\n",
       "0  ce3bf1c8-371a-4adb-98e6-2cce19c1aff5      model  Model Completion   \n",
       "1  ce3bf1c8-371a-4adb-98e6-2cce19c1aff5      model  Model Completion   \n",
       "\n",
       "                                              config children_ids  \\\n",
       "0  {'model': 'gpt-4-1106-preview', 'provider': 'u...           []   \n",
       "1  {'model': 'gpt-4-1106-preview', 'provider': 'u...           []   \n",
       "\n",
       "                                              inputs  ...  \\\n",
       "0  {'QUERY': 'Find a restaurant with vegetarian o...  ...   \n",
       "1  {'QUERY': 'Find a restaurant with vegetarian o...  ...   \n",
       "\n",
       "                                        PREV_ACTIONS  \\\n",
       "0                                                NaN   \n",
       "1  - I am searching for restaurants with vegetari...   \n",
       "\n",
       "                                        chat_history  \\\n",
       "0                                                 []   \n",
       "1  [{'role': 'user', 'content': 'Find a restauran...   \n",
       "\n",
       "                                CURRENT_TIME  \\\n",
       "0  Tuesday, March 12, 2024 at 4:14:11 PM CDT   \n",
       "1  Tuesday, March 12, 2024 at 4:15:02 PM CDT   \n",
       "\n",
       "                                          planPrompt  \\\n",
       "0  IMPORTANT: If the objective is complex, compri...   \n",
       "1  IMPORTANT: If the objective is complex, compri...   \n",
       "\n",
       "                     previousActionsRepetitionPrompt  \\\n",
       "0  **PREVIOUS ACTIONS Repetition**:\\n- Review the...   \n",
       "1  **PREVIOUS ACTIONS Repetition**:\\n- Review the...   \n",
       "\n",
       "                            chat_completion_messages  \\\n",
       "0  [{'role': 'system', 'content': '**Goal**: Let\\...   \n",
       "1  [{'role': 'system', 'content': '**Goal**: Let\\...   \n",
       "\n",
       "                                        ground_truth  \\\n",
       "0  PLAN: To find a restaurant with vegetarian opt...   \n",
       "1  The search for \"vegetarian\" in St. Louis has y...   \n",
       "\n",
       "                                          screenshot prompt  internal_metadata  \n",
       "0  https://multion-client-screenshots.s3.us-east-...    NaN                NaN  \n",
       "1  https://multion-client-screenshots.s3.us-east-...    NaN                NaN  \n",
       "\n",
       "[2 rows x 37 columns]"
      ]
     },
     "execution_count": 39,
     "metadata": {},
     "output_type": "execute_result"
    }
   ],
   "source": [
    "df = pd.read_csv(cfg.sft.trajectory.data.path)\n",
    "entry = df.iloc[0]\n",
    "print(\n",
    "  df.chat_completion_messages.iloc[0][:100],\n",
    "  df.columns\n",
    ")\n",
    "df.head(2)"
   ]
  },
  {
   "cell_type": "code",
   "execution_count": 40,
   "metadata": {},
   "outputs": [
    {
     "data": {
      "text/plain": [
       "{'evaluate_group_last': 'action_idx', 'inputs': ['HTML'], 'args': [None]}"
      ]
     },
     "execution_count": 40,
     "metadata": {},
     "output_type": "execute_result"
    }
   ],
   "source": [
    "cfg.sft.trajectory.metrics.opentable_html"
   ]
  },
  {
   "cell_type": "code",
   "execution_count": 45,
   "metadata": {},
   "outputs": [],
   "source": [
    "from lm_act_eval.evaluation_harness.evaluators.metrics.opentable import opentable_reservation_html"
   ]
  },
  {
   "cell_type": "code",
   "execution_count": 24,
   "metadata": {},
   "outputs": [
    {
     "data": {
      "text/plain": [
       "{'restaurant_name': 'Unknown',\n",
       " 'status': 'Unknown',\n",
       " 'num_people': 0,\n",
       " 'date_time': 'Unknown',\n",
       " 'first_name': 'Unknown',\n",
       " 'last_name': 'Unknown'}"
      ]
     },
     "execution_count": 24,
     "metadata": {},
     "output_type": "execute_result"
    }
   ],
   "source": [
    "from lm_act_eval.evaluation_harness.helper_functions import function_registry\n",
    "function_registry.get('opentable_extract_reservation_details')(df.DOM.iloc[0])"
   ]
  },
  {
   "cell_type": "code",
   "execution_count": 50,
   "metadata": {},
   "outputs": [
    {
     "name": "stderr",
     "output_type": "stream",
     "text": [
      "Mapping fields to processing functions: 0it [00:00, ?it/s]/home/opadmin/llama2d_opentable/lm_act_eval/lm_act_eval/evaluation_harness/helper_functions/multion.py:159: UserWarning: Failed to parse json, returning content field\n",
      "  \n",
      "/home/opadmin/llama2d_opentable/lm_act_eval/lm_act_eval/evaluation_harness/helper_functions/multion.py:177: UserWarning: Unexpected format, returning suspicious content of type <class 'str'>, using as is\n",
      "  ).strip()\n",
      "Mapping fields to processing functions: 3it [00:02,  1.14it/s]\n"
     ]
    },
    {
     "ename": "AttributeError",
     "evalue": "'float' object has no attribute 'startswith'",
     "output_type": "error",
     "traceback": [
      "\u001b[0;31m---------------------------------------------------------------------------\u001b[0m",
      "\u001b[0;31mAttributeError\u001b[0m                            Traceback (most recent call last)",
      "Cell \u001b[0;32mIn[50], line 3\u001b[0m\n\u001b[1;32m      1\u001b[0m \u001b[38;5;28;01mfrom\u001b[39;00m \u001b[38;5;21;01mlm_act_eval\u001b[39;00m\u001b[38;5;21;01m.\u001b[39;00m\u001b[38;5;21;01mevaluation_harness\u001b[39;00m\u001b[38;5;21;01m.\u001b[39;00m\u001b[38;5;21;01mevaluators\u001b[39;00m\u001b[38;5;21;01m.\u001b[39;00m\u001b[38;5;21;01msft\u001b[39;00m\u001b[38;5;21;01m.\u001b[39;00m\u001b[38;5;21;01mtrajectory\u001b[39;00m \u001b[38;5;28;01mimport\u001b[39;00m TableTrajectoryEvaluator, AsyncTableTrajectoryEvaluator\n\u001b[0;32m----> 3\u001b[0m df_evaluator \u001b[38;5;241m=\u001b[39m \u001b[43mTableTrajectoryEvaluator\u001b[49m\u001b[43m(\u001b[49m\u001b[43mcfg\u001b[49m\u001b[38;5;241;43m.\u001b[39;49m\u001b[43msft\u001b[49m\u001b[38;5;241;43m.\u001b[39;49m\u001b[43mtrajectory\u001b[49m\u001b[43m)\u001b[49m\n",
      "File \u001b[0;32m~/llama2d_opentable/lm_act_eval/lm_act_eval/evaluation_harness/evaluators/sft/trajectory.py:55\u001b[0m, in \u001b[0;36mTableTrajectoryEvaluator.__init__\u001b[0;34m(self, config, *args, **kwargs)\u001b[0m\n\u001b[1;32m     51\u001b[0m \u001b[38;5;250m\u001b[39m\u001b[38;5;124;03m\"\"\"\u001b[39;00m\n\u001b[1;32m     52\u001b[0m \u001b[38;5;124;03mHandles evaluation of all the metrics in the given evaluation track\u001b[39;00m\n\u001b[1;32m     53\u001b[0m \u001b[38;5;124;03m\"\"\"\u001b[39;00m\n\u001b[1;32m     54\u001b[0m \u001b[38;5;28msuper\u001b[39m()\u001b[38;5;241m.\u001b[39m\u001b[38;5;21m__init__\u001b[39m(config)\n\u001b[0;32m---> 55\u001b[0m \u001b[38;5;28;43mself\u001b[39;49m\u001b[38;5;241;43m.\u001b[39;49m\u001b[43m_process_input\u001b[49m\u001b[43m(\u001b[49m\u001b[38;5;28;43mself\u001b[39;49m\u001b[38;5;241;43m.\u001b[39;49m\u001b[43minput_df\u001b[49m\u001b[43m)\u001b[49m\n",
      "File \u001b[0;32m~/llama2d_opentable/lm_act_eval/lm_act_eval/evaluation_harness/evaluators/sft/dataframe.py:220\u001b[0m, in \u001b[0;36mDataFrameEvaluator._process_input\u001b[0;34m(self, input_df)\u001b[0m\n\u001b[1;32m    215\u001b[0m \u001b[38;5;28;01mfor\u001b[39;00m (src_field, tgt_field), extract_function \u001b[38;5;129;01min\u001b[39;00m tqdm(\n\u001b[1;32m    216\u001b[0m     cfg_to_function(\u001b[38;5;28mself\u001b[39m\u001b[38;5;241m.\u001b[39mconfig\u001b[38;5;241m.\u001b[39mdata\u001b[38;5;241m.\u001b[39mextract_fs),\n\u001b[1;32m    217\u001b[0m     desc\u001b[38;5;241m=\u001b[39m\u001b[38;5;124m\"\u001b[39m\u001b[38;5;124mMapping fields to processing functions\u001b[39m\u001b[38;5;124m\"\u001b[39m\n\u001b[1;32m    218\u001b[0m ):\n\u001b[1;32m    219\u001b[0m     logger\u001b[38;5;241m.\u001b[39minfo(\u001b[38;5;124mf\u001b[39m\u001b[38;5;124m\"\u001b[39m\u001b[38;5;124mExtracting to \u001b[39m\u001b[38;5;132;01m{\u001b[39;00mtgt_field\u001b[38;5;132;01m}\u001b[39;00m\u001b[38;5;124m from \u001b[39m\u001b[38;5;132;01m{\u001b[39;00msrc_field\u001b[38;5;132;01m}\u001b[39;00m\u001b[38;5;124m\"\u001b[39m)\n\u001b[0;32m--> 220\u001b[0m     extracted_data \u001b[38;5;241m=\u001b[39m \u001b[43minput_df\u001b[49m\u001b[43m[\u001b[49m\u001b[43msrc_field\u001b[49m\u001b[43m]\u001b[49m\u001b[38;5;241;43m.\u001b[39;49m\u001b[43mapply\u001b[49m\u001b[43m(\u001b[49m\u001b[43mextract_function\u001b[49m\u001b[43m)\u001b[49m\n\u001b[1;32m    222\u001b[0m     \u001b[38;5;66;03m# Use DataFrame structure to determine if multiple fields are returned\u001b[39;00m\n\u001b[1;32m    223\u001b[0m     \u001b[38;5;28;01mif\u001b[39;00m \u001b[38;5;28misinstance\u001b[39m(extracted_data\u001b[38;5;241m.\u001b[39miloc[\u001b[38;5;241m0\u001b[39m], pd\u001b[38;5;241m.\u001b[39mSeries):\n\u001b[1;32m    224\u001b[0m         \u001b[38;5;66;03m# If multiple fields, flatten them into the main DataFrame with prefixed names\u001b[39;00m\n",
      "File \u001b[0;32m~/anaconda3/envs/eval/lib/python3.11/site-packages/pandas/core/series.py:4915\u001b[0m, in \u001b[0;36mSeries.apply\u001b[0;34m(self, func, convert_dtype, args, by_row, **kwargs)\u001b[0m\n\u001b[1;32m   4780\u001b[0m \u001b[38;5;28;01mdef\u001b[39;00m \u001b[38;5;21mapply\u001b[39m(\n\u001b[1;32m   4781\u001b[0m     \u001b[38;5;28mself\u001b[39m,\n\u001b[1;32m   4782\u001b[0m     func: AggFuncType,\n\u001b[0;32m   (...)\u001b[0m\n\u001b[1;32m   4787\u001b[0m     \u001b[38;5;241m*\u001b[39m\u001b[38;5;241m*\u001b[39mkwargs,\n\u001b[1;32m   4788\u001b[0m ) \u001b[38;5;241m-\u001b[39m\u001b[38;5;241m>\u001b[39m DataFrame \u001b[38;5;241m|\u001b[39m Series:\n\u001b[1;32m   4789\u001b[0m \u001b[38;5;250m    \u001b[39m\u001b[38;5;124;03m\"\"\"\u001b[39;00m\n\u001b[1;32m   4790\u001b[0m \u001b[38;5;124;03m    Invoke function on values of Series.\u001b[39;00m\n\u001b[1;32m   4791\u001b[0m \n\u001b[0;32m   (...)\u001b[0m\n\u001b[1;32m   4906\u001b[0m \u001b[38;5;124;03m    dtype: float64\u001b[39;00m\n\u001b[1;32m   4907\u001b[0m \u001b[38;5;124;03m    \"\"\"\u001b[39;00m\n\u001b[1;32m   4908\u001b[0m     \u001b[38;5;28;01mreturn\u001b[39;00m \u001b[43mSeriesApply\u001b[49m\u001b[43m(\u001b[49m\n\u001b[1;32m   4909\u001b[0m \u001b[43m        \u001b[49m\u001b[38;5;28;43mself\u001b[39;49m\u001b[43m,\u001b[49m\n\u001b[1;32m   4910\u001b[0m \u001b[43m        \u001b[49m\u001b[43mfunc\u001b[49m\u001b[43m,\u001b[49m\n\u001b[1;32m   4911\u001b[0m \u001b[43m        \u001b[49m\u001b[43mconvert_dtype\u001b[49m\u001b[38;5;241;43m=\u001b[39;49m\u001b[43mconvert_dtype\u001b[49m\u001b[43m,\u001b[49m\n\u001b[1;32m   4912\u001b[0m \u001b[43m        \u001b[49m\u001b[43mby_row\u001b[49m\u001b[38;5;241;43m=\u001b[39;49m\u001b[43mby_row\u001b[49m\u001b[43m,\u001b[49m\n\u001b[1;32m   4913\u001b[0m \u001b[43m        \u001b[49m\u001b[43margs\u001b[49m\u001b[38;5;241;43m=\u001b[39;49m\u001b[43margs\u001b[49m\u001b[43m,\u001b[49m\n\u001b[1;32m   4914\u001b[0m \u001b[43m        \u001b[49m\u001b[43mkwargs\u001b[49m\u001b[38;5;241;43m=\u001b[39;49m\u001b[43mkwargs\u001b[49m\u001b[43m,\u001b[49m\n\u001b[0;32m-> 4915\u001b[0m \u001b[43m    \u001b[49m\u001b[43m)\u001b[49m\u001b[38;5;241;43m.\u001b[39;49m\u001b[43mapply\u001b[49m\u001b[43m(\u001b[49m\u001b[43m)\u001b[49m\n",
      "File \u001b[0;32m~/anaconda3/envs/eval/lib/python3.11/site-packages/pandas/core/apply.py:1427\u001b[0m, in \u001b[0;36mSeriesApply.apply\u001b[0;34m(self)\u001b[0m\n\u001b[1;32m   1424\u001b[0m     \u001b[38;5;28;01mreturn\u001b[39;00m \u001b[38;5;28mself\u001b[39m\u001b[38;5;241m.\u001b[39mapply_compat()\n\u001b[1;32m   1426\u001b[0m \u001b[38;5;66;03m# self.func is Callable\u001b[39;00m\n\u001b[0;32m-> 1427\u001b[0m \u001b[38;5;28;01mreturn\u001b[39;00m \u001b[38;5;28;43mself\u001b[39;49m\u001b[38;5;241;43m.\u001b[39;49m\u001b[43mapply_standard\u001b[49m\u001b[43m(\u001b[49m\u001b[43m)\u001b[49m\n",
      "File \u001b[0;32m~/anaconda3/envs/eval/lib/python3.11/site-packages/pandas/core/apply.py:1507\u001b[0m, in \u001b[0;36mSeriesApply.apply_standard\u001b[0;34m(self)\u001b[0m\n\u001b[1;32m   1501\u001b[0m \u001b[38;5;66;03m# row-wise access\u001b[39;00m\n\u001b[1;32m   1502\u001b[0m \u001b[38;5;66;03m# apply doesn't have a `na_action` keyword and for backward compat reasons\u001b[39;00m\n\u001b[1;32m   1503\u001b[0m \u001b[38;5;66;03m# we need to give `na_action=\"ignore\"` for categorical data.\u001b[39;00m\n\u001b[1;32m   1504\u001b[0m \u001b[38;5;66;03m# TODO: remove the `na_action=\"ignore\"` when that default has been changed in\u001b[39;00m\n\u001b[1;32m   1505\u001b[0m \u001b[38;5;66;03m#  Categorical (GH51645).\u001b[39;00m\n\u001b[1;32m   1506\u001b[0m action \u001b[38;5;241m=\u001b[39m \u001b[38;5;124m\"\u001b[39m\u001b[38;5;124mignore\u001b[39m\u001b[38;5;124m\"\u001b[39m \u001b[38;5;28;01mif\u001b[39;00m \u001b[38;5;28misinstance\u001b[39m(obj\u001b[38;5;241m.\u001b[39mdtype, CategoricalDtype) \u001b[38;5;28;01melse\u001b[39;00m \u001b[38;5;28;01mNone\u001b[39;00m\n\u001b[0;32m-> 1507\u001b[0m mapped \u001b[38;5;241m=\u001b[39m \u001b[43mobj\u001b[49m\u001b[38;5;241;43m.\u001b[39;49m\u001b[43m_map_values\u001b[49m\u001b[43m(\u001b[49m\n\u001b[1;32m   1508\u001b[0m \u001b[43m    \u001b[49m\u001b[43mmapper\u001b[49m\u001b[38;5;241;43m=\u001b[39;49m\u001b[43mcurried\u001b[49m\u001b[43m,\u001b[49m\u001b[43m \u001b[49m\u001b[43mna_action\u001b[49m\u001b[38;5;241;43m=\u001b[39;49m\u001b[43maction\u001b[49m\u001b[43m,\u001b[49m\u001b[43m \u001b[49m\u001b[43mconvert\u001b[49m\u001b[38;5;241;43m=\u001b[39;49m\u001b[38;5;28;43mself\u001b[39;49m\u001b[38;5;241;43m.\u001b[39;49m\u001b[43mconvert_dtype\u001b[49m\n\u001b[1;32m   1509\u001b[0m \u001b[43m\u001b[49m\u001b[43m)\u001b[49m\n\u001b[1;32m   1511\u001b[0m \u001b[38;5;28;01mif\u001b[39;00m \u001b[38;5;28mlen\u001b[39m(mapped) \u001b[38;5;129;01mand\u001b[39;00m \u001b[38;5;28misinstance\u001b[39m(mapped[\u001b[38;5;241m0\u001b[39m], ABCSeries):\n\u001b[1;32m   1512\u001b[0m     \u001b[38;5;66;03m# GH#43986 Need to do list(mapped) in order to get treated as nested\u001b[39;00m\n\u001b[1;32m   1513\u001b[0m     \u001b[38;5;66;03m#  See also GH#25959 regarding EA support\u001b[39;00m\n\u001b[1;32m   1514\u001b[0m     \u001b[38;5;28;01mreturn\u001b[39;00m obj\u001b[38;5;241m.\u001b[39m_constructor_expanddim(\u001b[38;5;28mlist\u001b[39m(mapped), index\u001b[38;5;241m=\u001b[39mobj\u001b[38;5;241m.\u001b[39mindex)\n",
      "File \u001b[0;32m~/anaconda3/envs/eval/lib/python3.11/site-packages/pandas/core/base.py:921\u001b[0m, in \u001b[0;36mIndexOpsMixin._map_values\u001b[0;34m(self, mapper, na_action, convert)\u001b[0m\n\u001b[1;32m    918\u001b[0m \u001b[38;5;28;01mif\u001b[39;00m \u001b[38;5;28misinstance\u001b[39m(arr, ExtensionArray):\n\u001b[1;32m    919\u001b[0m     \u001b[38;5;28;01mreturn\u001b[39;00m arr\u001b[38;5;241m.\u001b[39mmap(mapper, na_action\u001b[38;5;241m=\u001b[39mna_action)\n\u001b[0;32m--> 921\u001b[0m \u001b[38;5;28;01mreturn\u001b[39;00m \u001b[43malgorithms\u001b[49m\u001b[38;5;241;43m.\u001b[39;49m\u001b[43mmap_array\u001b[49m\u001b[43m(\u001b[49m\u001b[43marr\u001b[49m\u001b[43m,\u001b[49m\u001b[43m \u001b[49m\u001b[43mmapper\u001b[49m\u001b[43m,\u001b[49m\u001b[43m \u001b[49m\u001b[43mna_action\u001b[49m\u001b[38;5;241;43m=\u001b[39;49m\u001b[43mna_action\u001b[49m\u001b[43m,\u001b[49m\u001b[43m \u001b[49m\u001b[43mconvert\u001b[49m\u001b[38;5;241;43m=\u001b[39;49m\u001b[43mconvert\u001b[49m\u001b[43m)\u001b[49m\n",
      "File \u001b[0;32m~/anaconda3/envs/eval/lib/python3.11/site-packages/pandas/core/algorithms.py:1743\u001b[0m, in \u001b[0;36mmap_array\u001b[0;34m(arr, mapper, na_action, convert)\u001b[0m\n\u001b[1;32m   1741\u001b[0m values \u001b[38;5;241m=\u001b[39m arr\u001b[38;5;241m.\u001b[39mastype(\u001b[38;5;28mobject\u001b[39m, copy\u001b[38;5;241m=\u001b[39m\u001b[38;5;28;01mFalse\u001b[39;00m)\n\u001b[1;32m   1742\u001b[0m \u001b[38;5;28;01mif\u001b[39;00m na_action \u001b[38;5;129;01mis\u001b[39;00m \u001b[38;5;28;01mNone\u001b[39;00m:\n\u001b[0;32m-> 1743\u001b[0m     \u001b[38;5;28;01mreturn\u001b[39;00m \u001b[43mlib\u001b[49m\u001b[38;5;241;43m.\u001b[39;49m\u001b[43mmap_infer\u001b[49m\u001b[43m(\u001b[49m\u001b[43mvalues\u001b[49m\u001b[43m,\u001b[49m\u001b[43m \u001b[49m\u001b[43mmapper\u001b[49m\u001b[43m,\u001b[49m\u001b[43m \u001b[49m\u001b[43mconvert\u001b[49m\u001b[38;5;241;43m=\u001b[39;49m\u001b[43mconvert\u001b[49m\u001b[43m)\u001b[49m\n\u001b[1;32m   1744\u001b[0m \u001b[38;5;28;01melse\u001b[39;00m:\n\u001b[1;32m   1745\u001b[0m     \u001b[38;5;28;01mreturn\u001b[39;00m lib\u001b[38;5;241m.\u001b[39mmap_infer_mask(\n\u001b[1;32m   1746\u001b[0m         values, mapper, mask\u001b[38;5;241m=\u001b[39misna(values)\u001b[38;5;241m.\u001b[39mview(np\u001b[38;5;241m.\u001b[39muint8), convert\u001b[38;5;241m=\u001b[39mconvert\n\u001b[1;32m   1747\u001b[0m     )\n",
      "File \u001b[0;32mlib.pyx:2972\u001b[0m, in \u001b[0;36mpandas._libs.lib.map_infer\u001b[0;34m()\u001b[0m\n",
      "File \u001b[0;32m~/llama2d_opentable/lm_act_eval/lm_act_eval/evaluation_harness/helper_functions/opentable.py:29\u001b[0m, in \u001b[0;36mextract_reservation_info\u001b[0;34m(html_context, url_params)\u001b[0m\n\u001b[1;32m     13\u001b[0m \u001b[38;5;250m\u001b[39m\u001b[38;5;124;03m\"\"\"Extracts reservation information from an OpenTable confirmation page.\u001b[39;00m\n\u001b[1;32m     14\u001b[0m \u001b[38;5;124;03m\u001b[39;00m\n\u001b[1;32m     15\u001b[0m \u001b[38;5;124;03mArgs:\u001b[39;00m\n\u001b[0;32m   (...)\u001b[0m\n\u001b[1;32m     26\u001b[0m \u001b[38;5;124;03m        - User's last name (str)\u001b[39;00m\n\u001b[1;32m     27\u001b[0m \u001b[38;5;124;03m\"\"\"\u001b[39;00m\n\u001b[1;32m     28\u001b[0m \u001b[38;5;66;03m# Determine if the input is a URL or HTML content\u001b[39;00m\n\u001b[0;32m---> 29\u001b[0m \u001b[38;5;28;01mif\u001b[39;00m \u001b[43mhtml_context\u001b[49m\u001b[38;5;241;43m.\u001b[39;49m\u001b[43mstartswith\u001b[49m(\u001b[38;5;124m'\u001b[39m\u001b[38;5;124mhttp://\u001b[39m\u001b[38;5;124m'\u001b[39m) \u001b[38;5;129;01mor\u001b[39;00m html_context\u001b[38;5;241m.\u001b[39mstartswith(\u001b[38;5;124m'\u001b[39m\u001b[38;5;124mhttps://\u001b[39m\u001b[38;5;124m'\u001b[39m):\n\u001b[1;32m     30\u001b[0m     \u001b[38;5;28;01mif\u001b[39;00m url_params:\n\u001b[1;32m     31\u001b[0m         url \u001b[38;5;241m=\u001b[39m html_context \u001b[38;5;241m+\u001b[39m \u001b[38;5;124m\"\u001b[39m\u001b[38;5;124m?\u001b[39m\u001b[38;5;124m\"\u001b[39m \u001b[38;5;241m+\u001b[39m \u001b[38;5;124m\"\u001b[39m\u001b[38;5;124m&\u001b[39m\u001b[38;5;124m\"\u001b[39m\u001b[38;5;241m.\u001b[39mjoin(\u001b[38;5;124mf\u001b[39m\u001b[38;5;124m\"\u001b[39m\u001b[38;5;132;01m{\u001b[39;00mk\u001b[38;5;132;01m}\u001b[39;00m\u001b[38;5;124m=\u001b[39m\u001b[38;5;132;01m{\u001b[39;00mv\u001b[38;5;132;01m}\u001b[39;00m\u001b[38;5;124m\"\u001b[39m \u001b[38;5;28;01mfor\u001b[39;00m k, v \u001b[38;5;129;01min\u001b[39;00m url_params\u001b[38;5;241m.\u001b[39mitems())\n",
      "\u001b[0;31mAttributeError\u001b[0m: 'float' object has no attribute 'startswith'"
     ]
    }
   ],
   "source": [
    "from lm_act_eval.evaluation_harness.evaluators.sft.trajectory import TableTrajectoryEvaluator, AsyncTableTrajectoryEvaluator\n",
    "\n",
    "df_evaluator = TableTrajectoryEvaluator(cfg.sft.trajectory)"
   ]
  },
  {
   "cell_type": "code",
   "execution_count": null,
   "metadata": {},
   "outputs": [
    {
     "data": {
      "text/html": [
       "<div>\n",
       "<style scoped>\n",
       "    .dataframe tbody tr th:only-of-type {\n",
       "        vertical-align: middle;\n",
       "    }\n",
       "\n",
       "    .dataframe tbody tr th {\n",
       "        vertical-align: top;\n",
       "    }\n",
       "\n",
       "    .dataframe thead th {\n",
       "        text-align: right;\n",
       "    }\n",
       "</style>\n",
       "<table border=\"1\" class=\"dataframe\">\n",
       "  <thead>\n",
       "    <tr style=\"text-align: right;\">\n",
       "      <th></th>\n",
       "      <th>QUERY</th>\n",
       "      <th>screenshot</th>\n",
       "      <th>GOAL</th>\n",
       "      <th>HTML</th>\n",
       "    </tr>\n",
       "    <tr>\n",
       "      <th>session_id</th>\n",
       "      <th></th>\n",
       "      <th></th>\n",
       "      <th></th>\n",
       "      <th></th>\n",
       "    </tr>\n",
       "  </thead>\n",
       "  <tbody>\n",
       "    <tr>\n",
       "      <th>ce3bf1c8-371a-4adb-98e6-2cce19c1aff5</th>\n",
       "      <td>Find a restaurant with vegetarian options and ...</td>\n",
       "      <td>https://multion-client-screenshots.s3.us-east-...</td>\n",
       "      <td>**Goal**: Let\\'s play a game - You are an expe...</td>\n",
       "      <td>&lt;coroutine object opentable_extract_reservatio...</td>\n",
       "    </tr>\n",
       "    <tr>\n",
       "      <th>ce3bf1c8-371a-4adb-98e6-2cce19c1aff5</th>\n",
       "      <td>Find a restaurant with vegetarian options and ...</td>\n",
       "      <td>https://multion-client-screenshots.s3.us-east-...</td>\n",
       "      <td>**Goal**: Let\\'s play a game - You are an expe...</td>\n",
       "      <td>&lt;coroutine object opentable_extract_reservatio...</td>\n",
       "    </tr>\n",
       "    <tr>\n",
       "      <th>ce3bf1c8-371a-4adb-98e6-2cce19c1aff5</th>\n",
       "      <td>Find a restaurant with vegetarian options and ...</td>\n",
       "      <td>https://multion-client-screenshots.s3.us-east-...</td>\n",
       "      <td>**Goal**: Let\\'s play a game - You are an expe...</td>\n",
       "      <td>&lt;coroutine object opentable_extract_reservatio...</td>\n",
       "    </tr>\n",
       "    <tr>\n",
       "      <th>ce3bf1c8-371a-4adb-98e6-2cce19c1aff5</th>\n",
       "      <td>Find a restaurant with vegetarian options and ...</td>\n",
       "      <td>https://multion-client-screenshots.s3.us-east-...</td>\n",
       "      <td>**Goal**: Let\\'s play a game - You are an expe...</td>\n",
       "      <td>&lt;coroutine object opentable_extract_reservatio...</td>\n",
       "    </tr>\n",
       "    <tr>\n",
       "      <th>61477dba-c090-4218-aaf4-6e20c4a66ba0</th>\n",
       "      <td>neste site clique em lançar e depois em despes...</td>\n",
       "      <td>https://multion-client-screenshots.s3.us-east-...</td>\n",
       "      <td>**Goal**: Let\\'s play a game - You are an expe...</td>\n",
       "      <td>&lt;coroutine object opentable_extract_reservatio...</td>\n",
       "    </tr>\n",
       "    <tr>\n",
       "      <th>...</th>\n",
       "      <td>...</td>\n",
       "      <td>...</td>\n",
       "      <td>...</td>\n",
       "      <td>...</td>\n",
       "    </tr>\n",
       "    <tr>\n",
       "      <th>64cf461c-3d29-4ae1-b5d0-47af1814f9b8</th>\n",
       "      <td>open google search and look for joyfully read ...</td>\n",
       "      <td>https://multion-client-screenshots.s3.us-east-...</td>\n",
       "      <td>NA</td>\n",
       "      <td>&lt;coroutine object opentable_extract_reservatio...</td>\n",
       "    </tr>\n",
       "    <tr>\n",
       "      <th>dc25be0f-4a81-44e8-9260-6ac22c5513b1</th>\n",
       "      <td>weather in sf</td>\n",
       "      <td>https://multion-client-screenshots.s3.us-east-...</td>\n",
       "      <td>**Goal**: Let\\'s play a game - You are an expe...</td>\n",
       "      <td>&lt;coroutine object opentable_extract_reservatio...</td>\n",
       "    </tr>\n",
       "    <tr>\n",
       "      <th>dc25be0f-4a81-44e8-9260-6ac22c5513b1</th>\n",
       "      <td>weather in sf</td>\n",
       "      <td>https://multion-client-screenshots.s3.us-east-...</td>\n",
       "      <td>**Goal**: Let\\'s play a game - You are an expe...</td>\n",
       "      <td>&lt;coroutine object opentable_extract_reservatio...</td>\n",
       "    </tr>\n",
       "    <tr>\n",
       "      <th>0863e034-01c8-4d40-8d0f-3c83378f3b77</th>\n",
       "      <td>sieh nach wieviel uhr es ist in new york</td>\n",
       "      <td>https://multion-client-screenshots.s3.us-east-...</td>\n",
       "      <td>**Goal**: Let\\'s play a game - You are an expe...</td>\n",
       "      <td>&lt;coroutine object opentable_extract_reservatio...</td>\n",
       "    </tr>\n",
       "    <tr>\n",
       "      <th>0863e034-01c8-4d40-8d0f-3c83378f3b77</th>\n",
       "      <td>sieh nach wieviel uhr es ist in new york</td>\n",
       "      <td>https://multion-client-screenshots.s3.us-east-...</td>\n",
       "      <td>**Goal**: Let\\'s play a game - You are an expe...</td>\n",
       "      <td>&lt;coroutine object opentable_extract_reservatio...</td>\n",
       "    </tr>\n",
       "  </tbody>\n",
       "</table>\n",
       "<p>3382 rows × 4 columns</p>\n",
       "</div>"
      ],
      "text/plain": [
       "                                                                                  QUERY  \\\n",
       "session_id                                                                                \n",
       "ce3bf1c8-371a-4adb-98e6-2cce19c1aff5  Find a restaurant with vegetarian options and ...   \n",
       "ce3bf1c8-371a-4adb-98e6-2cce19c1aff5  Find a restaurant with vegetarian options and ...   \n",
       "ce3bf1c8-371a-4adb-98e6-2cce19c1aff5  Find a restaurant with vegetarian options and ...   \n",
       "ce3bf1c8-371a-4adb-98e6-2cce19c1aff5  Find a restaurant with vegetarian options and ...   \n",
       "61477dba-c090-4218-aaf4-6e20c4a66ba0  neste site clique em lançar e depois em despes...   \n",
       "...                                                                                 ...   \n",
       "64cf461c-3d29-4ae1-b5d0-47af1814f9b8  open google search and look for joyfully read ...   \n",
       "dc25be0f-4a81-44e8-9260-6ac22c5513b1                                      weather in sf   \n",
       "dc25be0f-4a81-44e8-9260-6ac22c5513b1                                      weather in sf   \n",
       "0863e034-01c8-4d40-8d0f-3c83378f3b77           sieh nach wieviel uhr es ist in new york   \n",
       "0863e034-01c8-4d40-8d0f-3c83378f3b77           sieh nach wieviel uhr es ist in new york   \n",
       "\n",
       "                                                                             screenshot  \\\n",
       "session_id                                                                                \n",
       "ce3bf1c8-371a-4adb-98e6-2cce19c1aff5  https://multion-client-screenshots.s3.us-east-...   \n",
       "ce3bf1c8-371a-4adb-98e6-2cce19c1aff5  https://multion-client-screenshots.s3.us-east-...   \n",
       "ce3bf1c8-371a-4adb-98e6-2cce19c1aff5  https://multion-client-screenshots.s3.us-east-...   \n",
       "ce3bf1c8-371a-4adb-98e6-2cce19c1aff5  https://multion-client-screenshots.s3.us-east-...   \n",
       "61477dba-c090-4218-aaf4-6e20c4a66ba0  https://multion-client-screenshots.s3.us-east-...   \n",
       "...                                                                                 ...   \n",
       "64cf461c-3d29-4ae1-b5d0-47af1814f9b8  https://multion-client-screenshots.s3.us-east-...   \n",
       "dc25be0f-4a81-44e8-9260-6ac22c5513b1  https://multion-client-screenshots.s3.us-east-...   \n",
       "dc25be0f-4a81-44e8-9260-6ac22c5513b1  https://multion-client-screenshots.s3.us-east-...   \n",
       "0863e034-01c8-4d40-8d0f-3c83378f3b77  https://multion-client-screenshots.s3.us-east-...   \n",
       "0863e034-01c8-4d40-8d0f-3c83378f3b77  https://multion-client-screenshots.s3.us-east-...   \n",
       "\n",
       "                                                                                   GOAL  \\\n",
       "session_id                                                                                \n",
       "ce3bf1c8-371a-4adb-98e6-2cce19c1aff5  **Goal**: Let\\'s play a game - You are an expe...   \n",
       "ce3bf1c8-371a-4adb-98e6-2cce19c1aff5  **Goal**: Let\\'s play a game - You are an expe...   \n",
       "ce3bf1c8-371a-4adb-98e6-2cce19c1aff5  **Goal**: Let\\'s play a game - You are an expe...   \n",
       "ce3bf1c8-371a-4adb-98e6-2cce19c1aff5  **Goal**: Let\\'s play a game - You are an expe...   \n",
       "61477dba-c090-4218-aaf4-6e20c4a66ba0  **Goal**: Let\\'s play a game - You are an expe...   \n",
       "...                                                                                 ...   \n",
       "64cf461c-3d29-4ae1-b5d0-47af1814f9b8                                                 NA   \n",
       "dc25be0f-4a81-44e8-9260-6ac22c5513b1  **Goal**: Let\\'s play a game - You are an expe...   \n",
       "dc25be0f-4a81-44e8-9260-6ac22c5513b1  **Goal**: Let\\'s play a game - You are an expe...   \n",
       "0863e034-01c8-4d40-8d0f-3c83378f3b77  **Goal**: Let\\'s play a game - You are an expe...   \n",
       "0863e034-01c8-4d40-8d0f-3c83378f3b77  **Goal**: Let\\'s play a game - You are an expe...   \n",
       "\n",
       "                                                                                   HTML  \n",
       "session_id                                                                               \n",
       "ce3bf1c8-371a-4adb-98e6-2cce19c1aff5  <coroutine object opentable_extract_reservatio...  \n",
       "ce3bf1c8-371a-4adb-98e6-2cce19c1aff5  <coroutine object opentable_extract_reservatio...  \n",
       "ce3bf1c8-371a-4adb-98e6-2cce19c1aff5  <coroutine object opentable_extract_reservatio...  \n",
       "ce3bf1c8-371a-4adb-98e6-2cce19c1aff5  <coroutine object opentable_extract_reservatio...  \n",
       "61477dba-c090-4218-aaf4-6e20c4a66ba0  <coroutine object opentable_extract_reservatio...  \n",
       "...                                                                                 ...  \n",
       "64cf461c-3d29-4ae1-b5d0-47af1814f9b8  <coroutine object opentable_extract_reservatio...  \n",
       "dc25be0f-4a81-44e8-9260-6ac22c5513b1  <coroutine object opentable_extract_reservatio...  \n",
       "dc25be0f-4a81-44e8-9260-6ac22c5513b1  <coroutine object opentable_extract_reservatio...  \n",
       "0863e034-01c8-4d40-8d0f-3c83378f3b77  <coroutine object opentable_extract_reservatio...  \n",
       "0863e034-01c8-4d40-8d0f-3c83378f3b77  <coroutine object opentable_extract_reservatio...  \n",
       "\n",
       "[3382 rows x 4 columns]"
      ]
     },
     "execution_count": 31,
     "metadata": {},
     "output_type": "execute_result"
    }
   ],
   "source": [
    "df_evaluator.df"
   ]
  },
  {
   "cell_type": "markdown",
   "metadata": {},
   "source": [
    "## Save/Load Data"
   ]
  },
  {
   "cell_type": "code",
   "execution_count": null,
   "metadata": {},
   "outputs": [
    {
     "ename": "",
     "evalue": "",
     "output_type": "error",
     "traceback": [
      "\u001b[1;31mFailed to start the Kernel 'eval (Python 3.11.8)'. \n",
      "\u001b[1;31mView Jupyter <a href='command:jupyter.viewOutput'>log</a> for further details. ENOSPC: no space left on device, write"
     ]
    }
   ],
   "source": [
    "# traj_df_new = traj_df.merge(eligible_traj_df, how='left')\n",
    "# traj_df_new.to_csv(dataset_path/'csv/data+gptv_eval.csv')"
   ]
  },
  {
   "cell_type": "code",
   "execution_count": null,
   "metadata": {},
   "outputs": [
    {
     "ename": "",
     "evalue": "",
     "output_type": "error",
     "traceback": [
      "\u001b[1;31mFailed to start the Kernel 'eval (Python 3.11.8)'. \n",
      "\u001b[1;31mView Jupyter <a href='command:jupyter.viewOutput'>log</a> for further details. ENOSPC: no space left on device, write"
     ]
    }
   ],
   "source": [
    "table_name = 'data+gptv_eval-eligible'\n",
    "artifact_name = 'gptv_opentable-trajectory_eval'\n",
    "eligible_traj_df.to_csv(dataset_path/f'csv/{table_name}.csv')"
   ]
  },
  {
   "cell_type": "code",
   "execution_count": null,
   "metadata": {},
   "outputs": [
    {
     "ename": "",
     "evalue": "",
     "output_type": "error",
     "traceback": [
      "\u001b[1;31mFailed to start the Kernel 'eval (Python 3.11.8)'. \n",
      "\u001b[1;31mView Jupyter <a href='command:jupyter.viewOutput'>log</a> for further details. ENOSPC: no space left on device, write"
     ]
    }
   ],
   "source": [
    "eligible_traj_df = pd.read_csv(\n",
    "  dataset_path/f'csv/{table_name}.csv', index_col=0)\n",
    "eligible_traj_df.index.name = None\n",
    "eligible_traj_df.head(2)"
   ]
  },
  {
   "cell_type": "markdown",
   "metadata": {},
   "source": [
    "Logging"
   ]
  },
  {
   "cell_type": "code",
   "execution_count": null,
   "metadata": {},
   "outputs": [
    {
     "ename": "",
     "evalue": "",
     "output_type": "error",
     "traceback": [
      "\u001b[1;31mFailed to start the Kernel 'eval (Python 3.11.8)'. \n",
      "\u001b[1;31mView Jupyter <a href='command:jupyter.viewOutput'>log</a> for further details. ENOSPC: no space left on device, write"
     ]
    }
   ],
   "source": [
    "# log data\n",
    "import wandb\n",
    "from dotenv import load_dotenv\n",
    "load_dotenv()\n",
    "wandb.login(relogin=True)"
   ]
  },
  {
   "cell_type": "code",
   "execution_count": null,
   "metadata": {},
   "outputs": [
    {
     "ename": "",
     "evalue": "",
     "output_type": "error",
     "traceback": [
      "\u001b[1;31mFailed to start the Kernel 'eval (Python 3.11.8)'. \n",
      "\u001b[1;31mView Jupyter <a href='command:jupyter.viewOutput'>log</a> for further details. ENOSPC: no space left on device, write"
     ]
    }
   ],
   "source": [
    "opentable_artifact = wandb.Artifact(\"opentable_trajectories-gptv_eval\", type=\"dataset\")\n",
    "# opentable_table = wandb.Table(dataframe=traj_df_new)\n",
    "opentable_table_eligible = wandb.Table(dataframe=eligible_traj_df)\n",
    "#\n",
    "# opentable_artifact.add(opentable_table, \"opentable\")\n",
    "opentable_artifact.add(\n",
    "  opentable_table_eligible, artifact_name)\n",
    "# opentable_artifact.add_file(str(dataset_path/'csv/data+gptv.csv'))\n",
    "opentable_artifact.add_file(str(dataset_path/f'csv/{table_name}.csv'))\n"
   ]
  },
  {
   "cell_type": "code",
   "execution_count": null,
   "metadata": {},
   "outputs": [
    {
     "ename": "",
     "evalue": "",
     "output_type": "error",
     "traceback": [
      "\u001b[1;31mFailed to start the Kernel 'eval (Python 3.11.8)'. \n",
      "\u001b[1;31mView Jupyter <a href='command:jupyter.viewOutput'>log</a> for further details. ENOSPC: no space left on device, write"
     ]
    }
   ],
   "source": [
    "# Start a W&B run to log data\n",
    "run = wandb.init(project=\"trajectory_eval\", reinit=True)\n",
    "# Log the table to visualize with a run...\n",
    "run.log({\"opentable_gptv\": opentable_table_eligible})\n",
    "\n",
    "# and Log as an Artifact to increase the available row limit!\n",
    "run.log_artifact(opentable_artifact)"
   ]
  }
 ],
 "metadata": {
  "kernelspec": {
   "display_name": "eval-dev",
   "language": "python",
   "name": "python3"
  },
  "language_info": {
   "codemirror_mode": {
    "name": "ipython",
    "version": 3
   },
   "file_extension": ".py",
   "mimetype": "text/x-python",
   "name": "python",
   "nbconvert_exporter": "python",
   "pygments_lexer": "ipython3",
   "version": "3.11.8"
  }
 },
 "nbformat": 4,
 "nbformat_minor": 2
}
