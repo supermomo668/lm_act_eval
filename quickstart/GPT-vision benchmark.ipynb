{
 "cells": [
  {
   "cell_type": "code",
   "execution_count": 1,
   "metadata": {},
   "outputs": [],
   "source": [
    "from pathlib import Path\n",
    "import os\n",
    "from dotenv import load_dotenv\n",
    "\n",
    "%load_ext autoreload\n",
    "%autoreload 2"
   ]
  },
  {
   "cell_type": "code",
   "execution_count": 2,
   "metadata": {},
   "outputs": [
    {
     "name": "stdout",
     "output_type": "stream",
     "text": [
      "/home/opadmin/llama2d_opentable/lm_act_eval\n"
     ]
    },
    {
     "data": {
      "text/plain": [
       "True"
      ]
     },
     "execution_count": 2,
     "metadata": {},
     "output_type": "execute_result"
    }
   ],
   "source": [
    "# change dir to ml repo at ml/ root (if you started in notebook/)\n",
    "os.chdir('../')\n",
    "print(Path.cwd())\n",
    "load_dotenv()"
   ]
  },
  {
   "cell_type": "code",
   "execution_count": 3,
   "metadata": {},
   "outputs": [
    {
     "name": "stderr",
     "output_type": "stream",
     "text": [
      "/home/opadmin/anaconda3/envs/eval/lib/python3.11/site-packages/tqdm/auto.py:21: TqdmWarning: IProgress not found. Please update jupyter and ipywidgets. See https://ipywidgets.readthedocs.io/en/stable/user_install.html\n",
      "  from .autonotebook import tqdm as notebook_tqdm\n"
     ]
    },
    {
     "name": "stdout",
     "output_type": "stream",
     "text": [
      "Index(['session_id', 'idx_in_session', '_id', 'event_id', 'parent_id',\n",
      "       'event_type', 'event_name', 'config', 'children_ids', 'inputs',\n",
      "       'outputs', 'error', 'start_time', 'end_time', 'metadata', 'feedback',\n",
      "       'metrics', 'user_properties', 'source', 'duration', 'project_id',\n",
      "       'tenant', 'QUERY', 'URL', 'DOM', 'RULES', 'USER_CONTEXT',\n",
      "       'PREV_ACTIONS', 'chat_history', 'CURRENT_TIME', 'planPrompt',\n",
      "       'previousActionsRepetitionPrompt', 'chat_completion_messages',\n",
      "       'ground_truth', 'screenshot', 'prompt', 'internal_metadata'],\n",
      "      dtype='object')\n"
     ]
    },
    {
     "data": {
      "text/html": [
       "<div>\n",
       "<style scoped>\n",
       "    .dataframe tbody tr th:only-of-type {\n",
       "        vertical-align: middle;\n",
       "    }\n",
       "\n",
       "    .dataframe tbody tr th {\n",
       "        vertical-align: top;\n",
       "    }\n",
       "\n",
       "    .dataframe thead th {\n",
       "        text-align: right;\n",
       "    }\n",
       "</style>\n",
       "<table border=\"1\" class=\"dataframe\">\n",
       "  <thead>\n",
       "    <tr style=\"text-align: right;\">\n",
       "      <th></th>\n",
       "      <th>session_id</th>\n",
       "      <th>idx_in_session</th>\n",
       "      <th>_id</th>\n",
       "      <th>event_id</th>\n",
       "      <th>parent_id</th>\n",
       "      <th>event_type</th>\n",
       "      <th>event_name</th>\n",
       "      <th>config</th>\n",
       "      <th>children_ids</th>\n",
       "      <th>inputs</th>\n",
       "      <th>...</th>\n",
       "      <th>PREV_ACTIONS</th>\n",
       "      <th>chat_history</th>\n",
       "      <th>CURRENT_TIME</th>\n",
       "      <th>planPrompt</th>\n",
       "      <th>previousActionsRepetitionPrompt</th>\n",
       "      <th>chat_completion_messages</th>\n",
       "      <th>ground_truth</th>\n",
       "      <th>screenshot</th>\n",
       "      <th>prompt</th>\n",
       "      <th>internal_metadata</th>\n",
       "    </tr>\n",
       "  </thead>\n",
       "  <tbody>\n",
       "    <tr>\n",
       "      <th>0</th>\n",
       "      <td>ce3bf1c8-371a-4adb-98e6-2cce19c1aff5</td>\n",
       "      <td>0</td>\n",
       "      <td>65f0c5d705cef8bdb70153a9</td>\n",
       "      <td>cc3d0d22-4759-43d8-a688-d174ca94f9dd</td>\n",
       "      <td>ce3bf1c8-371a-4adb-98e6-2cce19c1aff5</td>\n",
       "      <td>model</td>\n",
       "      <td>Model Completion</td>\n",
       "      <td>{'model': 'gpt-4-1106-preview', 'provider': 'u...</td>\n",
       "      <td>[]</td>\n",
       "      <td>{'QUERY': 'Find a restaurant with vegetarian o...</td>\n",
       "      <td>...</td>\n",
       "      <td>NaN</td>\n",
       "      <td>[]</td>\n",
       "      <td>Tuesday, March 12, 2024 at 4:14:11 PM CDT</td>\n",
       "      <td>IMPORTANT: If the objective is complex, compri...</td>\n",
       "      <td>**PREVIOUS ACTIONS Repetition**:\\n- Review the...</td>\n",
       "      <td>[{'role': 'system', 'content': '**Goal**: Let\\...</td>\n",
       "      <td>PLAN: To find a restaurant with vegetarian opt...</td>\n",
       "      <td>https://multion-client-screenshots.s3.us-east-...</td>\n",
       "      <td>NaN</td>\n",
       "      <td>NaN</td>\n",
       "    </tr>\n",
       "    <tr>\n",
       "      <th>1</th>\n",
       "      <td>ce3bf1c8-371a-4adb-98e6-2cce19c1aff5</td>\n",
       "      <td>1</td>\n",
       "      <td>65f0c60705cef8bdb70153ab</td>\n",
       "      <td>44b78fc2-24e2-40e5-b39d-e887a7129587</td>\n",
       "      <td>ce3bf1c8-371a-4adb-98e6-2cce19c1aff5</td>\n",
       "      <td>model</td>\n",
       "      <td>Model Completion</td>\n",
       "      <td>{'model': 'gpt-4-1106-preview', 'provider': 'u...</td>\n",
       "      <td>[]</td>\n",
       "      <td>{'QUERY': 'Find a restaurant with vegetarian o...</td>\n",
       "      <td>...</td>\n",
       "      <td>- I am searching for restaurants with vegetari...</td>\n",
       "      <td>[{'role': 'user', 'content': 'Find a restauran...</td>\n",
       "      <td>Tuesday, March 12, 2024 at 4:15:02 PM CDT</td>\n",
       "      <td>IMPORTANT: If the objective is complex, compri...</td>\n",
       "      <td>**PREVIOUS ACTIONS Repetition**:\\n- Review the...</td>\n",
       "      <td>[{'role': 'system', 'content': '**Goal**: Let\\...</td>\n",
       "      <td>The search for \"vegetarian\" in St. Louis has y...</td>\n",
       "      <td>https://multion-client-screenshots.s3.us-east-...</td>\n",
       "      <td>NaN</td>\n",
       "      <td>NaN</td>\n",
       "    </tr>\n",
       "  </tbody>\n",
       "</table>\n",
       "<p>2 rows × 37 columns</p>\n",
       "</div>"
      ],
      "text/plain": [
       "                             session_id idx_in_session  \\\n",
       "0  ce3bf1c8-371a-4adb-98e6-2cce19c1aff5              0   \n",
       "1  ce3bf1c8-371a-4adb-98e6-2cce19c1aff5              1   \n",
       "\n",
       "                        _id                              event_id  \\\n",
       "0  65f0c5d705cef8bdb70153a9  cc3d0d22-4759-43d8-a688-d174ca94f9dd   \n",
       "1  65f0c60705cef8bdb70153ab  44b78fc2-24e2-40e5-b39d-e887a7129587   \n",
       "\n",
       "                              parent_id event_type        event_name  \\\n",
       "0  ce3bf1c8-371a-4adb-98e6-2cce19c1aff5      model  Model Completion   \n",
       "1  ce3bf1c8-371a-4adb-98e6-2cce19c1aff5      model  Model Completion   \n",
       "\n",
       "                                              config children_ids  \\\n",
       "0  {'model': 'gpt-4-1106-preview', 'provider': 'u...           []   \n",
       "1  {'model': 'gpt-4-1106-preview', 'provider': 'u...           []   \n",
       "\n",
       "                                              inputs  ...  \\\n",
       "0  {'QUERY': 'Find a restaurant with vegetarian o...  ...   \n",
       "1  {'QUERY': 'Find a restaurant with vegetarian o...  ...   \n",
       "\n",
       "                                        PREV_ACTIONS  \\\n",
       "0                                                NaN   \n",
       "1  - I am searching for restaurants with vegetari...   \n",
       "\n",
       "                                        chat_history  \\\n",
       "0                                                 []   \n",
       "1  [{'role': 'user', 'content': 'Find a restauran...   \n",
       "\n",
       "                                CURRENT_TIME  \\\n",
       "0  Tuesday, March 12, 2024 at 4:14:11 PM CDT   \n",
       "1  Tuesday, March 12, 2024 at 4:15:02 PM CDT   \n",
       "\n",
       "                                          planPrompt  \\\n",
       "0  IMPORTANT: If the objective is complex, compri...   \n",
       "1  IMPORTANT: If the objective is complex, compri...   \n",
       "\n",
       "                     previousActionsRepetitionPrompt  \\\n",
       "0  **PREVIOUS ACTIONS Repetition**:\\n- Review the...   \n",
       "1  **PREVIOUS ACTIONS Repetition**:\\n- Review the...   \n",
       "\n",
       "                            chat_completion_messages  \\\n",
       "0  [{'role': 'system', 'content': '**Goal**: Let\\...   \n",
       "1  [{'role': 'system', 'content': '**Goal**: Let\\...   \n",
       "\n",
       "                                        ground_truth  \\\n",
       "0  PLAN: To find a restaurant with vegetarian opt...   \n",
       "1  The search for \"vegetarian\" in St. Louis has y...   \n",
       "\n",
       "                                          screenshot prompt  internal_metadata  \n",
       "0  https://multion-client-screenshots.s3.us-east-...    NaN                NaN  \n",
       "1  https://multion-client-screenshots.s3.us-east-...    NaN                NaN  \n",
       "\n",
       "[2 rows x 37 columns]"
      ]
     },
     "execution_count": 3,
     "metadata": {},
     "output_type": "execute_result"
    }
   ],
   "source": [
    "# read dataset into datasets\n",
    "from datasets import Dataset\n",
    "import pandas as pd\n",
    "dataset_name = \"five-star-trajectories\"\n",
    "dataset_path = Path(f\"lm_act_eval/.cache/{dataset_name }\")\n",
    "traj_df = pd.read_csv(dataset_path/\"csv/data.csv\")\n",
    "traj_dataset = Dataset.from_pandas(traj_df)\n",
    "print(traj_df.columns)\n",
    "traj_df[traj_df.session_id==traj_df.session_id.unique()[0]]\n",
    "traj_df.head(2)"
   ]
  },
  {
   "cell_type": "code",
   "execution_count": 6,
   "metadata": {},
   "outputs": [],
   "source": [
    "from lm_act_eval.evaluation_harness.helper_functions.multion import (\n",
    "  action_prefix,\n",
    "  clean_extracted_text,\n",
    "  \n",
    "  \n",
    "  extract_thought,\n",
    "  extract_action,\n",
    "  extract_explanation,\n",
    "  ParseChatCompletion\n",
    ")\n",
    "from lm_act_eval.evaluation_harness.utils.url import is_screenshot_url_accessible"
   ]
  },
  {
   "cell_type": "code",
   "execution_count": null,
   "metadata": {},
   "outputs": [],
   "source": [
    "# for i in [\n",
    "#   traj_df.ground_truth,\n",
    "#   traj_df.chat_completion_messages,\n",
    "#   traj_df.screenshot\n",
    "#   ]:\n",
    "#   print(i[0].replace('\\n\\n','\\n'))\n",
    "#   print(\"\")\n",
    "  "
   ]
  },
  {
   "cell_type": "code",
   "execution_count": null,
   "metadata": {},
   "outputs": [],
   "source": [
    "from typing import Callable\n",
    "from tqdm import tqdm"
   ]
  },
  {
   "cell_type": "code",
   "execution_count": null,
   "metadata": {},
   "outputs": [
    {
     "name": "stderr",
     "output_type": "stream",
     "text": [
      "determine URL accessibility: 100%|██████████| 3382/3382 [1:02:27<00:00,  1.11s/it]"
     ]
    },
    {
     "name": "stdout",
     "output_type": "stream",
     "text": [
      "4.376108811354229\n"
     ]
    },
    {
     "name": "stderr",
     "output_type": "stream",
     "text": [
      "\n"
     ]
    }
   ],
   "source": [
    "def criteria(eligibility_func: callable, cols: list, description: str=None):\n",
    "  return pd.Series([eligibility_func(item) for item in tqdm(traj_df[cols], desc=description)])\n",
    "def is_eligible():  \n",
    "  # Apply the function to each URL in the column\n",
    "  is_screenshot_accessible = criteria(is_screenshot_url_accessible, 'screenshot',\"determine URL accessibility\")\n",
    "  return is_screenshot_accessible\n",
    "\n",
    "eligible = is_eligible()\n",
    "# Calculate the percentage of accessible URLs\n",
    "percentage_accessible = (eligible.sum() / len(traj_df)) * 100\n",
    "print(percentage_accessible)\n"
   ]
  },
  {
   "cell_type": "code",
   "execution_count": null,
   "metadata": {},
   "outputs": [
    {
     "name": "stdout",
     "output_type": "stream",
     "text": [
      "<class 'finetuning.finetuning.evaluate.evaluators.vision.config.gptv_config'>\n"
     ]
    }
   ],
   "source": [
    "from finetuning.finetuning.evaluate.evaluators.vision import GPTV \n",
    "from finetuning.finetuning.evaluate.evaluators.vision.config import gptv_config\n",
    "gptv_pipeline = GPTV(gptv_config)"
   ]
  },
  {
   "cell_type": "code",
   "execution_count": null,
   "metadata": {},
   "outputs": [],
   "source": [
    "from transformers import PreTrainedModel, PretrainedConfig\n",
    "from transformers.modeling_outputs import BaseModelOutput\n",
    "import requests\n",
    "\n",
    "class CustomAPIModel(PreTrainedModel):\n",
    "    config_class = PretrainedConfig\n",
    "\n",
    "    def __init__(self, config, api_endpoint):\n",
    "        super().__init__(config)\n",
    "        # Initialize any necessary components of the Hugging Face model here.\n",
    "        self.api_endpoint = api_endpoint\n",
    "\n",
    "    def forward(self, payload ):\n",
    "        \"\"\"\n",
    "        # Here, instead of the traditional forward pass, we're making an API call.\n",
    "        # Construct the payload for the API call.\n",
    "        \"\"\"\n",
    "        # Make the API call\n",
    "        response = requests.post(\n",
    "          self.api_endpoint, json=payload)\n",
    "\n",
    "        if response.status_code == 200:\n",
    "            api_result = response.json()\n",
    "            # You can process the result from the API as needed here.\n",
    "            # For simplicity, we're returning it directly.\n",
    "            return BaseModelOutput(\n",
    "                last_hidden_state=api_result  # Placeholder: adapt as necessary based on the API's response structure\n",
    "            )\n",
    "        else:\n",
    "            raise Exception(f\"API call failed with status code {response.status_code}\")\n",
    "\n",
    "    @classmethod\n",
    "    def from_pretrained(cls, *args, **kwargs):\n",
    "        # Override the from_pretrained method if necessary.\n",
    "        # This is where you'd handle loading pre-trained weights, which may not be applicable in this custom setup.\n",
    "        # For simplicity, we'll just return an instance without loading pre-trained weights.\n",
    "        config = PretrainedConfig()\n",
    "        return cls(config)"
   ]
  },
  {
   "cell_type": "code",
   "execution_count": null,
   "metadata": {},
   "outputs": [],
   "source": [
    "eligible_traj_df = traj_df[eligible]\n",
    "len(eligible_traj_df)"
   ]
  },
  {
   "cell_type": "code",
   "execution_count": null,
   "metadata": {},
   "outputs": [],
   "source": [
    "groundtruth, chat_completions, screenshots = eligible_traj_df.ground_truth, eligible_traj_df.chat_completion_messages, eligible_traj_df.screenshot\n",
    "eligible_idx = eligible_traj_df.index"
   ]
  },
  {
   "cell_type": "code",
   "execution_count": null,
   "metadata": {},
   "outputs": [],
   "source": [
    "chat_completions_processed = chat_completions.apply(lambda s: ParseChatCompletion().parse_as_json(s))"
   ]
  },
  {
   "cell_type": "code",
   "execution_count": null,
   "metadata": {},
   "outputs": [
    {
     "data": {
      "text/plain": [
       "'**Goal**: Let\\'s play a game - You are an expert agent named MULTI·ON developed by \"MultiOn\" controlling a browser (you are not just a language model anymore). \\n\\nYou are given:\\n1. An objective that you are trying to achieve\\n2. The URL of your current web page\\n3. A simplified text description of what\\'s visible in the browser window (more on that below)\\n\\n**Actions**:\\nChoose from these actions: COMMANDS, ANSWER, or ASK_USER_HELP. If the user seeks information and you know the answer based on prior knowledge or the page content, answer without issuing commands.\\n\\n1. COMMANDS: Start with “COMMANDS:\\n”. Use simple commands like CLICK <id>, TYPE <id> \"<text>\", or SUBMIT <id>. <id> is a number for an item on the webpage. After commands, write an explanation with \"EXPLANATION: I am\" followed by a summary of your goal (do not mention low-level details like IDs). Each command should be on a new line. In outputs, use only the integer part of the ID, without brackets or other characters (e.g., <id=123> should be 123).\\nYou have access to the following commands:\\n- GOTO_URL X - set the URL to X (only use this at the start of the command list)\\n- CLICK X - click on a given element. You can only click on links, buttons, and inputs!\\n- TYPE X \"TEXT\" - type the specified text into the input with id X\\n- SUBMIT X - presses ENTER to submit the form or search query (highly preferred if the input is a search box)\\n- CLEAR X - clears the text in the input with id X (use to clear previously typed text)\\n- SCROLL_UP X - scroll up X pages\\n- SCROLL_DOWN X - scroll down X pages\\n- WAIT - wait 5ms on a page (this will refresh the page, so don\\'t issue any subsequent command)\\n\\nDo not issue any commands besides those given above and only use the specified command language spec.\\n\\n2. ANSWER: If you know the answer, start with “ANSWER: ”.\\n\\n3. ASK_USER_HELP: If you need the user\\'s help, start with “ASK_USER_HELP: ”. No need for explanations here. Finish with \"STATUS: NOT SURE\". Example of how to ask for help: \"ASK_USER_HELP: I need help with this....\\n\\nSTATUS: NOT SURE\".\\n\\n**Interacting with Menus**:\\n- Click to open a menu and wait. Pick options carefully.\\n- Don\\'t rush or open multiple menus at once.\\n- Always remember to select the correct option from the dropdown (using \"CLICK\") before moving to the next menu\\n\\n**Status Update**:\\nAfter the response (always at the end of the response), on a newline, write your current task status of achieving the objective:\\n- “STATUS: DONE” if the task is finished.\\n- “STATUS: CONTINUE” with a suggestion for the next action if the task isn\\'t finished.\\n- “STATUS: NOT SURE” if you\\'re unsure and need help. Also, ask the user for help or more information. Also use this status when you asked a question to the user and are waiting for a response.\\n- “STATUS: WRONG” if the user\\'s request seems incorrect. Also, clarify the user intention.\\n\\nIf the objective has been achieved already based on the previous actions, browser content, or chat history, then the task is finished. Remember, ALWAYS include a status in your output!\\n\\n**Research or Information Gathering Technique**:\\nWhen you need to research or collect information:\\n- Begin by locating the information, which may involve visiting websites or searching online.\\n- Scroll through the page to uncover the necessary details.\\nUpon finding the relevant information, pause scrolling. Summarize the main points using the Memorization Technique. You may continue to scroll for additional information if needed.\\n- Utilize this summary to complete your task.\\n- If the information isn\\'t on the page, note, \"EXPLANATION: I checked the page but found no relevant information. I will search on another page.\" Proceed to a new page and repeat the steps.\\n\\n**Memorization Technique**:\\nSince you don\\'t have a memory, for tasks requiring memorization:\\n- First, be sure of what you want to memorize.\\n- Start the memory with: \"EXPLANATION: Memorizing the following information: ...\".\\n- This is the only way you have to remember things.\\n- Example of how to create a memory: \"EXPLANATION: Memorizing the following information: The information you want to memorize.\\n\\nCOMMANDS:\\nSCROLL_DOWN 1\\n\\nSTATUS: CONTINUE\"\\n- If you need to count the memorized information, use the \"Counting Technique\".\\n\\n**Browser Context**:\\nThe format of the browser content is highly simplified; all formatting elements are stripped.\\nInteractive elements such as links, inputs, buttons are represented like this:\\n- <l id=1>text -> meaning it\\'s a <link> containing the text\\n- <b id=2>text -> meaning it\\'s a <button> containing the text\\n- <i id=3>text -> meaning it\\'s an <input> containing the text\\n- <s id=4>text -> meaning it\\'s an <select> containing the text\\n- <li id=5>text -> meaning it\\'s a <li> containing the text\\n- <t id=6>text -> meaning it\\'s a <text> containing the text\\nImages are rendered as their alt text like this:\\n- <img id=7 alt=\"\"/>\\nAn active element that is currently focused on is represented like this:\\n- <active-i id=3> -> meaning that the <input> with id 3 is currently focused on\\n- <active-s id=4> -> meaning that the <select> with id 4 is currently focused on\\nRemember this format of the browser content!\\n\\n**Counting Technique**:\\nFor tasks/objectives that require counting:\\n- List each item as you count, like \"1. ...\\n2. ...\\n3. ...\".\\n- Writing down each count makes it easier to keep track.\\n- This way, you\\'ll count accurately and remember the numbers better.\\n- For example: \"EXPLANATION: Memorizing the following information: The information you want to memorize:\\n1. ...\\n2. ...\\n3. ...\\netc..\\n\\nCOMMANDS:\\nSCROLL_DOWN 1\\n\\nSTATUS: CONTINUE\"\\n\\n**Scroll Context** (SUPER IMPORTANT FOR SCROLL_UP and SCROLL_DOWN COMMANDS):\\n- When you perform a SCROLL_UP or SCROLL_DOWN COMMAND and you need to memorize the information, you must use the \"Memorization Technique\" to memorize the information.\\n- If you need to memorize information but you didn\\'t find it while scrolling, you must say: \"EXPLANATION: Im going to keep scrolling to find the information I need so I can memorize it.\"\\n- Example of how to scroll and memorize: \"EXPLANATION: Memorizing the following information: The information you want to memorize while scrolling...\\n\\nCOMMANDS:\\nSCROLL_DOWN 1\\n\\nSTATUS: CONTINUE\"\\n- Example of when you need to scroll and memorize but you didn\\'t find the information: \"COMMANDS:\\nSCROLL_DOWN 1\\nEXPLANATION: I\\'m going to keep scrolling to find the information I need so I can memorize it.\\n\\nSTATUS: CONTINUE\"\\n- If you need to count the memorized information, you must use the \"Counting Technique\". For example: \"EXPLANATION: Memorizing the following information: The information you want to memorize while scrolling:\\n1. ...\\n2. ...\\n3. ...\\netc..\\n\\nCOMMANDS:\\nSCROLL_DOWN 1\\n\\nSTATUS: CONTINUE\"\\n\\nUse the USER CONTEXT data for any user personalization. Don\\'t use the USER CONTEXT data if it is not relevant to the task.\\n\\nuserAddress: 9926 Tesson Creek Estates Rd;\\nuserEmail: edmund.martin.mills@gmail.com;\\nuserName: Edmund Mills;\\nuserNotes: I am vegan, never order me any foods containing animal products.\\n\\nIf I tell you to buy something, get the purchase ready to execute, then check in with me about making the purchase.;\\n\\n**Credentials Context**:\\nFor pages that need credentials/handle to login, you need to:\\n- First go to the page and check if the user is already logged in\\n- If the user is not logged in, then you must ask the user for the credentials\\n- Never ask the user for credentials or handle before checking if the user is already logged in\\n\\n**Important Notes**:\\n- If you don\\'t know any information regarding the user, ALWAYS ask the user for help to provide the info. NEVER guess or use a placeholder.\\n- Don\\'t guess. If unsure, ask the user.\\n- Avoid repeating actions. If stuck, seek user input. If you have already provided a response, don\\'t provide it again.\\n- Use past information to help answer questions or decide next steps.\\n- If repeating previous actions, you\\'re likely stuck. Ask for help.\\n- Choose commands that best move you towards achieving the goal.\\n- To visit a website, use GOTO_URL with the exact URL.\\n- After using WAIT (which refreshes the page), don\\'t issue more commands in that step.\\n- Use information from earlier actions to wrap up the task or move forward.\\n- For focused text boxes (shown as <active-t id=X>), use their ID with the TYPE command.\\n- To fill a combobox: type, wait, retry if needed, then select from the dropdown.\\n- Only type in search bars when needed.\\n- Use element IDs for commands and don\\'t interact with elements you can\\'t see. Put each command on a new line.\\n- For Google searches, use: \"COMMANDS:\\nGOTO_URL https://www.google.com/search?q=QUERY\", with QUERY being what you\\'re searching for.\\n- When you want to perform a SCROLL_UP or SCROLL_DOWN action, always use the \"Scroll Context\".\\n\\n------------------\\nRULES:\\n\\nSystem Rules:\\n- First search for the restaurant using the search bars. After searching for the restaurant, click on Find a table button\\n\\nDO NOT EVER MODIFY the url when selecting or searching for the restaurant. Search for the restaurant using the search bars.\\n\\nIf you are on a restaurant page, only then set the guests, date, and time DIRECTLY by modifying the URL in the address bar to include guests, date, and time. \\n\\nONLY Modify URL in the address bar to include guests, date, and time. Adjust parameters: covers= for guests, dateTime= for date and time in format YYYY-MM-DD+HH:MM.\\n- If user asked for availability then return the available slots and send status DONE.\\n\\nselect your desired time slot without using the time picker. (Do not click on any Dropdown). If \\'select a time\\' is not visible then scroll down. if the time slot is not available then ask user for help.\\n- Fill in all required fields contact information. (DO NOT make up or enter information which wasn\\'t provided by the user in User Context). For phone numbers, omit the country code and enter the whole 10 digit number. Ignore any special requests or optional fields. Request missing information if necessary.\\n- Once all details are correctly entered, click the \\'Reserve\\' button to complete the booking. Ensure that a confirmation of the reservation is received. If you see a Thanks message that means the booking is complete and send STATUS DONE\\n- Do not click sign in or log in unless asked by the user\\n- Ask the user for seating options if more than one available and no preferences are specified\\n------------------\\nSESSION MESSAGES (All the commands and actions executed by MultiOn, the given user objectives and browser context)\\n\\nNo session messages yet\\n\\n------------------\\nEND OF SESSION MESSAGES\\n------------------\\nCURRENT BROWSER CONTENT:\\n------------------\\n<b id=0 aria-label=\"Next\"/>\\n<b id=1 aria-label=\"Toggle location picker\"/>\\n<t id=2>Find your table for any occasion/>\\n<b id=3 aria-label=\"Date selector\" html_id=\"search-autocomplete-day-picker\" html_id=\"search-autocomplete-day-picker-label\">Mar 16, 2024/>\\n<s id=4 aria-label=\"Time selector\">12:00 PM/>\\n<t id=5>12:00 PM/>\\n<s id=6 aria-label=\"Party size selector\">2 people/>\\n<t id=7>2 people/>\\n<b id=8 role=\"combobox\" html_id=\"home-page-autocomplete-label\"/>\\n<i id=9 placeholder=\"Location, Restaurant, or Cuisine\" aria-label=\"Please input a Location, Restaurant or Cuisine\" html_id=\"home-page-autocomplete-input\"> />\\n<b id=10 aria-label=\"Let’s go\">Let’s go/>\\n<l id=11 href=\"link_1\" src=\"link_2\" alt=\"A photo of Ruth\\'s Chris Steak House - St. Louis restaurant\" title=\"\" role=\"img\" aria-label=\"4.4 stars\">Promoted Ruth\\'s Chris Steak House - St. Louis 1950 reviews Steakhouse Price: Very Expensive St. Louis Booked 23 times today +1,000 pts +1,000 pts +1,000 pts/>\\n<l id=12 href=\"link_3\" aria-label=\"4:30 PM Reserve table at Ruth\\'s Chris Steak House - St. Louis restaurant\">4:30 PM/>\\n<l id=13 href=\"link_4\" aria-label=\"4:45 PM Reserve table at Ruth\\'s Chris Steak House - St. Louis restaurant\">4:45 PM/>\\n<l id=14 href=\"link_5\" aria-label=\"5:00 PM Reserve table at Ruth\\'s Chris Steak House - St. Louis restaurant\">5:00 PM/>\\n<l id=15 href=\"link_6\" src=\"link_7\" alt=\"A photo of 801 Chophouse - St. Louis restaurant\" title=\"\" role=\"img\" aria-label=\"4.7 stars\">801 Chophouse - St. Louis 3297 reviews Steakhouse Price: Very Expensive Clayton Booked 31 times today +1,000 pts/>\\n<l id=16 href=\"link_8\" aria-label=\"4:30 PM Reserve table at 801 Chophouse - St. Louis restaurant\">4:30 PM/>\\n<l id=17 href=\"link_9\" aria-label=\"4:45 PM Reserve table at 801 Chophouse - St. Louis restaurant\">4:45 PM/>\\n<l id=18 href=\"link_10\" aria-label=\"5:00 PM Reserve table at 801 Chophouse - St. Louis restaurant\">5:00 PM/>\\n<l id=19 href=\"link_11\" src=\"link_12\" alt=\"A photo of 801 Local restaurant\" title=\"\" role=\"img\" aria-label=\"4.6 stars\">801 Local 818 reviews American Price: Expensive Frontenac Booked 28 times today +1,000 pts +1,000 pts +1,000 pts/>\\n<l id=20 href=\"link_13\" aria-label=\"4:30 PM Reserve table at 801 Local restaurant\">4:30 PM/>\\n<l id=21 href=\"link_14\" aria-label=\"4:45 PM Reserve table at 801 Local restaurant\">4:45 PM/>\\n<l id=22 href=\"link_15\" aria-label=\"5:00 PM Reserve table at 801 Local restaurant\">5:00 PM/>\\n<l id=23 href=\"link_16\" src=\"link_17\" alt=\"A photo of Trattoria Toscana restaurant\" title=\"\" role=\"img\" aria-label=\"4.8 stars\">Trattoria Toscana 438 reviews Italian Price: Moderate Sunset Hills Booked 7 times today/>\\n<l id=24 href=\"link_18\" aria-label=\"Select table type for reservation at Trattoria Toscana restaurant\">5:00 PM/>\\n<l id=25 href=\"link_19\" aria-label=\"Select table type for reservation at Trattoria Toscana restaurant\">5:15 PM/>\\n<l id=26 href=\"link_20\" src=\"link_21\" alt=\"A photo of The Capital Grille - St. Louis - Clayton restaurant\" title=\"\" role=\"img\" aria-label=\"4.8 stars\">Promoted The Capital Grille - St. Louis - Clayton 1908 reviews Steakhouse Price: Very Expensive Clayton Booked 46 times today/>\\n<l id=27 href=\"link_22\" aria-label=\"4:30 PM Reserve table at The Capital Grille - St. Louis - Clayton restaurant\">4:30 PM/>\\n<l id=28 href=\"link_23\" aria-label=\"4:45 PM Reserve table at The Capital Grille - St. Louis - Clayton restaurant\">4:45 PM/>\\n<l id=29 href=\"link_24\" aria-label=\"5:00 PM Reserve table at The Capital Grille - St. Louis - Clayton restaurant\">5:00 PM/>\\n<l id=30 href=\"link_25\" aria-label=\"Select table type for reservation at Acero restaurant\">5:00 PM/>\\n<b id=31>For Businesses/>\\n<b id=32 aria-label=\"\" title=\"\">Mobile/>\\n<b id=33>Get help/>\\n<b id=34>FAQs/>\\n<b id=35 aria-label=\"\" title=\"Language Picker\">EN/>\\n<l id=36 href=\"link_26\" src=\"link_27\" alt=\"OpenTable logo\"/>\\n<b id=37>Sign in/>\\n<b id=38 aria-label=\"search\" title=\"search\" role=\"img\" role=\"presentation\"/>\\n<t id=39>It looks like you\\'re in South County. Not correct?/>\\n<b id=40 aria-label=\"Get current location\">Get current location/>\\n<t id=41>Available for dinner now/>\\n<l id=42 href=\"link_28\">View all/>\\n<scroll down>\\n------------------\\nEND OF BROWSER CONTENT\\n------------------\\nCURRENT PLAN:\\n\\nNo plan yet\\n\\n\\n------------------\\nLAST ACTIONS (This are the last actions/commands made by you):\\n\\nNo actions yet\\n\\n------------------\\n\\nCURRENT USER OBJECTIVE: \"Find a restaurant with vegetarian options and show me the menu\"\\n------------------\\nCURRENT URL: \"https://www.opentable.com/\"\\nCURRENT TIME: Tuesday, March 12, 2024 at 4:14:11 PM CDT\\nUSER EMAIL: \"edmund.martin.mills@gmail.com\"\\n\\nIMPORTANT: If the objective is complex, comprising of more than one task, do the following:\\n- Begin your response with \"PLAN: ...\" followed by a detailed, step-by-step guide outlining all necessary steps to complete the task. Incorporate specific COMMANDS and ACTIONS. Reference relevant techniques as needed, such as the \"Research or Information Gathering Technique\" for research tasks, the \"Memorization Technique\" for tasks requiring memory, the \"Reading Technique\" for reading assignments, the \"Counting Technique\" for counting tasks and the \"Scroll Context\" for scrolling tasks.\\n- Include solutions for any potential challenges.\\n- The goal is to formulate a comprehensive plan before initiating any COMMANDS or ACTIONS to tackle complex objectives effectively.\\n- Proceed with the COMMANDS/ACTIONS after laying out the plan.\\n- This method should only be employed for complex tasks\\n- Aim for the quickest possible achievement of the objective, leveraging your intelligence and precision.\\nAfter completing an action, state what you acomplished to keep track and avoid repetition. If you achieve the goal, announce it with \"EXPLANATION: ...\", conclude with \"STATUS: DONE\", and consider the task completed. There might be more objectives from the user to tackle next.\\nYou must follow the \"RULES/System Rules\" exactly as they are written. If they say you can not do something, then you can not do it.\\nSince you can\\'t remember things on your own, always use the \"Memorization Technique\" to keep track of important details. For finding information, follow the \"Research or Information Gathering Technique\". When reading, apply the \"Reading Technique\". For scrolling, use the \"Scroll Context\". You can\\'t repeat actions (this will prevent you for going through loops) Finish all your responses with \"STATUS: ...\", and don\\'t end with commands or actions—just \"STATUS: ...\". Work quickly and smartly to complete your goal; you\\'re really good at this!\\n'"
      ]
     },
     "execution_count": 21,
     "metadata": {},
     "output_type": "execute_result"
    }
   ],
   "source": [
    "traj_df.chat_completion_messages.apply(lambda s: ParseChatCompletion().parse_as_json(s))[0]"
   ]
  },
  {
   "cell_type": "code",
   "execution_count": null,
   "metadata": {},
   "outputs": [],
   "source": [
    "import warnings\n",
    "\n",
    "completion_responses = []\n",
    "for i in tqdm(eligible_idx, desc=\"Generating completions\"):\n",
    "  completion = gptv_pipeline.generate_completion(\n",
    "    chat_completions_processed[i],\n",
    "    screenshots[i]\n",
    "  )\n",
    "  if len(completion) > 1:\n",
    "    warnings.warn(\"Completion length more than 0 is unexpected\")\n",
    "  completion_responses.append(completion[0].message.content)"
   ]
  },
  {
   "cell_type": "code",
   "execution_count": null,
   "metadata": {},
   "outputs": [],
   "source": [
    "eligible_traj_df.loc[:, 'GPTV response'] = completion_responses"
   ]
  },
  {
   "cell_type": "code",
   "execution_count": null,
   "metadata": {},
   "outputs": [],
   "source": [
    "traj_df_new = traj_df.merge(eligible_traj_df, how='left')\n",
    "eligible_traj_df.to_csv(dataset_path/'csv/data+gptv-eligible.csv')\n",
    "traj_df_new.to_csv(dataset_path/'csv/data+gptv.csv')"
   ]
  },
  {
   "cell_type": "markdown",
   "metadata": {},
   "source": [
    "Logging"
   ]
  },
  {
   "cell_type": "code",
   "execution_count": null,
   "metadata": {},
   "outputs": [
    {
     "name": "stderr",
     "output_type": "stream",
     "text": [
      "Failed to detect the name of this notebook, you can set it manually with the WANDB_NOTEBOOK_NAME environment variable to enable code saving.\n",
      "\u001b[34m\u001b[1mwandb\u001b[0m: Logging into wandb.ai. (Learn how to deploy a W&B server locally: https://wandb.me/wandb-server)\n",
      "\u001b[34m\u001b[1mwandb\u001b[0m: You can find your API key in your browser here: https://wandb.ai/authorize\n",
      "\u001b[34m\u001b[1mwandb\u001b[0m: Paste an API key from your profile and hit enter, or press ctrl+c to quit:\u001b[34m\u001b[1mwandb\u001b[0m: Appending key for api.wandb.ai to your netrc file: /home/opadmin/.netrc\n"
     ]
    },
    {
     "data": {
      "text/plain": [
       "True"
      ]
     },
     "execution_count": 9,
     "metadata": {},
     "output_type": "execute_result"
    }
   ],
   "source": [
    "# log data\n",
    "import wandb\n",
    "from dotenv import load_dotenv\n",
    "load_dotenv()\n",
    "wandb.login(relogin=True)"
   ]
  },
  {
   "cell_type": "code",
   "execution_count": null,
   "metadata": {},
   "outputs": [],
   "source": [
    "eligible_traj_df = pd.read_csv(dataset_path/'csv/data+gptv-eligible.csv')"
   ]
  },
  {
   "cell_type": "code",
   "execution_count": null,
   "metadata": {},
   "outputs": [
    {
     "name": "stderr",
     "output_type": "stream",
     "text": [
      "\u001b[34m\u001b[1mwandb\u001b[0m: \u001b[33mWARNING\u001b[0m Serializing object of type str that is 531752 bytes\n",
      "\u001b[34m\u001b[1mwandb\u001b[0m: \u001b[33mWARNING\u001b[0m Serializing object of type str that is 517908 bytes\n",
      "\u001b[34m\u001b[1mwandb\u001b[0m: \u001b[33mWARNING\u001b[0m Serializing object of type str that is 541284 bytes\n",
      "\u001b[34m\u001b[1mwandb\u001b[0m: \u001b[33mWARNING\u001b[0m Serializing object of type str that is 525810 bytes\n",
      "\u001b[34m\u001b[1mwandb\u001b[0m: \u001b[33mWARNING\u001b[0m Serializing object of type str that is 116864 bytes\n",
      "\u001b[34m\u001b[1mwandb\u001b[0m: \u001b[33mWARNING\u001b[0m Serializing object of type str that is 121274 bytes\n",
      "\u001b[34m\u001b[1mwandb\u001b[0m: \u001b[33mWARNING\u001b[0m Serializing object of type str that is 120688 bytes\n",
      "\u001b[34m\u001b[1mwandb\u001b[0m: \u001b[33mWARNING\u001b[0m Serializing object of type str that is 124364 bytes\n",
      "\u001b[34m\u001b[1mwandb\u001b[0m: \u001b[33mWARNING\u001b[0m Serializing object of type str that is 127354 bytes\n",
      "\u001b[34m\u001b[1mwandb\u001b[0m: \u001b[33mWARNING\u001b[0m Serializing object of type str that is 129308 bytes\n",
      "\u001b[34m\u001b[1mwandb\u001b[0m: \u001b[33mWARNING\u001b[0m Serializing object of type str that is 129582 bytes\n",
      "\u001b[34m\u001b[1mwandb\u001b[0m: \u001b[33mWARNING\u001b[0m Serializing object of type str that is 135310 bytes\n",
      "\u001b[34m\u001b[1mwandb\u001b[0m: \u001b[33mWARNING\u001b[0m Serializing object of type str that is 137856 bytes\n",
      "\u001b[34m\u001b[1mwandb\u001b[0m: \u001b[33mWARNING\u001b[0m Serializing object of type str that is 137644 bytes\n",
      "\u001b[34m\u001b[1mwandb\u001b[0m: \u001b[33mWARNING\u001b[0m Serializing object of type str that is 136800 bytes\n",
      "\u001b[34m\u001b[1mwandb\u001b[0m: \u001b[33mWARNING\u001b[0m Serializing object of type str that is 139488 bytes\n",
      "\u001b[34m\u001b[1mwandb\u001b[0m: \u001b[33mWARNING\u001b[0m Serializing object of type str that is 145450 bytes\n",
      "\u001b[34m\u001b[1mwandb\u001b[0m: \u001b[33mWARNING\u001b[0m Serializing object of type str that is 143400 bytes\n",
      "\u001b[34m\u001b[1mwandb\u001b[0m: \u001b[33mWARNING\u001b[0m Serializing object of type str that is 144604 bytes\n",
      "\u001b[34m\u001b[1mwandb\u001b[0m: \u001b[33mWARNING\u001b[0m Serializing object of type str that is 148884 bytes\n",
      "\u001b[34m\u001b[1mwandb\u001b[0m: \u001b[33mWARNING\u001b[0m Serializing object of type str that is 144942 bytes\n",
      "\u001b[34m\u001b[1mwandb\u001b[0m: \u001b[33mWARNING\u001b[0m Serializing object of type str that is 158396 bytes\n",
      "\u001b[34m\u001b[1mwandb\u001b[0m: \u001b[33mWARNING\u001b[0m Serializing object of type str that is 160856 bytes\n",
      "\u001b[34m\u001b[1mwandb\u001b[0m: \u001b[33mWARNING\u001b[0m Serializing object of type str that is 101088 bytes\n",
      "\u001b[34m\u001b[1mwandb\u001b[0m: \u001b[33mWARNING\u001b[0m Serializing object of type str that is 163330 bytes\n",
      "\u001b[34m\u001b[1mwandb\u001b[0m: \u001b[33mWARNING\u001b[0m Serializing object of type str that is 102826 bytes\n",
      "\u001b[34m\u001b[1mwandb\u001b[0m: \u001b[33mWARNING\u001b[0m Serializing object of type str that is 163974 bytes\n",
      "\u001b[34m\u001b[1mwandb\u001b[0m: \u001b[33mWARNING\u001b[0m Serializing object of type str that is 102464 bytes\n",
      "\u001b[34m\u001b[1mwandb\u001b[0m: \u001b[33mWARNING\u001b[0m Serializing object of type str that is 162444 bytes\n",
      "\u001b[34m\u001b[1mwandb\u001b[0m: \u001b[33mWARNING\u001b[0m Serializing object of type str that is 100274 bytes\n",
      "\u001b[34m\u001b[1mwandb\u001b[0m: \u001b[33mWARNING\u001b[0m Serializing object of type str that is 171034 bytes\n",
      "\u001b[34m\u001b[1mwandb\u001b[0m: \u001b[33mWARNING\u001b[0m Serializing object of type str that is 107774 bytes\n",
      "\u001b[34m\u001b[1mwandb\u001b[0m: \u001b[33mWARNING\u001b[0m Serializing object of type str that is 171514 bytes\n",
      "\u001b[34m\u001b[1mwandb\u001b[0m: \u001b[33mWARNING\u001b[0m Serializing object of type str that is 107154 bytes\n",
      "\u001b[34m\u001b[1mwandb\u001b[0m: \u001b[33mWARNING\u001b[0m Serializing object of type str that is 178978 bytes\n",
      "\u001b[34m\u001b[1mwandb\u001b[0m: \u001b[33mWARNING\u001b[0m Serializing object of type str that is 113514 bytes\n",
      "\u001b[34m\u001b[1mwandb\u001b[0m: \u001b[33mWARNING\u001b[0m Serializing object of type str that is 182604 bytes\n",
      "\u001b[34m\u001b[1mwandb\u001b[0m: \u001b[33mWARNING\u001b[0m Serializing object of type str that is 116100 bytes\n",
      "\u001b[34m\u001b[1mwandb\u001b[0m: \u001b[33mWARNING\u001b[0m Serializing object of type str that is 181408 bytes\n",
      "\u001b[34m\u001b[1mwandb\u001b[0m: \u001b[33mWARNING\u001b[0m Serializing object of type str that is 111572 bytes\n",
      "\u001b[34m\u001b[1mwandb\u001b[0m: \u001b[33mWARNING\u001b[0m Serializing object of type str that is 184360 bytes\n",
      "\u001b[34m\u001b[1mwandb\u001b[0m: \u001b[33mWARNING\u001b[0m Serializing object of type str that is 115362 bytes\n",
      "\u001b[34m\u001b[1mwandb\u001b[0m: \u001b[33mWARNING\u001b[0m Serializing object of type str that is 184852 bytes\n",
      "\u001b[34m\u001b[1mwandb\u001b[0m: \u001b[33mWARNING\u001b[0m Serializing object of type str that is 111658 bytes\n",
      "\u001b[34m\u001b[1mwandb\u001b[0m: \u001b[33mWARNING\u001b[0m Serializing object of type str that is 184348 bytes\n",
      "\u001b[34m\u001b[1mwandb\u001b[0m: \u001b[33mWARNING\u001b[0m Serializing object of type str that is 108370 bytes\n",
      "\u001b[34m\u001b[1mwandb\u001b[0m: \u001b[33mWARNING\u001b[0m Serializing object of type str that is 101956 bytes\n",
      "\u001b[34m\u001b[1mwandb\u001b[0m: \u001b[33mWARNING\u001b[0m Serializing object of type str that is 104122 bytes\n",
      "\u001b[34m\u001b[1mwandb\u001b[0m: \u001b[33mWARNING\u001b[0m Serializing object of type str that is 155904 bytes\n",
      "\u001b[34m\u001b[1mwandb\u001b[0m: \u001b[33mWARNING\u001b[0m Serializing object of type str that is 190120 bytes\n",
      "\u001b[34m\u001b[1mwandb\u001b[0m: \u001b[33mWARNING\u001b[0m Serializing object of type str that is 110260 bytes\n",
      "\u001b[34m\u001b[1mwandb\u001b[0m: \u001b[33mWARNING\u001b[0m Serializing object of type str that is 193908 bytes\n",
      "\u001b[34m\u001b[1mwandb\u001b[0m: \u001b[33mWARNING\u001b[0m Serializing object of type str that is 104770 bytes\n",
      "\u001b[34m\u001b[1mwandb\u001b[0m: \u001b[33mWARNING\u001b[0m Serializing object of type str that is 124644 bytes\n",
      "\u001b[34m\u001b[1mwandb\u001b[0m: \u001b[33mWARNING\u001b[0m Serializing object of type str that is 148592 bytes\n"
     ]
    },
    {
     "data": {
      "text/plain": [
       "ArtifactManifestEntry(path='data+gptv-eligible.csv', digest='ntwXQ/XrJitf5lp3JjCkKA==', size=14147166, local_path='/home/opadmin/.local/share/wandb/artifacts/staging/tmpqsma_gqk')"
      ]
     },
     "execution_count": 10,
     "metadata": {},
     "output_type": "execute_result"
    }
   ],
   "source": [
    "opentable_artifact = wandb.Artifact(\"opentable_trajectories_gptv.v0\", type=\"dataset\")\n",
    "# opentable_table = wandb.Table(dataframe=traj_df_new)\n",
    "opentable_table_eligible = wandb.Table(dataframe=eligible_traj_df)\n",
    "#\n",
    "# opentable_artifact.add(opentable_table, \"opentable\")\n",
    "opentable_artifact.add(opentable_table_eligible, \"opentable-eligibleonly\")\n",
    "# opentable_artifact.add_file(str(dataset_path/'csv/data+gptv.csv'))\n",
    "opentable_artifact.add_file(str(dataset_path/'csv/data+gptv-eligible.csv'))\n"
   ]
  },
  {
   "cell_type": "code",
   "execution_count": null,
   "metadata": {},
   "outputs": [],
   "source": [
    "# Start a W&B run to log data\n",
    "run = wandb.init(project=\"opentable-vision\", reinit=True)\n",
    "# Log the table to visualize with a run...\n",
    "run.log({\"opentable_gptv\": opentable_table_eligible})\n",
    "\n",
    "# and Log as an Artifact to increase the available row limit!\n",
    "run.log_artifact(opentable_artifact)"
   ]
  },
  {
   "cell_type": "markdown",
   "metadata": {},
   "source": [
    "### Eval Metrics"
   ]
  },
  {
   "cell_type": "code",
   "execution_count": null,
   "metadata": {},
   "outputs": [
    {
     "data": {
      "text/plain": [
       "0.8"
      ]
     },
     "execution_count": 91,
     "metadata": {},
     "output_type": "execute_result"
    }
   ],
   "source": [
    "from autoevals.llm import *\n",
    "from autoevals.string import Levenshtein\n",
    "import warnings\n",
    "Levenshtein()(['b'], ['a']).score"
   ]
  },
  {
   "cell_type": "code",
   "execution_count": null,
   "metadata": {},
   "outputs": [],
   "source": [
    "config_metrics = {\n",
    "    \"Actions\": {\"edit\": \"edit\"}\n",
    "}\n",
    "metric_registry = {\n",
    "    \"edit\": Levenshtein()\n",
    "}\n",
    "def evaluate(dataset):\n",
    "    \"\"\"\n",
    "    eligible dataset\n",
    "    \"\"\"\n",
    "    metric_results = []\n",
    "    for index, row in dataset[eligible].iterrows():\n",
    "        result_row = {}\n",
    "        for metric_config in config_metrics:\n",
    "            metric_name = metric_config[\"name\"]\n",
    "            if metric_registry.get(metric_name):\n",
    "                metric_func = metric_registry[metric_name]\n",
    "                result_row[metric_name] = metric_func(row)\n",
    "        metric_results.append(result_row)"
   ]
  }
 ],
 "metadata": {
  "kernelspec": {
   "display_name": "eval-dev",
   "language": "python",
   "name": "python3"
  },
  "language_info": {
   "codemirror_mode": {
    "name": "ipython",
    "version": 3
   },
   "file_extension": ".py",
   "mimetype": "text/x-python",
   "name": "python",
   "nbconvert_exporter": "python",
   "pygments_lexer": "ipython3",
   "version": "3.11.8"
  }
 },
 "nbformat": 4,
 "nbformat_minor": 2
}
