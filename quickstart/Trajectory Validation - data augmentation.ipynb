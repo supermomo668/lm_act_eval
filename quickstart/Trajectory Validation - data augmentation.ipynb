{
 "cells": [
  {
   "cell_type": "code",
   "execution_count": 1,
   "metadata": {},
   "outputs": [],
   "source": [
    "from pathlib import Path\n",
    "import os\n",
    "from dotenv import load_dotenv\n",
    "from tqdm import tqdm\n",
    "tqdm.pandas()\n",
    "%load_ext autoreload\n",
    "%autoreload 2"
   ]
  },
  {
   "cell_type": "code",
   "execution_count": 2,
   "metadata": {},
   "outputs": [
    {
     "name": "stdout",
     "output_type": "stream",
     "text": [
      "/home/opadmin/llama2d_opentable/lm_act_eval\n"
     ]
    },
    {
     "data": {
      "text/plain": [
       "True"
      ]
     },
     "execution_count": 2,
     "metadata": {},
     "output_type": "execute_result"
    }
   ],
   "source": [
    "# change dir to ml repo at ml/ root (if you started in notebook/)\n",
    "os.chdir('../')\n",
    "print(Path.cwd())\n",
    "load_dotenv()"
   ]
  },
  {
   "cell_type": "code",
   "execution_count": 3,
   "metadata": {},
   "outputs": [
    {
     "name": "stderr",
     "output_type": "stream",
     "text": [
      "/home/opadmin/anaconda3/envs/eval/lib/python3.11/site-packages/tqdm/auto.py:21: TqdmWarning: IProgress not found. Please update jupyter and ipywidgets. See https://ipywidgets.readthedocs.io/en/stable/user_install.html\n",
      "  from .autonotebook import tqdm as notebook_tqdm\n"
     ]
    },
    {
     "name": "stdout",
     "output_type": "stream",
     "text": [
      "Google Cloud not set up, skipping import of providers.gemini_utils.generate_from_gemini_completion\n",
      "Google Cloud not set up, skipping import of vertexai.preview.generative_models.Image and llms.generate_from_gemini_completion\n"
     ]
    },
    {
     "name": "stderr",
     "output_type": "stream",
     "text": [
      "/home/opadmin/anaconda3/envs/eval/lib/python3.11/site-packages/deepeval/__init__.py:41: UserWarning: You are using deepeval version 0.20.90, however version 0.21.16 is available. You should consider upgrading via the \"pip install --upgrade deepeval\" command.\n",
      "  warnings.warn(\n"
     ]
    }
   ],
   "source": [
    "from datasets import Dataset\n",
    "import pandas as pd\n",
    "from lm_act_eval.evaluation_harness.helper_functions.multion import (\n",
    "  action_prefix,\n",
    "  clean_extracted_text,\n",
    "  extract_thought,\n",
    "  extract_action,\n",
    "  extract_explanation,\n",
    "  ParseChatCompletion,\n",
    "  extract_first\n",
    ")"
   ]
  },
  {
   "cell_type": "code",
   "execution_count": 4,
   "metadata": {},
   "outputs": [
    {
     "name": "stderr",
     "output_type": "stream",
     "text": [
      "/home/opadmin/llama2d_opentable/lm_act_eval/lm_act_eval/_init_conf.py:9: UserWarning: \n",
      "The version_base parameter is not specified.\n",
      "Please specify a compatability version level, or None.\n",
      "Will assume defaults for version 1.1\n",
      "  initialize(config_path=\"../config\")\n"
     ]
    },
    {
     "data": {
      "text/plain": [
       "{'sft': {'trajectory': {'data': {'path': 'lm_act_eval/.cache/five-star-trajectories/csv/data.csv', 'columns': {'y': 'ground_truth', \"y_'\": 'GPTV_generations'}, 'extract_fs': {'QUERY': {'QUERY': None}, 'screenshot': {'screenshot': None}, 'GOAL': {'chat_completion_messages': 'parse_completion.parse_content'}}, 'logging': {'project': 'opentable', 'result': 'lm_act_eval-run', 'hugging': {'space': 'multion-agi'}}}, 'comparator': {'gpt-v': {'model': 'gpt-4-vision-preview', 'max_token': 300, 'img_fidelity': 'high'}}, 'metrics': {'gpt-v': {'inputs': ['GOAL', 'QUERY', 'screenshots'], 'args': None}, 'llm_relevancy': ['explanation']}}}}"
      ]
     },
     "execution_count": 4,
     "metadata": {},
     "output_type": "execute_result"
    }
   ],
   "source": [
    "from lm_act_eval._init_conf import init_conf\n",
    "hydra_cfg = init_conf('trajectory_eval-experiment')\n",
    "hydra_cfg"
   ]
  },
  {
   "cell_type": "code",
   "execution_count": 5,
   "metadata": {},
   "outputs": [
    {
     "name": "stdout",
     "output_type": "stream",
     "text": [
      "[{'role': 'system', 'content': '**Goal**: Let\\'s play a game - You are an expert agent named MULTI·O Index(['session_id', 'idx_in_session', '_id', 'event_id', 'parent_id',\n",
      "       'event_type', 'event_name', 'config', 'children_ids', 'inputs',\n",
      "       'outputs', 'error', 'start_time', 'end_time', 'metadata', 'feedback',\n",
      "       'metrics', 'user_properties', 'source', 'duration', 'project_id',\n",
      "       'tenant', 'QUERY', 'URL', 'DOM', 'RULES', 'USER_CONTEXT',\n",
      "       'PREV_ACTIONS', 'chat_history', 'CURRENT_TIME', 'planPrompt',\n",
      "       'previousActionsRepetitionPrompt', 'chat_completion_messages',\n",
      "       'ground_truth', 'screenshot', 'prompt', 'internal_metadata'],\n",
      "      dtype='object')\n"
     ]
    }
   ],
   "source": [
    "df = pd.read_csv(hydra_cfg.sft.trajectory.data.path)\n",
    "print(\n",
    "  df.chat_completion_messages.iloc[0][:100],\n",
    "  df.columns\n",
    ")"
   ]
  },
  {
   "cell_type": "code",
   "execution_count": 30,
   "metadata": {},
   "outputs": [],
   "source": [
    "from lm_act_eval.common.data.augmentations import *"
   ]
  },
  {
   "cell_type": "code",
   "execution_count": 27,
   "metadata": {},
   "outputs": [
    {
     "name": "stdout",
     "output_type": "stream",
     "text": [
      "('userAddress: 027 Savannah River, East Amy, SC 59069;\\nuserEmail: morrisondawn@example.net;\\nuserName: Nicholas Anderson;\\nuserNotes: I am vegan, never order me any foods containing animal products.\\n\\nIf I tell you to buy something, get the purchase ready to execute, then check in with me about making the purchase.;', {'027 Savannah River, East Amy, SC 59069': '9926 Tesson Creek Estates Rd', 'morrisondawn@example.net': 'edmund.martin.mills@gmail.com', 'Nicholas Anderson': 'Edmund Mills'})\n"
     ]
    }
   ],
   "source": [
    "usercontext_ = df.USER_CONTEXT.iloc[0:1]\n",
    "print(usercontext_.apply(randomize_user_context).iloc[0])"
   ]
  },
  {
   "cell_type": "code",
   "execution_count": 35,
   "metadata": {},
   "outputs": [
    {
     "name": "stdout",
     "output_type": "stream",
     "text": [
      "('<b id=0 aria-label=\"Next\"/>\\n<b id=1 aria-label=\"Toggle location picker\"/>\\n<t id=2>Find your table for any occasion/>\\n<b id=3 aria-label=\"Date selector\" html_id=\"search-autocomplete-day-picker\" html_id=\"search-autocomplete-day-picker-label\">Mar 16, 2024/>\\n<s id=4 aria-label=\"Time selector\">12:00 PM/>\\n<t id=5>12:00 PM/>\\n<s id=6 aria-label=\"Party size selector\">2 people/>\\n<t id=7>2 people/>\\n<b id=8 role=\"combobox\" html_id=\"home-page-autocomplete-label\"/>\\n<i id=9 placeholder=\"Location, Restaurant, or Cuisine\" aria-label=\"Please input a Location, Restaurant or Cuisine\" html_id=\"home-page-autocomplete-input\"> />\\n<b id=10 aria-label=\"Let’s go\">Let’s go/>\\n<l id=11 href=\"link_1\" src=\"link_2\" alt=\"A photo of Sawyer, Chapman and Erickson restaurant\" title=\"\" role=\"img\" aria-label=\"4.4 stars\">Promoted Sawyer, Chapman and Erickson 1950 reviews Steakhouse Price: Very Expensive St. Louis Booked 23 times today +1,000 pts +1,000 pts +1,000 pts/>\\n<l id=12 href=\"link_3\" aria-label=\"4:30 PM Reserve table at Sawyer, Chapman and Erickson restaurant\">4:30 PM/>\\n<l id=13 href=\"link_4\" aria-label=\"4:45 PM Reserve table at Sawyer, Chapman and Erickson restaurant\">4:45 PM/>\\n<l id=14 href=\"link_5\" aria-label=\"5:00 PM Reserve table at Sawyer, Chapman and Erickson restaurant\">5:00 PM/>\\n<l id=15 href=\"link_6\" src=\"link_7\" alt=\"A photo of Yoder PLC restaurant\" title=\"\" role=\"img\" aria-label=\"4.7 stars\">Yoder PLC 3297 reviews Steakhouse Price: Very Expensive Clayton Booked 31 times today +1,000 pts/>\\n<l id=16 href=\"link_8\" aria-label=\"4:30 PM Reserve table at Yoder PLC restaurant\">4:30 PM/>\\n<l id=17 href=\"link_9\" aria-label=\"4:45 PM Reserve table at Yoder PLC restaurant\">4:45 PM/>\\n<l id=18 href=\"link_10\" aria-label=\"5:00 PM Reserve table at Yoder PLC restaurant\">5:00 PM/>\\n<l id=19 href=\"link_11\" src=\"link_12\" alt=\"A photo of Foster, Hill and Simpson restaurant\" title=\"\" role=\"img\" aria-label=\"4.6 stars\">Foster, Hill and Simpson 818 reviews American Price: Expensive Frontenac Booked 28 times today +1,000 pts +1,000 pts +1,000 pts/>\\n<l id=20 href=\"link_13\" aria-label=\"4:30 PM Reserve table at Foster, Hill and Simpson restaurant\">4:30 PM/>\\n<l id=21 href=\"link_14\" aria-label=\"4:45 PM Reserve table at Foster, Hill and Simpson restaurant\">4:45 PM/>\\n<l id=22 href=\"link_15\" aria-label=\"5:00 PM Reserve table at Foster, Hill and Simpson restaurant\">5:00 PM/>\\n<l id=23 href=\"link_16\" src=\"link_17\" alt=\"A photo of Stone Group restaurant\" title=\"\" role=\"img\" aria-label=\"4.8 stars\">Stone Group 438 reviews Italian Price: Moderate Sunset Hills Booked 7 times today/>\\n<l id=24 href=\"link_18\" aria-label=\"Select table type for reservation at Stone Group restaurant\">5:00 PM/>\\n<l id=25 href=\"link_19\" aria-label=\"Select table type for reservation at Stone Group restaurant\">5:15 PM/>\\n<l id=26 href=\"link_20\" src=\"link_21\" alt=\"A photo of Chung-Collins restaurant\" title=\"\" role=\"img\" aria-label=\"4.8 stars\">Promoted Chung-Collins 1908 reviews Steakhouse Price: Very Expensive Clayton Booked 46 times today/>\\n<l id=27 href=\"link_22\" aria-label=\"4:30 PM Reserve table at Chung-Collins restaurant\">4:30 PM/>\\n<l id=28 href=\"link_23\" aria-label=\"4:45 PM Reserve table at Chung-Collins restaurant\">4:45 PM/>\\n<l id=29 href=\"link_24\" aria-label=\"5:00 PM Reserve table at Chung-Collins restaurant\">5:00 PM/>\\n<l id=30 href=\"link_25\" aria-label=\"Select table type for reservation at Acero restaurant\">5:00 PM/>\\n<b id=31>For Businesses/>\\n<b id=32 aria-label=\"\" title=\"\">Mobile/>\\n<b id=33>Get help/>\\n<b id=34>FAQs/>\\n<b id=35 aria-label=\"\" title=\"Language Picker\">EN/>\\n<l id=36 href=\"link_26\" src=\"link_27\" alt=\"OpenTable logo\"/>\\n<b id=37>Sign in/>\\n<b id=38 aria-label=\"search\" title=\"search\" role=\"img\" role=\"presentation\"/>\\n<t id=39>It looks like you\\'re in South County. Not correct?/>\\n<b id=40 aria-label=\"Get current location\">Get current location/>\\n<t id=41>Available for dinner now/>\\n<l id=42 href=\"link_28\">View all/>\\n<scroll down>', {'Trattoria Toscana': 'Stone Group', 'The Capital Grille - St. Louis - Clayton': 'Chung-Collins', \"Ruth's Chris Steak House - St. Louis\": 'Sawyer, Chapman and Erickson', '801 Local': 'Foster, Hill and Simpson', '801 Chophouse - St. Louis': 'Yoder PLC'})\n"
     ]
    }
   ],
   "source": [
    "dom_example = df.DOM.iloc[0:1]\n",
    "print(dom_example.apply(extract_and_replace_restaurant_names).iloc[0])"
   ]
  },
  {
   "cell_type": "code",
   "execution_count": 36,
   "metadata": {},
   "outputs": [
    {
     "name": "stdout",
     "output_type": "stream",
     "text": [
      "<b id=22 aria-label=\"Next\"/>\n",
      "<b id=31 aria-label=\"Toggle location picker\"/>\n",
      "<t id=24>Find your table for any occasion/>\n",
      "<b id=23 aria-label=\"Date selector\" html_id=\"search-autocomplete-day-picker\" html_id=\"search-autocomplete-day-picker-label\">Mar 16, 2024/>\n",
      "<s id=3 aria-label=\"Time selector\">12:00 PM/>\n",
      "<t id=39>12:00 PM/>\n",
      "<s id=22 aria-label=\"Party size selector\">2 people/>\n",
      "<t id=1>2 people/>\n",
      "<b id=41 role=\"combobox\" html_id=\"home-page-autocomplete-label\"/>\n",
      "<i id=1 placeholder=\"Location, Restaurant, or Cuisine\" aria-label=\"Please input a Location, Restaurant or Cuisine\" html_id=\"home-page-autocomplete-input\"> />\n",
      "<b id=42 aria-label=\"Let’s go\">Let’s go/>\n",
      "<l id=2 href=\"link_231\" src=\"link_24\" alt=\"A photo of Ruth's Chris Steak House - St. Louis restaurant\" title=\"\" role=\"img\" aria-label=\"4.4 stars\">Promoted Ruth's Chris Steak House - St. Louis 1950 reviews Steakhouse Price: Very Expensive St. Louis Booked 23 times today +1,000 pts +1,000 pts +1,000 pts/>\n",
      "<l id=5 href=\"link_23\" aria-label=\"4:30 PM Reserve table at Ruth's Chris Steak House - St. Louis restaurant\">4:30 PM/>\n",
      "<l id=8 href=\"link_3\" aria-label=\"4:45 PM Reserve table at Ruth's Chris Steak House - St. Louis restaurant\">4:45 PM/>\n",
      "<l id=23 href=\"link_39\" aria-label=\"5:00 PM Reserve table at Ruth's Chris Steak House - St. Louis restaurant\">5:00 PM/>\n",
      "<l id=38 href=\"link_22\" src=\"link_1\" alt=\"A photo of 801 Chophouse - St. Louis restaurant\" title=\"\" role=\"img\" aria-label=\"4.7 stars\">801 Chophouse - St. Louis 3297 reviews Steakhouse Price: Very Expensive Clayton Booked 31 times today +1,000 pts/>\n",
      "<l id=28 href=\"link_41\" aria-label=\"4:30 PM Reserve table at 801 Chophouse - St. Louis restaurant\">4:30 PM/>\n",
      "<l id=34 href=\"link_1\" aria-label=\"4:45 PM Reserve table at 801 Chophouse - St. Louis restaurant\">4:45 PM/>\n",
      "<l id=23 href=\"link_2310\" aria-label=\"5:00 PM Reserve table at 801 Chophouse - St. Louis restaurant\">5:00 PM/>\n",
      "<l id=12 href=\"link_2311\" src=\"link_2312\" alt=\"A photo of 801 Local restaurant\" title=\"\" role=\"img\" aria-label=\"4.6 stars\">801 Local 818 reviews American Price: Expensive Frontenac Booked 28 times today +1,000 pts +1,000 pts +1,000 pts/>\n",
      "<l id=4 href=\"link_2313\" aria-label=\"4:30 PM Reserve table at 801 Local restaurant\">4:30 PM/>\n",
      "<l id=23 href=\"link_2314\" aria-label=\"4:45 PM Reserve table at 801 Local restaurant\">4:45 PM/>\n",
      "<l id=22 href=\"link_2315\" aria-label=\"5:00 PM Reserve table at 801 Local restaurant\">5:00 PM/>\n",
      "<l id=23 href=\"link_2316\" src=\"link_2317\" alt=\"A photo of Trattoria Toscana restaurant\" title=\"\" role=\"img\" aria-label=\"4.8 stars\">Trattoria Toscana 438 reviews Italian Price: Moderate Sunset Hills Booked 7 times today/>\n",
      "<l id=24 href=\"link_2318\" aria-label=\"Select table type for reservation at Trattoria Toscana restaurant\">5:00 PM/>\n",
      "<l id=25 href=\"link_2319\" aria-label=\"Select table type for reservation at Trattoria Toscana restaurant\">5:15 PM/>\n",
      "<l id=26 href=\"link_240\" src=\"link_241\" alt=\"A photo of The Capital Grille - St. Louis - Clayton restaurant\" title=\"\" role=\"img\" aria-label=\"4.8 stars\">Promoted The Capital Grille - St. Louis - Clayton 1908 reviews Steakhouse Price: Very Expensive Clayton Booked 46 times today/>\n",
      "<l id=27 href=\"link_242\" aria-label=\"4:30 PM Reserve table at The Capital Grille - St. Louis - Clayton restaurant\">4:30 PM/>\n",
      "<l id=28 href=\"link_243\" aria-label=\"4:45 PM Reserve table at The Capital Grille - St. Louis - Clayton restaurant\">4:45 PM/>\n",
      "<l id=29 href=\"link_244\" aria-label=\"5:00 PM Reserve table at The Capital Grille - St. Louis - Clayton restaurant\">5:00 PM/>\n",
      "<l id=30 href=\"link_245\" aria-label=\"Select table type for reservation at Acero restaurant\">5:00 PM/>\n",
      "<b id=31>For Businesses/>\n",
      "<b id=32 aria-label=\"\" title=\"\">Mobile/>\n",
      "<b id=33>Get help/>\n",
      "<b id=34>FAQs/>\n",
      "<b id=35 aria-label=\"\" title=\"Language Picker\">EN/>\n",
      "<l id=36 href=\"link_246\" src=\"link_247\" alt=\"OpenTable logo\"/>\n",
      "<b id=37>Sign in/>\n",
      "<b id=38 aria-label=\"search\" title=\"search\" role=\"img\" role=\"presentation\"/>\n",
      "<t id=39>It looks like you're in South County. Not correct?/>\n",
      "<b id=40 aria-label=\"Get current location\">Get current location/>\n",
      "<t id=41>Available for dinner now/>\n",
      "<l id=42 href=\"link_248\">View all/>\n",
      "<scroll down>\n"
     ]
    }
   ],
   "source": [
    "print(dom_example.apply(randomize_ids_links).iloc[0])"
   ]
  },
  {
   "cell_type": "code",
   "execution_count": null,
   "metadata": {},
   "outputs": [],
   "source": [
    "from lm_act_eval.evaluation_harness.evaluators.sft.trajectory import TableTrajectoryEvaluator\n",
    "\n",
    "# df_evaluator = TableTrajectoryEvaluator(hydra_cfg.sft.trajectory.data)"
   ]
  },
  {
   "cell_type": "markdown",
   "metadata": {},
   "source": [
    "## Save/Load Data"
   ]
  },
  {
   "cell_type": "code",
   "execution_count": null,
   "metadata": {},
   "outputs": [],
   "source": [
    "# traj_df_new = traj_df.merge(eligible_traj_df, how='left')\n",
    "# traj_df_new.to_csv(dataset_path/'csv/data+gptv_eval.csv')"
   ]
  },
  {
   "cell_type": "code",
   "execution_count": null,
   "metadata": {},
   "outputs": [],
   "source": [
    "table_name = 'data+gptv_eval-eligible'\n",
    "artifact_name = 'gptv_opentable-trajectory_eval'\n",
    "eligible_traj_df.to_csv(dataset_path/f'csv/{table_name}.csv')"
   ]
  },
  {
   "cell_type": "code",
   "execution_count": null,
   "metadata": {},
   "outputs": [
    {
     "data": {
      "text/html": [
       "<div>\n",
       "<style scoped>\n",
       "    .dataframe tbody tr th:only-of-type {\n",
       "        vertical-align: middle;\n",
       "    }\n",
       "\n",
       "    .dataframe tbody tr th {\n",
       "        vertical-align: top;\n",
       "    }\n",
       "\n",
       "    .dataframe thead th {\n",
       "        text-align: right;\n",
       "    }\n",
       "</style>\n",
       "<table border=\"1\" class=\"dataframe\">\n",
       "  <thead>\n",
       "    <tr style=\"text-align: right;\">\n",
       "      <th></th>\n",
       "      <th>session_id</th>\n",
       "      <th>idx_in_session</th>\n",
       "      <th>_id</th>\n",
       "      <th>event_id</th>\n",
       "      <th>parent_id</th>\n",
       "      <th>event_type</th>\n",
       "      <th>event_name</th>\n",
       "      <th>config</th>\n",
       "      <th>children_ids</th>\n",
       "      <th>inputs</th>\n",
       "      <th>...</th>\n",
       "      <th>planPrompt</th>\n",
       "      <th>previousActionsRepetitionPrompt</th>\n",
       "      <th>chat_completion_messages</th>\n",
       "      <th>ground_truth</th>\n",
       "      <th>screenshot</th>\n",
       "      <th>prompt</th>\n",
       "      <th>internal_metadata</th>\n",
       "      <th>GPTV response</th>\n",
       "      <th>chat_completion_messages_content</th>\n",
       "      <th>GPTV_evaluation</th>\n",
       "    </tr>\n",
       "  </thead>\n",
       "  <tbody>\n",
       "    <tr>\n",
       "      <th>169</th>\n",
       "      <td>36c2f0ba-e215-4081-96b4-ecb04c10a517</td>\n",
       "      <td>0</td>\n",
       "      <td>65ed4fc8166e07fe3c29c476</td>\n",
       "      <td>6c8932f3-c31d-4683-aeb0-52a5bbe5a978</td>\n",
       "      <td>36c2f0ba-e215-4081-96b4-ecb04c10a517</td>\n",
       "      <td>model</td>\n",
       "      <td>Model Completion</td>\n",
       "      <td>{'model': 'gpt-4-1106-preview', 'provider': 'u...</td>\n",
       "      <td>[]</td>\n",
       "      <td>{'QUERY': 'What was the actual enrollment coun...</td>\n",
       "      <td>...</td>\n",
       "      <td>IMPORTANT: If the objective is complex, compri...</td>\n",
       "      <td>**PREVIOUS ACTIONS Repetition**:\\n- Review the...</td>\n",
       "      <td>[{'role': 'system', 'content': '**Goal**: Let\\...</td>\n",
       "      <td>PLAN:\\n1. Use the Google search function to fi...</td>\n",
       "      <td>https://multion-client-screenshots.s3.us-east-...</td>\n",
       "      <td>NaN</td>\n",
       "      <td>NaN</td>\n",
       "      <td>It appears that you are looking for informatio...</td>\n",
       "      <td>**Goal**: Let's play a game - You are an exper...</td>\n",
       "      <td>SCORE: 60\\nEXPLANATION:\\nThe user appears to b...</td>\n",
       "    </tr>\n",
       "    <tr>\n",
       "      <th>170</th>\n",
       "      <td>36c2f0ba-e215-4081-96b4-ecb04c10a517</td>\n",
       "      <td>1</td>\n",
       "      <td>65ed4fd1b2b5b0c1673c47d7</td>\n",
       "      <td>172ff25e-efdb-4002-b43a-0180f3f0eb19</td>\n",
       "      <td>36c2f0ba-e215-4081-96b4-ecb04c10a517</td>\n",
       "      <td>model</td>\n",
       "      <td>Model Completion</td>\n",
       "      <td>{'model': 'gpt-4-1106-preview', 'provider': 'u...</td>\n",
       "      <td>[]</td>\n",
       "      <td>{'QUERY': 'What was the actual enrollment coun...</td>\n",
       "      <td>...</td>\n",
       "      <td>IMPORTANT: If the objective is complex, compri...</td>\n",
       "      <td>**PREVIOUS ACTIONS Repetition**:\\n- Review the...</td>\n",
       "      <td>[{'role': 'system', 'content': '**Goal**: Let\\...</td>\n",
       "      <td>COMMANDS:\\nCLICK 26\\nEXPLANATION: I am clickin...</td>\n",
       "      <td>https://multion-client-screenshots.s3.us-east-...</td>\n",
       "      <td>NaN</td>\n",
       "      <td>NaN</td>\n",
       "      <td>The image shows a webpage from ClinicalTrials....</td>\n",
       "      <td>**Goal**: Let's play a game - You are an exper...</td>\n",
       "      <td>SCORE: 95\\nEXPLANATION:\\nThe user is very clos...</td>\n",
       "    </tr>\n",
       "  </tbody>\n",
       "</table>\n",
       "<p>2 rows × 40 columns</p>\n",
       "</div>"
      ],
      "text/plain": [
       "                               session_id  idx_in_session  \\\n",
       "169  36c2f0ba-e215-4081-96b4-ecb04c10a517               0   \n",
       "170  36c2f0ba-e215-4081-96b4-ecb04c10a517               1   \n",
       "\n",
       "                          _id                              event_id  \\\n",
       "169  65ed4fc8166e07fe3c29c476  6c8932f3-c31d-4683-aeb0-52a5bbe5a978   \n",
       "170  65ed4fd1b2b5b0c1673c47d7  172ff25e-efdb-4002-b43a-0180f3f0eb19   \n",
       "\n",
       "                                parent_id event_type        event_name  \\\n",
       "169  36c2f0ba-e215-4081-96b4-ecb04c10a517      model  Model Completion   \n",
       "170  36c2f0ba-e215-4081-96b4-ecb04c10a517      model  Model Completion   \n",
       "\n",
       "                                                config children_ids  \\\n",
       "169  {'model': 'gpt-4-1106-preview', 'provider': 'u...           []   \n",
       "170  {'model': 'gpt-4-1106-preview', 'provider': 'u...           []   \n",
       "\n",
       "                                                inputs  ...  \\\n",
       "169  {'QUERY': 'What was the actual enrollment coun...  ...   \n",
       "170  {'QUERY': 'What was the actual enrollment coun...  ...   \n",
       "\n",
       "                                            planPrompt  \\\n",
       "169  IMPORTANT: If the objective is complex, compri...   \n",
       "170  IMPORTANT: If the objective is complex, compri...   \n",
       "\n",
       "                       previousActionsRepetitionPrompt  \\\n",
       "169  **PREVIOUS ACTIONS Repetition**:\\n- Review the...   \n",
       "170  **PREVIOUS ACTIONS Repetition**:\\n- Review the...   \n",
       "\n",
       "                              chat_completion_messages  \\\n",
       "169  [{'role': 'system', 'content': '**Goal**: Let\\...   \n",
       "170  [{'role': 'system', 'content': '**Goal**: Let\\...   \n",
       "\n",
       "                                          ground_truth  \\\n",
       "169  PLAN:\\n1. Use the Google search function to fi...   \n",
       "170  COMMANDS:\\nCLICK 26\\nEXPLANATION: I am clickin...   \n",
       "\n",
       "                                            screenshot prompt  \\\n",
       "169  https://multion-client-screenshots.s3.us-east-...    NaN   \n",
       "170  https://multion-client-screenshots.s3.us-east-...    NaN   \n",
       "\n",
       "    internal_metadata                                      GPTV response  \\\n",
       "169               NaN  It appears that you are looking for informatio...   \n",
       "170               NaN  The image shows a webpage from ClinicalTrials....   \n",
       "\n",
       "                      chat_completion_messages_content  \\\n",
       "169  **Goal**: Let's play a game - You are an exper...   \n",
       "170  **Goal**: Let's play a game - You are an exper...   \n",
       "\n",
       "                                       GPTV_evaluation  \n",
       "169  SCORE: 60\\nEXPLANATION:\\nThe user appears to b...  \n",
       "170  SCORE: 95\\nEXPLANATION:\\nThe user is very clos...  \n",
       "\n",
       "[2 rows x 40 columns]"
      ]
     },
     "execution_count": 115,
     "metadata": {},
     "output_type": "execute_result"
    }
   ],
   "source": [
    "eligible_traj_df = pd.read_csv(\n",
    "  dataset_path/f'csv/{table_name}.csv', index_col=0)\n",
    "eligible_traj_df.index.name = None\n",
    "eligible_traj_df.head(2)"
   ]
  },
  {
   "cell_type": "markdown",
   "metadata": {},
   "source": [
    "Logging"
   ]
  },
  {
   "cell_type": "code",
   "execution_count": null,
   "metadata": {},
   "outputs": [
    {
     "name": "stderr",
     "output_type": "stream",
     "text": [
      "ERROR:wandb.jupyter:Failed to detect the name of this notebook, you can set it manually with the WANDB_NOTEBOOK_NAME environment variable to enable code saving.\n"
     ]
    },
    {
     "name": "stderr",
     "output_type": "stream",
     "text": [
      "\u001b[34m\u001b[1mwandb\u001b[0m: Logging into wandb.ai. (Learn how to deploy a W&B server locally: https://wandb.me/wandb-server)\n",
      "\u001b[34m\u001b[1mwandb\u001b[0m: You can find your API key in your browser here: https://wandb.ai/authorize\n",
      "\u001b[34m\u001b[1mwandb\u001b[0m: Paste an API key from your profile and hit enter, or press ctrl+c to quit:\u001b[34m\u001b[1mwandb\u001b[0m: Appending key for api.wandb.ai to your netrc file: /home/opadmin/.netrc\n"
     ]
    },
    {
     "data": {
      "text/plain": [
       "True"
      ]
     },
     "execution_count": 113,
     "metadata": {},
     "output_type": "execute_result"
    }
   ],
   "source": [
    "# log data\n",
    "import wandb\n",
    "from dotenv import load_dotenv\n",
    "load_dotenv()\n",
    "wandb.login(relogin=True)"
   ]
  },
  {
   "cell_type": "code",
   "execution_count": null,
   "metadata": {},
   "outputs": [],
   "source": [
    "opentable_artifact = wandb.Artifact(\"opentable_trajectories-gptv_eval\", type=\"dataset\")\n",
    "# opentable_table = wandb.Table(dataframe=traj_df_new)\n",
    "opentable_table_eligible = wandb.Table(dataframe=eligible_traj_df)\n",
    "#\n",
    "# opentable_artifact.add(opentable_table, \"opentable\")\n",
    "opentable_artifact.add(\n",
    "  opentable_table_eligible, artifact_name)\n",
    "# opentable_artifact.add_file(str(dataset_path/'csv/data+gptv.csv'))\n",
    "opentable_artifact.add_file(str(dataset_path/f'csv/{table_name}.csv'))\n"
   ]
  },
  {
   "cell_type": "code",
   "execution_count": null,
   "metadata": {},
   "outputs": [
    {
     "name": "stderr",
     "output_type": "stream",
     "text": [
      "\u001b[34m\u001b[1mwandb\u001b[0m: Currently logged in as: \u001b[33mmmym\u001b[0m (\u001b[33mmultion-agi\u001b[0m). Use \u001b[1m`wandb login --relogin`\u001b[0m to force relogin\n"
     ]
    },
    {
     "data": {
      "text/html": [
       "wandb version 0.16.5 is available!  To upgrade, please run:\n",
       " $ pip install wandb --upgrade"
      ],
      "text/plain": [
       "<IPython.core.display.HTML object>"
      ]
     },
     "metadata": {},
     "output_type": "display_data"
    },
    {
     "data": {
      "text/html": [
       "Tracking run with wandb version 0.16.4"
      ],
      "text/plain": [
       "<IPython.core.display.HTML object>"
      ]
     },
     "metadata": {},
     "output_type": "display_data"
    },
    {
     "data": {
      "text/html": [
       "Run data is saved locally in <code>/home/opadmin/llama2d_opentable/lm_act_eval/wandb/run-20240327_112123-kkcvren2</code>"
      ],
      "text/plain": [
       "<IPython.core.display.HTML object>"
      ]
     },
     "metadata": {},
     "output_type": "display_data"
    },
    {
     "data": {
      "text/html": [
       "Syncing run <strong><a href='https://wandb.ai/multion-agi/trajectory_eval/runs/kkcvren2' target=\"_blank\">classic-bush-11</a></strong> to <a href='https://wandb.ai/multion-agi/trajectory_eval' target=\"_blank\">Weights & Biases</a> (<a href='https://wandb.me/run' target=\"_blank\">docs</a>)<br/>"
      ],
      "text/plain": [
       "<IPython.core.display.HTML object>"
      ]
     },
     "metadata": {},
     "output_type": "display_data"
    },
    {
     "data": {
      "text/html": [
       " View project at <a href='https://wandb.ai/multion-agi/trajectory_eval' target=\"_blank\">https://wandb.ai/multion-agi/trajectory_eval</a>"
      ],
      "text/plain": [
       "<IPython.core.display.HTML object>"
      ]
     },
     "metadata": {},
     "output_type": "display_data"
    },
    {
     "data": {
      "text/html": [
       " View run at <a href='https://wandb.ai/multion-agi/trajectory_eval/runs/kkcvren2' target=\"_blank\">https://wandb.ai/multion-agi/trajectory_eval/runs/kkcvren2</a>"
      ],
      "text/plain": [
       "<IPython.core.display.HTML object>"
      ]
     },
     "metadata": {},
     "output_type": "display_data"
    },
    {
     "name": "stderr",
     "output_type": "stream",
     "text": [
      "\u001b[34m\u001b[1mwandb\u001b[0m: \u001b[33mWARNING\u001b[0m Serializing object of type str that is 531752 bytes\n",
      "\u001b[34m\u001b[1mwandb\u001b[0m: \u001b[33mWARNING\u001b[0m Serializing object of type str that is 517908 bytes\n",
      "\u001b[34m\u001b[1mwandb\u001b[0m: \u001b[33mWARNING\u001b[0m Serializing object of type str that is 541284 bytes\n",
      "\u001b[34m\u001b[1mwandb\u001b[0m: \u001b[33mWARNING\u001b[0m Serializing object of type str that is 525810 bytes\n",
      "\u001b[34m\u001b[1mwandb\u001b[0m: \u001b[33mWARNING\u001b[0m Serializing object of type str that is 116864 bytes\n",
      "\u001b[34m\u001b[1mwandb\u001b[0m: \u001b[33mWARNING\u001b[0m Serializing object of type str that is 121274 bytes\n",
      "\u001b[34m\u001b[1mwandb\u001b[0m: \u001b[33mWARNING\u001b[0m Serializing object of type str that is 120688 bytes\n",
      "\u001b[34m\u001b[1mwandb\u001b[0m: \u001b[33mWARNING\u001b[0m Serializing object of type str that is 124364 bytes\n",
      "\u001b[34m\u001b[1mwandb\u001b[0m: \u001b[33mWARNING\u001b[0m Serializing object of type str that is 127354 bytes\n",
      "\u001b[34m\u001b[1mwandb\u001b[0m: \u001b[33mWARNING\u001b[0m Serializing object of type str that is 129308 bytes\n",
      "\u001b[34m\u001b[1mwandb\u001b[0m: \u001b[33mWARNING\u001b[0m Serializing object of type str that is 129582 bytes\n",
      "\u001b[34m\u001b[1mwandb\u001b[0m: \u001b[33mWARNING\u001b[0m Serializing object of type str that is 135310 bytes\n",
      "\u001b[34m\u001b[1mwandb\u001b[0m: \u001b[33mWARNING\u001b[0m Serializing object of type str that is 137856 bytes\n",
      "\u001b[34m\u001b[1mwandb\u001b[0m: \u001b[33mWARNING\u001b[0m Serializing object of type str that is 137644 bytes\n",
      "\u001b[34m\u001b[1mwandb\u001b[0m: \u001b[33mWARNING\u001b[0m Serializing object of type str that is 136800 bytes\n",
      "\u001b[34m\u001b[1mwandb\u001b[0m: \u001b[33mWARNING\u001b[0m Serializing object of type str that is 139488 bytes\n",
      "\u001b[34m\u001b[1mwandb\u001b[0m: \u001b[33mWARNING\u001b[0m Serializing object of type str that is 145450 bytes\n",
      "\u001b[34m\u001b[1mwandb\u001b[0m: \u001b[33mWARNING\u001b[0m Serializing object of type str that is 143400 bytes\n",
      "\u001b[34m\u001b[1mwandb\u001b[0m: \u001b[33mWARNING\u001b[0m Serializing object of type str that is 144604 bytes\n",
      "\u001b[34m\u001b[1mwandb\u001b[0m: \u001b[33mWARNING\u001b[0m Serializing object of type str that is 148884 bytes\n",
      "\u001b[34m\u001b[1mwandb\u001b[0m: \u001b[33mWARNING\u001b[0m Serializing object of type str that is 144942 bytes\n",
      "\u001b[34m\u001b[1mwandb\u001b[0m: \u001b[33mWARNING\u001b[0m Serializing object of type str that is 158396 bytes\n",
      "\u001b[34m\u001b[1mwandb\u001b[0m: \u001b[33mWARNING\u001b[0m Serializing object of type str that is 160856 bytes\n",
      "\u001b[34m\u001b[1mwandb\u001b[0m: \u001b[33mWARNING\u001b[0m Serializing object of type str that is 101088 bytes\n",
      "\u001b[34m\u001b[1mwandb\u001b[0m: \u001b[33mWARNING\u001b[0m Serializing object of type str that is 163330 bytes\n",
      "\u001b[34m\u001b[1mwandb\u001b[0m: \u001b[33mWARNING\u001b[0m Serializing object of type str that is 102826 bytes\n",
      "\u001b[34m\u001b[1mwandb\u001b[0m: \u001b[33mWARNING\u001b[0m Serializing object of type str that is 163974 bytes\n",
      "\u001b[34m\u001b[1mwandb\u001b[0m: \u001b[33mWARNING\u001b[0m Serializing object of type str that is 102464 bytes\n",
      "\u001b[34m\u001b[1mwandb\u001b[0m: \u001b[33mWARNING\u001b[0m Serializing object of type str that is 162444 bytes\n",
      "\u001b[34m\u001b[1mwandb\u001b[0m: \u001b[33mWARNING\u001b[0m Serializing object of type str that is 100274 bytes\n",
      "\u001b[34m\u001b[1mwandb\u001b[0m: \u001b[33mWARNING\u001b[0m Serializing object of type str that is 171034 bytes\n",
      "\u001b[34m\u001b[1mwandb\u001b[0m: \u001b[33mWARNING\u001b[0m Serializing object of type str that is 107774 bytes\n",
      "\u001b[34m\u001b[1mwandb\u001b[0m: \u001b[33mWARNING\u001b[0m Serializing object of type str that is 171514 bytes\n",
      "\u001b[34m\u001b[1mwandb\u001b[0m: \u001b[33mWARNING\u001b[0m Serializing object of type str that is 107154 bytes\n",
      "\u001b[34m\u001b[1mwandb\u001b[0m: \u001b[33mWARNING\u001b[0m Serializing object of type str that is 178978 bytes\n",
      "\u001b[34m\u001b[1mwandb\u001b[0m: \u001b[33mWARNING\u001b[0m Serializing object of type str that is 113514 bytes\n",
      "\u001b[34m\u001b[1mwandb\u001b[0m: \u001b[33mWARNING\u001b[0m Serializing object of type str that is 182604 bytes\n",
      "\u001b[34m\u001b[1mwandb\u001b[0m: \u001b[33mWARNING\u001b[0m Serializing object of type str that is 116100 bytes\n",
      "\u001b[34m\u001b[1mwandb\u001b[0m: \u001b[33mWARNING\u001b[0m Serializing object of type str that is 181408 bytes\n",
      "\u001b[34m\u001b[1mwandb\u001b[0m: \u001b[33mWARNING\u001b[0m Serializing object of type str that is 111572 bytes\n",
      "\u001b[34m\u001b[1mwandb\u001b[0m: \u001b[33mWARNING\u001b[0m Serializing object of type str that is 184360 bytes\n",
      "\u001b[34m\u001b[1mwandb\u001b[0m: \u001b[33mWARNING\u001b[0m Serializing object of type str that is 115362 bytes\n",
      "\u001b[34m\u001b[1mwandb\u001b[0m: \u001b[33mWARNING\u001b[0m Serializing object of type str that is 184852 bytes\n",
      "\u001b[34m\u001b[1mwandb\u001b[0m: \u001b[33mWARNING\u001b[0m Serializing object of type str that is 111658 bytes\n",
      "\u001b[34m\u001b[1mwandb\u001b[0m: \u001b[33mWARNING\u001b[0m Serializing object of type str that is 184348 bytes\n",
      "\u001b[34m\u001b[1mwandb\u001b[0m: \u001b[33mWARNING\u001b[0m Serializing object of type str that is 108370 bytes\n",
      "\u001b[34m\u001b[1mwandb\u001b[0m: \u001b[33mWARNING\u001b[0m Serializing object of type str that is 101956 bytes\n",
      "\u001b[34m\u001b[1mwandb\u001b[0m: \u001b[33mWARNING\u001b[0m Serializing object of type str that is 104122 bytes\n",
      "\u001b[34m\u001b[1mwandb\u001b[0m: \u001b[33mWARNING\u001b[0m Serializing object of type str that is 155904 bytes\n",
      "\u001b[34m\u001b[1mwandb\u001b[0m: \u001b[33mWARNING\u001b[0m Serializing object of type str that is 101490 bytes\n",
      "\u001b[34m\u001b[1mwandb\u001b[0m: \u001b[33mWARNING\u001b[0m Serializing object of type str that is 190120 bytes\n",
      "\u001b[34m\u001b[1mwandb\u001b[0m: \u001b[33mWARNING\u001b[0m Serializing object of type str that is 110260 bytes\n",
      "\u001b[34m\u001b[1mwandb\u001b[0m: \u001b[33mWARNING\u001b[0m Serializing object of type str that is 193908 bytes\n",
      "\u001b[34m\u001b[1mwandb\u001b[0m: \u001b[33mWARNING\u001b[0m Serializing object of type str that is 104770 bytes\n",
      "\u001b[34m\u001b[1mwandb\u001b[0m: \u001b[33mWARNING\u001b[0m Serializing object of type str that is 103218 bytes\n",
      "\u001b[34m\u001b[1mwandb\u001b[0m: \u001b[33mWARNING\u001b[0m Serializing object of type str that is 124644 bytes\n",
      "\u001b[34m\u001b[1mwandb\u001b[0m: \u001b[33mWARNING\u001b[0m Serializing object of type str that is 143560 bytes\n",
      "\u001b[34m\u001b[1mwandb\u001b[0m: \u001b[33mWARNING\u001b[0m Serializing object of type str that is 148592 bytes\n",
      "\u001b[34m\u001b[1mwandb\u001b[0m: \u001b[33mWARNING\u001b[0m Serializing object of type str that is 106152 bytes\n",
      "\u001b[34m\u001b[1mwandb\u001b[0m: \u001b[33mWARNING\u001b[0m Serializing object of type str that is 116552 bytes\n"
     ]
    },
    {
     "data": {
      "text/plain": [
       "<Artifact opentable_trajectories-gptv_eval>"
      ]
     },
     "execution_count": 120,
     "metadata": {},
     "output_type": "execute_result"
    }
   ],
   "source": [
    "# Start a W&B run to log data\n",
    "run = wandb.init(project=\"trajectory_eval\", reinit=True)\n",
    "# Log the table to visualize with a run...\n",
    "run.log({\"opentable_gptv\": opentable_table_eligible})\n",
    "\n",
    "# and Log as an Artifact to increase the available row limit!\n",
    "run.log_artifact(opentable_artifact)"
   ]
  }
 ],
 "metadata": {
  "kernelspec": {
   "display_name": "eval-dev",
   "language": "python",
   "name": "python3"
  },
  "language_info": {
   "codemirror_mode": {
    "name": "ipython",
    "version": 3
   },
   "file_extension": ".py",
   "mimetype": "text/x-python",
   "name": "python",
   "nbconvert_exporter": "python",
   "pygments_lexer": "ipython3",
   "version": "3.11.8"
  }
 },
 "nbformat": 4,
 "nbformat_minor": 2
}
