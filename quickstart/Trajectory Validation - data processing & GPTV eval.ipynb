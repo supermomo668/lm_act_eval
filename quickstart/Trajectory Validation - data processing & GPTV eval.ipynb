{
 "cells": [
  {
   "cell_type": "code",
   "execution_count": 1,
   "metadata": {},
   "outputs": [],
   "source": [
    "from pathlib import Path\n",
    "import os\n",
    "from dotenv import load_dotenv\n",
    "from tqdm import tqdm\n",
    "tqdm.pandas()\n",
    "%load_ext autoreload\n",
    "%autoreload 2"
   ]
  },
  {
   "cell_type": "code",
   "execution_count": 2,
   "metadata": {},
   "outputs": [
    {
     "name": "stdout",
     "output_type": "stream",
     "text": [
      "/home/opadmin/llama2d_opentable/lm_act_eval\n"
     ]
    },
    {
     "data": {
      "text/plain": [
       "True"
      ]
     },
     "execution_count": 2,
     "metadata": {},
     "output_type": "execute_result"
    }
   ],
   "source": [
    "# change dir to ml repo at ml/ root (if you started in notebook/)\n",
    "os.chdir('../')\n",
    "print(Path.cwd())\n",
    "load_dotenv()"
   ]
  },
  {
   "cell_type": "code",
   "execution_count": 3,
   "metadata": {},
   "outputs": [
    {
     "name": "stderr",
     "output_type": "stream",
     "text": [
      "/home/opadmin/anaconda3/envs/eval/lib/python3.11/site-packages/tqdm/auto.py:21: TqdmWarning: IProgress not found. Please update jupyter and ipywidgets. See https://ipywidgets.readthedocs.io/en/stable/user_install.html\n",
      "  from .autonotebook import tqdm as notebook_tqdm\n"
     ]
    },
    {
     "name": "stdout",
     "output_type": "stream",
     "text": [
      "Google Cloud not set up, skipping import of providers.gemini_utils.generate_from_gemini_completion\n",
      "Google Cloud not set up, skipping import of vertexai.preview.generative_models.Image and llms.generate_from_gemini_completion\n"
     ]
    },
    {
     "name": "stderr",
     "output_type": "stream",
     "text": [
      "/home/opadmin/anaconda3/envs/eval/lib/python3.11/site-packages/deepeval/__init__.py:41: UserWarning: You are using deepeval version 0.20.90, however version 0.21.21 is available. You should consider upgrading via the \"pip install --upgrade deepeval\" command.\n",
      "  warnings.warn(\n"
     ]
    }
   ],
   "source": [
    "from datasets import Dataset\n",
    "import pandas as pd\n",
    "from lm_act_eval.evaluation_harness.helper_functions.multion import (\n",
    "  action_prefix,\n",
    "  clean_extracted_text,\n",
    "  extract_thought,\n",
    "  extract_action,\n",
    "  extract_explanation,\n",
    "  ParseChatCompletion,\n",
    "  extract_first\n",
    ")\n",
    "from lm_act_eval.evaluation_harness.utils.url import is_screenshot_url_accessible"
   ]
  },
  {
   "cell_type": "code",
   "execution_count": 11,
   "metadata": {},
   "outputs": [],
   "source": [
    "from typing import Callable\n",
    "from tqdm import tqdm"
   ]
  },
  {
   "cell_type": "code",
   "execution_count": 12,
   "metadata": {},
   "outputs": [],
   "source": [
    "# subdependent \n",
    "from lm_act_eval.evaluation_harness.evaluators.sft.dataframe import DataFrameEvaluator\n",
    "from lm_act_eval.evaluation_harness.helper_functions import multion"
   ]
  },
  {
   "cell_type": "code",
   "execution_count": 23,
   "metadata": {},
   "outputs": [
    {
     "name": "stdout",
     "output_type": "stream",
     "text": [
      "Composed Configurations:\n",
      "project: opentable\n",
      "eval:\n",
      "  sft:\n",
      "    trajectory:\n",
      "      data:\n",
      "        path: lm_act_eval/.cache/five-star-trajectories/csv/data+gptv-eligible.csv\n",
      "        columns:\n",
      "          'y': ground_truth\n",
      "          y_': GPTV_generations\n",
      "        extract_fs:\n",
      "          QUERY:\n",
      "            QUERY: null\n",
      "          screenshot:\n",
      "            screenshot: null\n",
      "          GOAL:\n",
      "            chat_completion_messages: parse_completion.parse_content\n",
      "        logging:\n",
      "          wandb:\n",
      "            project: opentable\n",
      "            result: lm_act_eval-run\n",
      "          braintrust:\n",
      "            project: multion_opentable\n",
      "      comparator:\n",
      "        gpt-v:\n",
      "          model: gpt-4-vision-preview\n",
      "          max_token: 300\n",
      "          img_fidelity: high\n",
      "      metrics:\n",
      "        gpt-v:\n",
      "          inputs:\n",
      "          - GOAL\n",
      "          - QUERY\n",
      "          - screenshot\n",
      "          args: null\n",
      "        llm_relevancy:\n",
      "        - explanation\n",
      "\n"
     ]
    }
   ],
   "source": [
    "from lm_act_eval._init_conf import init_conf\n",
    "hydra_cfg = init_conf.main(\n",
    "  standalone_mode=False, args=['trajectory_eval'])\n",
    "cfg = hydra_cfg.eval"
   ]
  },
  {
   "cell_type": "code",
   "execution_count": 24,
   "metadata": {},
   "outputs": [
    {
     "name": "stdout",
     "output_type": "stream",
     "text": [
      "[{'role': 'system', 'content': '**Goal**: Let\\'s play a game - You are an expert agent named MULTI·O Index(['Unnamed: 0', 'session_id', 'idx_in_session', '_id', 'event_id',\n",
      "       'parent_id', 'event_type', 'event_name', 'config', 'children_ids',\n",
      "       'inputs', 'outputs', 'error', 'start_time', 'end_time', 'metadata',\n",
      "       'feedback', 'metrics', 'user_properties', 'source', 'duration',\n",
      "       'project_id', 'tenant', 'QUERY', 'URL', 'DOM', 'RULES', 'USER_CONTEXT',\n",
      "       'PREV_ACTIONS', 'chat_history', 'CURRENT_TIME', 'planPrompt',\n",
      "       'previousActionsRepetitionPrompt', 'chat_completion_messages',\n",
      "       'ground_truth', 'screenshot', 'prompt', 'internal_metadata',\n",
      "       'chat_completion_messages_content', 'GPTV_generations'],\n",
      "      dtype='object')\n"
     ]
    }
   ],
   "source": [
    "df = pd.read_csv(cfg.sft.trajectory.data.path)\n",
    "print(\n",
    "  df.chat_completion_messages.iloc[0][:100],\n",
    "  df.columns\n",
    ")"
   ]
  },
  {
   "cell_type": "code",
   "execution_count": 25,
   "metadata": {},
   "outputs": [
    {
     "data": {
      "text/plain": [
       "'What was the actual enrollment count of the clinical trial on H. pylori in acne vulgaris patients from Jan-May 2018 as listed on the NIH website?'"
      ]
     },
     "execution_count": 25,
     "metadata": {},
     "output_type": "execute_result"
    }
   ],
   "source": [
    "df.QUERY.iloc[0]"
   ]
  },
  {
   "cell_type": "code",
   "execution_count": 6,
   "metadata": {},
   "outputs": [],
   "source": [
    "from lm_act_eval.evaluation_harness.openai.vision.evaluator import GPTVScorer"
   ]
  },
  {
   "cell_type": "code",
   "execution_count": 28,
   "metadata": {},
   "outputs": [
    {
     "data": {
      "text/plain": [
       "{'gpt-v': {'inputs': ['GOAL', 'QUERY', 'screenshot'], 'args': None}, 'llm_relevancy': ['explanation']}"
      ]
     },
     "execution_count": 28,
     "metadata": {},
     "output_type": "execute_result"
    }
   ],
   "source": [
    "cfg.sft.trajectory.metrics"
   ]
  },
  {
   "cell_type": "code",
   "execution_count": 37,
   "metadata": {},
   "outputs": [
    {
     "ename": "TypeError",
     "evalue": "argument of type 'NoneType' is not iterable",
     "output_type": "error",
     "traceback": [
      "\u001b[0;31m---------------------------------------------------------------------------\u001b[0m",
      "\u001b[0;31mTypeError\u001b[0m                                 Traceback (most recent call last)",
      "Cell \u001b[0;32mIn[37], line 3\u001b[0m\n\u001b[1;32m      1\u001b[0m \u001b[38;5;28;01mfrom\u001b[39;00m \u001b[38;5;21;01mlm_act_eval\u001b[39;00m\u001b[38;5;21;01m.\u001b[39;00m\u001b[38;5;21;01mevaluation_harness\u001b[39;00m\u001b[38;5;21;01m.\u001b[39;00m\u001b[38;5;21;01mevaluators\u001b[39;00m\u001b[38;5;21;01m.\u001b[39;00m\u001b[38;5;21;01msft\u001b[39;00m\u001b[38;5;21;01m.\u001b[39;00m\u001b[38;5;21;01mtrajectory\u001b[39;00m \u001b[38;5;28;01mimport\u001b[39;00m TableTrajectoryEvaluator\n\u001b[0;32m----> 3\u001b[0m df_evaluator \u001b[38;5;241m=\u001b[39m \u001b[43mTableTrajectoryEvaluator\u001b[49m\u001b[43m(\u001b[49m\u001b[43mcfg\u001b[49m\u001b[38;5;241;43m.\u001b[39;49m\u001b[43msft\u001b[49m\u001b[38;5;241;43m.\u001b[39;49m\u001b[43mtrajectory\u001b[49m\u001b[43m)\u001b[49m\n",
      "File \u001b[0;32m~/llama2d_opentable/lm_act_eval/lm_act_eval/evaluation_harness/evaluators/sft/trajectory.py:38\u001b[0m, in \u001b[0;36mTableTrajectoryEvaluator.__init__\u001b[0;34m(self, config, *args, **kwargs)\u001b[0m\n\u001b[1;32m     34\u001b[0m \u001b[38;5;28;01mdef\u001b[39;00m \u001b[38;5;21m__init__\u001b[39m(\u001b[38;5;28mself\u001b[39m, config, \u001b[38;5;241m*\u001b[39margs, \u001b[38;5;241m*\u001b[39m\u001b[38;5;241m*\u001b[39mkwargs):\n\u001b[1;32m     35\u001b[0m \u001b[38;5;250m    \u001b[39m\u001b[38;5;124;03m\"\"\"\u001b[39;00m\n\u001b[1;32m     36\u001b[0m \u001b[38;5;124;03m    Handles evaluation of all the metrics in the given evaluation track\u001b[39;00m\n\u001b[1;32m     37\u001b[0m \u001b[38;5;124;03m    \"\"\"\u001b[39;00m\n\u001b[0;32m---> 38\u001b[0m     \u001b[38;5;28;43msuper\u001b[39;49m\u001b[43m(\u001b[49m\u001b[43m)\u001b[49m\u001b[38;5;241;43m.\u001b[39;49m\u001b[38;5;21;43m__init__\u001b[39;49m\u001b[43m(\u001b[49m\u001b[43mconfig\u001b[49m\u001b[43m)\u001b[49m\n",
      "File \u001b[0;32m~/llama2d_opentable/lm_act_eval/lm_act_eval/evaluation_harness/evaluators/sft/dataframe.py:20\u001b[0m, in \u001b[0;36mDataFrameEvaluator.__init__\u001b[0;34m(self, config, *args, **kwargs)\u001b[0m\n\u001b[1;32m     18\u001b[0m \u001b[38;5;28mself\u001b[39m\u001b[38;5;241m.\u001b[39mconfig \u001b[38;5;241m=\u001b[39m config\n\u001b[1;32m     19\u001b[0m \u001b[38;5;28mself\u001b[39m\u001b[38;5;241m.\u001b[39minput_df \u001b[38;5;241m=\u001b[39m pd\u001b[38;5;241m.\u001b[39mread_csv(config\u001b[38;5;241m.\u001b[39mdata\u001b[38;5;241m.\u001b[39mpath, index_col\u001b[38;5;241m=\u001b[39m\u001b[38;5;241m0\u001b[39m)\n\u001b[0;32m---> 20\u001b[0m \u001b[38;5;28;43mself\u001b[39;49m\u001b[38;5;241;43m.\u001b[39;49m\u001b[43m_process_inputs\u001b[49m\u001b[43m(\u001b[49m\u001b[38;5;28;43mself\u001b[39;49m\u001b[38;5;241;43m.\u001b[39;49m\u001b[43minput_df\u001b[49m\u001b[43m)\u001b[49m\n",
      "File \u001b[0;32m~/llama2d_opentable/lm_act_eval/lm_act_eval/evaluation_harness/evaluators/sft/dataframe.py:33\u001b[0m, in \u001b[0;36mDataFrameEvaluator._process_inputs\u001b[0;34m(self, input_df)\u001b[0m\n\u001b[1;32m     28\u001b[0m \u001b[38;5;250m\u001b[39m\u001b[38;5;124;03m\"\"\"\u001b[39;00m\n\u001b[1;32m     29\u001b[0m \u001b[38;5;124;03mProcesses the dataframe in preparation for evaluation.\u001b[39;00m\n\u001b[1;32m     30\u001b[0m \u001b[38;5;124;03mSubclasses should implement the logic to transform or prepare the data.\u001b[39;00m\n\u001b[1;32m     31\u001b[0m \u001b[38;5;124;03m\"\"\"\u001b[39;00m\n\u001b[1;32m     32\u001b[0m \u001b[38;5;28mself\u001b[39m\u001b[38;5;241m.\u001b[39mdf \u001b[38;5;241m=\u001b[39m pd\u001b[38;5;241m.\u001b[39mDataFrame()\n\u001b[0;32m---> 33\u001b[0m \u001b[43m\u001b[49m\u001b[38;5;28;43;01mfor\u001b[39;49;00m\u001b[43m \u001b[49m\u001b[43m(\u001b[49m\u001b[43msrc_field\u001b[49m\u001b[43m,\u001b[49m\u001b[43m \u001b[49m\u001b[43mtgt_field\u001b[49m\u001b[43m)\u001b[49m\u001b[43m,\u001b[49m\u001b[43m \u001b[49m\u001b[43mextract_function\u001b[49m\u001b[43m \u001b[49m\u001b[38;5;129;43;01min\u001b[39;49;00m\u001b[43m \u001b[49m\u001b[43mcfg_to_function\u001b[49m\u001b[43m(\u001b[49m\u001b[38;5;28;43mself\u001b[39;49m\u001b[38;5;241;43m.\u001b[39;49m\u001b[43mconfig\u001b[49m\u001b[38;5;241;43m.\u001b[39;49m\u001b[43mdata\u001b[49m\u001b[38;5;241;43m.\u001b[39;49m\u001b[43mextract_fs\u001b[49m\u001b[43m)\u001b[49m\u001b[43m:\u001b[49m\n\u001b[1;32m     34\u001b[0m \u001b[43m    \u001b[49m\u001b[43mlogger\u001b[49m\u001b[38;5;241;43m.\u001b[39;49m\u001b[43minfo\u001b[49m\u001b[43m(\u001b[49m\u001b[38;5;124;43mf\u001b[39;49m\u001b[38;5;124;43m\"\u001b[39;49m\u001b[38;5;124;43mExtracting to \u001b[39;49m\u001b[38;5;132;43;01m{\u001b[39;49;00m\u001b[43mtgt_field\u001b[49m\u001b[38;5;132;43;01m}\u001b[39;49;00m\u001b[38;5;124;43m from \u001b[39;49m\u001b[38;5;132;43;01m{\u001b[39;49;00m\u001b[43msrc_field\u001b[49m\u001b[38;5;132;43;01m}\u001b[39;49;00m\u001b[38;5;124;43m\"\u001b[39;49m\u001b[43m)\u001b[49m\n\u001b[1;32m     35\u001b[0m \u001b[43m    \u001b[49m\u001b[38;5;28;43mself\u001b[39;49m\u001b[38;5;241;43m.\u001b[39;49m\u001b[43mdf\u001b[49m\u001b[43m[\u001b[49m\u001b[43mtgt_field\u001b[49m\u001b[43m]\u001b[49m\u001b[43m \u001b[49m\u001b[38;5;241;43m=\u001b[39;49m\u001b[43m \u001b[49m\u001b[38;5;28;43mself\u001b[39;49m\u001b[38;5;241;43m.\u001b[39;49m\u001b[43minput_df\u001b[49m\u001b[43m[\u001b[49m\u001b[43msrc_field\u001b[49m\u001b[43m]\u001b[49m\u001b[38;5;241;43m.\u001b[39;49m\u001b[43mapply\u001b[49m\u001b[43m(\u001b[49m\u001b[43mextract_function\u001b[49m\u001b[43m)\u001b[49m\n",
      "File \u001b[0;32m~/llama2d_opentable/lm_act_eval/lm_act_eval/evaluation_harness/evaluators/sft/utils.py:141\u001b[0m, in \u001b[0;36mcfg_to_function\u001b[0;34m(funct_pairs)\u001b[0m\n\u001b[1;32m    139\u001b[0m     identity_func \u001b[38;5;241m=\u001b[39m \u001b[38;5;28;01mlambda\u001b[39;00m x: x\n\u001b[1;32m    140\u001b[0m     \u001b[38;5;28;01myield\u001b[39;00m (src_field, tgt_field), identity_func\n\u001b[0;32m--> 141\u001b[0m \u001b[38;5;28;01mif\u001b[39;00m \u001b[38;5;124;43m'\u001b[39;49m\u001b[38;5;124;43m.\u001b[39;49m\u001b[38;5;124;43m'\u001b[39;49m\u001b[43m \u001b[49m\u001b[38;5;129;43;01min\u001b[39;49;00m\u001b[43m \u001b[49m\u001b[43mfunc_name\u001b[49m: \n\u001b[1;32m    142\u001b[0m   _function_is_cls \u001b[38;5;241m=\u001b[39m \u001b[38;5;28;01mTrue\u001b[39;00m\n\u001b[1;32m    144\u001b[0m \u001b[38;5;28;01melse\u001b[39;00m: _function_is_cls \u001b[38;5;241m=\u001b[39m \u001b[38;5;28;01mFalse\u001b[39;00m\n",
      "\u001b[0;31mTypeError\u001b[0m: argument of type 'NoneType' is not iterable"
     ]
    }
   ],
   "source": [
    "from lm_act_eval.evaluation_harness.evaluators.sft.trajectory import TableTrajectoryEvaluator\n",
    "\n",
    "df_evaluator = TableTrajectoryEvaluator(cfg.sft.trajectory)"
   ]
  },
  {
   "cell_type": "code",
   "execution_count": 14,
   "metadata": {},
   "outputs": [
    {
     "data": {
      "text/html": [
       "<div>\n",
       "<style scoped>\n",
       "    .dataframe tbody tr th:only-of-type {\n",
       "        vertical-align: middle;\n",
       "    }\n",
       "\n",
       "    .dataframe tbody tr th {\n",
       "        vertical-align: top;\n",
       "    }\n",
       "\n",
       "    .dataframe thead th {\n",
       "        text-align: right;\n",
       "    }\n",
       "</style>\n",
       "<table border=\"1\" class=\"dataframe\">\n",
       "  <thead>\n",
       "    <tr style=\"text-align: right;\">\n",
       "      <th></th>\n",
       "      <th>session_id</th>\n",
       "      <th>idx_in_session</th>\n",
       "      <th>_id</th>\n",
       "      <th>event_id</th>\n",
       "      <th>parent_id</th>\n",
       "      <th>event_type</th>\n",
       "      <th>event_name</th>\n",
       "      <th>config</th>\n",
       "      <th>children_ids</th>\n",
       "      <th>inputs</th>\n",
       "      <th>...</th>\n",
       "      <th>CURRENT_TIME</th>\n",
       "      <th>planPrompt</th>\n",
       "      <th>previousActionsRepetitionPrompt</th>\n",
       "      <th>chat_completion_messages</th>\n",
       "      <th>ground_truth</th>\n",
       "      <th>screenshot</th>\n",
       "      <th>prompt</th>\n",
       "      <th>internal_metadata</th>\n",
       "      <th>chat_completion_messages_content</th>\n",
       "      <th>GPTV_generations</th>\n",
       "    </tr>\n",
       "  </thead>\n",
       "  <tbody>\n",
       "    <tr>\n",
       "      <th>169</th>\n",
       "      <td>36c2f0ba-e215-4081-96b4-ecb04c10a517</td>\n",
       "      <td>0</td>\n",
       "      <td>65ed4fc8166e07fe3c29c476</td>\n",
       "      <td>6c8932f3-c31d-4683-aeb0-52a5bbe5a978</td>\n",
       "      <td>36c2f0ba-e215-4081-96b4-ecb04c10a517</td>\n",
       "      <td>model</td>\n",
       "      <td>Model Completion</td>\n",
       "      <td>{'model': 'gpt-4-1106-preview', 'provider': 'u...</td>\n",
       "      <td>[]</td>\n",
       "      <td>{'QUERY': 'What was the actual enrollment coun...</td>\n",
       "      <td>...</td>\n",
       "      <td>Sunday, 10 March 2024 at 17:14:14 GMT+11</td>\n",
       "      <td>IMPORTANT: If the objective is complex, compri...</td>\n",
       "      <td>**PREVIOUS ACTIONS Repetition**:\\n- Review the...</td>\n",
       "      <td>[{'role': 'system', 'content': '**Goal**: Let\\...</td>\n",
       "      <td>PLAN:\\n1. Use the Google search function to fi...</td>\n",
       "      <td>https://multion-client-screenshots.s3.us-east-...</td>\n",
       "      <td>NaN</td>\n",
       "      <td>NaN</td>\n",
       "      <td>**Goal**: Let's play a game - You are an exper...</td>\n",
       "      <td>PLAN: The current user objective is to find th...</td>\n",
       "    </tr>\n",
       "    <tr>\n",
       "      <th>170</th>\n",
       "      <td>36c2f0ba-e215-4081-96b4-ecb04c10a517</td>\n",
       "      <td>1</td>\n",
       "      <td>65ed4fd1b2b5b0c1673c47d7</td>\n",
       "      <td>172ff25e-efdb-4002-b43a-0180f3f0eb19</td>\n",
       "      <td>36c2f0ba-e215-4081-96b4-ecb04c10a517</td>\n",
       "      <td>model</td>\n",
       "      <td>Model Completion</td>\n",
       "      <td>{'model': 'gpt-4-1106-preview', 'provider': 'u...</td>\n",
       "      <td>[]</td>\n",
       "      <td>{'QUERY': 'What was the actual enrollment coun...</td>\n",
       "      <td>...</td>\n",
       "      <td>Sunday, 10 March 2024 at 17:14:35 GMT+11</td>\n",
       "      <td>IMPORTANT: If the objective is complex, compri...</td>\n",
       "      <td>**PREVIOUS ACTIONS Repetition**:\\n- Review the...</td>\n",
       "      <td>[{'role': 'system', 'content': '**Goal**: Let\\...</td>\n",
       "      <td>COMMANDS:\\nCLICK 26\\nEXPLANATION: I am clickin...</td>\n",
       "      <td>https://multion-client-screenshots.s3.us-east-...</td>\n",
       "      <td>NaN</td>\n",
       "      <td>NaN</td>\n",
       "      <td>**Goal**: Let's play a game - You are an exper...</td>\n",
       "      <td>COMMANDS:\\nCLICK 26\\nEXPLANATION: I am clickin...</td>\n",
       "    </tr>\n",
       "  </tbody>\n",
       "</table>\n",
       "<p>2 rows × 39 columns</p>\n",
       "</div>"
      ],
      "text/plain": [
       "                               session_id  idx_in_session  \\\n",
       "169  36c2f0ba-e215-4081-96b4-ecb04c10a517               0   \n",
       "170  36c2f0ba-e215-4081-96b4-ecb04c10a517               1   \n",
       "\n",
       "                          _id                              event_id  \\\n",
       "169  65ed4fc8166e07fe3c29c476  6c8932f3-c31d-4683-aeb0-52a5bbe5a978   \n",
       "170  65ed4fd1b2b5b0c1673c47d7  172ff25e-efdb-4002-b43a-0180f3f0eb19   \n",
       "\n",
       "                                parent_id event_type        event_name  \\\n",
       "169  36c2f0ba-e215-4081-96b4-ecb04c10a517      model  Model Completion   \n",
       "170  36c2f0ba-e215-4081-96b4-ecb04c10a517      model  Model Completion   \n",
       "\n",
       "                                                config children_ids  \\\n",
       "169  {'model': 'gpt-4-1106-preview', 'provider': 'u...           []   \n",
       "170  {'model': 'gpt-4-1106-preview', 'provider': 'u...           []   \n",
       "\n",
       "                                                inputs  ...  \\\n",
       "169  {'QUERY': 'What was the actual enrollment coun...  ...   \n",
       "170  {'QUERY': 'What was the actual enrollment coun...  ...   \n",
       "\n",
       "                                 CURRENT_TIME  \\\n",
       "169  Sunday, 10 March 2024 at 17:14:14 GMT+11   \n",
       "170  Sunday, 10 March 2024 at 17:14:35 GMT+11   \n",
       "\n",
       "                                            planPrompt  \\\n",
       "169  IMPORTANT: If the objective is complex, compri...   \n",
       "170  IMPORTANT: If the objective is complex, compri...   \n",
       "\n",
       "                       previousActionsRepetitionPrompt  \\\n",
       "169  **PREVIOUS ACTIONS Repetition**:\\n- Review the...   \n",
       "170  **PREVIOUS ACTIONS Repetition**:\\n- Review the...   \n",
       "\n",
       "                              chat_completion_messages  \\\n",
       "169  [{'role': 'system', 'content': '**Goal**: Let\\...   \n",
       "170  [{'role': 'system', 'content': '**Goal**: Let\\...   \n",
       "\n",
       "                                          ground_truth  \\\n",
       "169  PLAN:\\n1. Use the Google search function to fi...   \n",
       "170  COMMANDS:\\nCLICK 26\\nEXPLANATION: I am clickin...   \n",
       "\n",
       "                                            screenshot prompt  \\\n",
       "169  https://multion-client-screenshots.s3.us-east-...    NaN   \n",
       "170  https://multion-client-screenshots.s3.us-east-...    NaN   \n",
       "\n",
       "    internal_metadata                   chat_completion_messages_content  \\\n",
       "169               NaN  **Goal**: Let's play a game - You are an exper...   \n",
       "170               NaN  **Goal**: Let's play a game - You are an exper...   \n",
       "\n",
       "                                      GPTV_generations  \n",
       "169  PLAN: The current user objective is to find th...  \n",
       "170  COMMANDS:\\nCLICK 26\\nEXPLANATION: I am clickin...  \n",
       "\n",
       "[2 rows x 39 columns]"
      ]
     },
     "execution_count": 14,
     "metadata": {},
     "output_type": "execute_result"
    }
   ],
   "source": [
    "df_evaluator.df.head(2)"
   ]
  },
  {
   "cell_type": "code",
   "execution_count": null,
   "metadata": {},
   "outputs": [
    {
     "data": {
      "text/plain": [
       "{'inputs': ['GOAL', 'QUERY', 'screenshots'], 'args': None}"
      ]
     },
     "execution_count": 56,
     "metadata": {},
     "output_type": "execute_result"
    }
   ],
   "source": [
    "gptv_scorer = GPTVScorer(hydra_cfg.sft.trajectory.metrics['gpt-v'])\n",
    "hydra_cfg.sft.trajectory.metrics['gpt-v']"
   ]
  },
  {
   "cell_type": "code",
   "execution_count": null,
   "metadata": {},
   "outputs": [
    {
     "data": {
      "text/html": [
       "<div>\n",
       "<style scoped>\n",
       "    .dataframe tbody tr th:only-of-type {\n",
       "        vertical-align: middle;\n",
       "    }\n",
       "\n",
       "    .dataframe tbody tr th {\n",
       "        vertical-align: top;\n",
       "    }\n",
       "\n",
       "    .dataframe thead th {\n",
       "        text-align: right;\n",
       "    }\n",
       "</style>\n",
       "<table border=\"1\" class=\"dataframe\">\n",
       "  <thead>\n",
       "    <tr style=\"text-align: right;\">\n",
       "      <th></th>\n",
       "      <th>QUERY</th>\n",
       "      <th>screenshot</th>\n",
       "      <th>GOAL</th>\n",
       "    </tr>\n",
       "  </thead>\n",
       "  <tbody>\n",
       "    <tr>\n",
       "      <th>169</th>\n",
       "      <td>What was the actual enrollment count of the cl...</td>\n",
       "      <td>https://multion-client-screenshots.s3.us-east-...</td>\n",
       "      <td>**Goal**: Let\\'s play a game - You are an expe...</td>\n",
       "    </tr>\n",
       "    <tr>\n",
       "      <th>170</th>\n",
       "      <td>What was the actual enrollment count of the cl...</td>\n",
       "      <td>https://multion-client-screenshots.s3.us-east-...</td>\n",
       "      <td>**Goal**: Let\\'s play a game - You are an expe...</td>\n",
       "    </tr>\n",
       "  </tbody>\n",
       "</table>\n",
       "</div>"
      ],
      "text/plain": [
       "                                                 QUERY  \\\n",
       "169  What was the actual enrollment count of the cl...   \n",
       "170  What was the actual enrollment count of the cl...   \n",
       "\n",
       "                                            screenshot  \\\n",
       "169  https://multion-client-screenshots.s3.us-east-...   \n",
       "170  https://multion-client-screenshots.s3.us-east-...   \n",
       "\n",
       "                                                  GOAL  \n",
       "169  **Goal**: Let\\'s play a game - You are an expe...  \n",
       "170  **Goal**: Let\\'s play a game - You are an expe...  "
      ]
     },
     "execution_count": 43,
     "metadata": {},
     "output_type": "execute_result"
    }
   ],
   "source": [
    "# \n",
    "df_evaluator.df.iloc[:2]"
   ]
  },
  {
   "cell_type": "code",
   "execution_count": null,
   "metadata": {},
   "outputs": [
    {
     "name": "stderr",
     "output_type": "stream",
     "text": [
      "Determining entry eligibility: 100%|██████████| 2/2 [00:02<00:00,  1.12s/it]\n",
      "Evaluating with GPT-V: 100%|██████████| 2/2 [00:46<00:00, 23.10s/it]\n"
     ]
    },
    {
     "data": {
      "text/html": [
       "<div>\n",
       "<style scoped>\n",
       "    .dataframe tbody tr th:only-of-type {\n",
       "        vertical-align: middle;\n",
       "    }\n",
       "\n",
       "    .dataframe tbody tr th {\n",
       "        vertical-align: top;\n",
       "    }\n",
       "\n",
       "    .dataframe thead th {\n",
       "        text-align: right;\n",
       "    }\n",
       "</style>\n",
       "<table border=\"1\" class=\"dataframe\">\n",
       "  <thead>\n",
       "    <tr style=\"text-align: right;\">\n",
       "      <th></th>\n",
       "      <th>Score</th>\n",
       "      <th>Explanation</th>\n",
       "    </tr>\n",
       "  </thead>\n",
       "  <tbody>\n",
       "    <tr>\n",
       "      <th>169</th>\n",
       "      <td>70</td>\n",
       "      <td>The screenshot indicates that the user has suc...</td>\n",
       "    </tr>\n",
       "    <tr>\n",
       "      <th>170</th>\n",
       "      <td>90</td>\n",
       "      <td>The user is very close to completing their tas...</td>\n",
       "    </tr>\n",
       "  </tbody>\n",
       "</table>\n",
       "</div>"
      ],
      "text/plain": [
       "    Score                                        Explanation\n",
       "169    70  The screenshot indicates that the user has suc...\n",
       "170    90  The user is very close to completing their tas..."
      ]
     },
     "execution_count": 58,
     "metadata": {},
     "output_type": "execute_result"
    }
   ],
   "source": [
    "gptv_scorer(df_evaluator.df.iloc[:2])"
   ]
  },
  {
   "cell_type": "markdown",
   "metadata": {},
   "source": [
    "## Save/Load Data"
   ]
  },
  {
   "cell_type": "code",
   "execution_count": null,
   "metadata": {},
   "outputs": [],
   "source": [
    "# traj_df_new = traj_df.merge(eligible_traj_df, how='left')\n",
    "# traj_df_new.to_csv(dataset_path/'csv/data+gptv_eval.csv')"
   ]
  },
  {
   "cell_type": "code",
   "execution_count": null,
   "metadata": {},
   "outputs": [],
   "source": [
    "table_name = 'data+gptv_eval-eligible'\n",
    "artifact_name = 'gptv_opentable-trajectory_eval'\n",
    "eligible_traj_df.to_csv(dataset_path/f'csv/{table_name}.csv')"
   ]
  },
  {
   "cell_type": "code",
   "execution_count": null,
   "metadata": {},
   "outputs": [
    {
     "data": {
      "text/html": [
       "<div>\n",
       "<style scoped>\n",
       "    .dataframe tbody tr th:only-of-type {\n",
       "        vertical-align: middle;\n",
       "    }\n",
       "\n",
       "    .dataframe tbody tr th {\n",
       "        vertical-align: top;\n",
       "    }\n",
       "\n",
       "    .dataframe thead th {\n",
       "        text-align: right;\n",
       "    }\n",
       "</style>\n",
       "<table border=\"1\" class=\"dataframe\">\n",
       "  <thead>\n",
       "    <tr style=\"text-align: right;\">\n",
       "      <th></th>\n",
       "      <th>session_id</th>\n",
       "      <th>idx_in_session</th>\n",
       "      <th>_id</th>\n",
       "      <th>event_id</th>\n",
       "      <th>parent_id</th>\n",
       "      <th>event_type</th>\n",
       "      <th>event_name</th>\n",
       "      <th>config</th>\n",
       "      <th>children_ids</th>\n",
       "      <th>inputs</th>\n",
       "      <th>...</th>\n",
       "      <th>planPrompt</th>\n",
       "      <th>previousActionsRepetitionPrompt</th>\n",
       "      <th>chat_completion_messages</th>\n",
       "      <th>ground_truth</th>\n",
       "      <th>screenshot</th>\n",
       "      <th>prompt</th>\n",
       "      <th>internal_metadata</th>\n",
       "      <th>GPTV response</th>\n",
       "      <th>chat_completion_messages_content</th>\n",
       "      <th>GPTV_evaluation</th>\n",
       "    </tr>\n",
       "  </thead>\n",
       "  <tbody>\n",
       "    <tr>\n",
       "      <th>169</th>\n",
       "      <td>36c2f0ba-e215-4081-96b4-ecb04c10a517</td>\n",
       "      <td>0</td>\n",
       "      <td>65ed4fc8166e07fe3c29c476</td>\n",
       "      <td>6c8932f3-c31d-4683-aeb0-52a5bbe5a978</td>\n",
       "      <td>36c2f0ba-e215-4081-96b4-ecb04c10a517</td>\n",
       "      <td>model</td>\n",
       "      <td>Model Completion</td>\n",
       "      <td>{'model': 'gpt-4-1106-preview', 'provider': 'u...</td>\n",
       "      <td>[]</td>\n",
       "      <td>{'QUERY': 'What was the actual enrollment coun...</td>\n",
       "      <td>...</td>\n",
       "      <td>IMPORTANT: If the objective is complex, compri...</td>\n",
       "      <td>**PREVIOUS ACTIONS Repetition**:\\n- Review the...</td>\n",
       "      <td>[{'role': 'system', 'content': '**Goal**: Let\\...</td>\n",
       "      <td>PLAN:\\n1. Use the Google search function to fi...</td>\n",
       "      <td>https://multion-client-screenshots.s3.us-east-...</td>\n",
       "      <td>NaN</td>\n",
       "      <td>NaN</td>\n",
       "      <td>It appears that you are looking for informatio...</td>\n",
       "      <td>**Goal**: Let's play a game - You are an exper...</td>\n",
       "      <td>SCORE: 60\\nEXPLANATION:\\nThe user appears to b...</td>\n",
       "    </tr>\n",
       "    <tr>\n",
       "      <th>170</th>\n",
       "      <td>36c2f0ba-e215-4081-96b4-ecb04c10a517</td>\n",
       "      <td>1</td>\n",
       "      <td>65ed4fd1b2b5b0c1673c47d7</td>\n",
       "      <td>172ff25e-efdb-4002-b43a-0180f3f0eb19</td>\n",
       "      <td>36c2f0ba-e215-4081-96b4-ecb04c10a517</td>\n",
       "      <td>model</td>\n",
       "      <td>Model Completion</td>\n",
       "      <td>{'model': 'gpt-4-1106-preview', 'provider': 'u...</td>\n",
       "      <td>[]</td>\n",
       "      <td>{'QUERY': 'What was the actual enrollment coun...</td>\n",
       "      <td>...</td>\n",
       "      <td>IMPORTANT: If the objective is complex, compri...</td>\n",
       "      <td>**PREVIOUS ACTIONS Repetition**:\\n- Review the...</td>\n",
       "      <td>[{'role': 'system', 'content': '**Goal**: Let\\...</td>\n",
       "      <td>COMMANDS:\\nCLICK 26\\nEXPLANATION: I am clickin...</td>\n",
       "      <td>https://multion-client-screenshots.s3.us-east-...</td>\n",
       "      <td>NaN</td>\n",
       "      <td>NaN</td>\n",
       "      <td>The image shows a webpage from ClinicalTrials....</td>\n",
       "      <td>**Goal**: Let's play a game - You are an exper...</td>\n",
       "      <td>SCORE: 95\\nEXPLANATION:\\nThe user is very clos...</td>\n",
       "    </tr>\n",
       "  </tbody>\n",
       "</table>\n",
       "<p>2 rows × 40 columns</p>\n",
       "</div>"
      ],
      "text/plain": [
       "                               session_id  idx_in_session  \\\n",
       "169  36c2f0ba-e215-4081-96b4-ecb04c10a517               0   \n",
       "170  36c2f0ba-e215-4081-96b4-ecb04c10a517               1   \n",
       "\n",
       "                          _id                              event_id  \\\n",
       "169  65ed4fc8166e07fe3c29c476  6c8932f3-c31d-4683-aeb0-52a5bbe5a978   \n",
       "170  65ed4fd1b2b5b0c1673c47d7  172ff25e-efdb-4002-b43a-0180f3f0eb19   \n",
       "\n",
       "                                parent_id event_type        event_name  \\\n",
       "169  36c2f0ba-e215-4081-96b4-ecb04c10a517      model  Model Completion   \n",
       "170  36c2f0ba-e215-4081-96b4-ecb04c10a517      model  Model Completion   \n",
       "\n",
       "                                                config children_ids  \\\n",
       "169  {'model': 'gpt-4-1106-preview', 'provider': 'u...           []   \n",
       "170  {'model': 'gpt-4-1106-preview', 'provider': 'u...           []   \n",
       "\n",
       "                                                inputs  ...  \\\n",
       "169  {'QUERY': 'What was the actual enrollment coun...  ...   \n",
       "170  {'QUERY': 'What was the actual enrollment coun...  ...   \n",
       "\n",
       "                                            planPrompt  \\\n",
       "169  IMPORTANT: If the objective is complex, compri...   \n",
       "170  IMPORTANT: If the objective is complex, compri...   \n",
       "\n",
       "                       previousActionsRepetitionPrompt  \\\n",
       "169  **PREVIOUS ACTIONS Repetition**:\\n- Review the...   \n",
       "170  **PREVIOUS ACTIONS Repetition**:\\n- Review the...   \n",
       "\n",
       "                              chat_completion_messages  \\\n",
       "169  [{'role': 'system', 'content': '**Goal**: Let\\...   \n",
       "170  [{'role': 'system', 'content': '**Goal**: Let\\...   \n",
       "\n",
       "                                          ground_truth  \\\n",
       "169  PLAN:\\n1. Use the Google search function to fi...   \n",
       "170  COMMANDS:\\nCLICK 26\\nEXPLANATION: I am clickin...   \n",
       "\n",
       "                                            screenshot prompt  \\\n",
       "169  https://multion-client-screenshots.s3.us-east-...    NaN   \n",
       "170  https://multion-client-screenshots.s3.us-east-...    NaN   \n",
       "\n",
       "    internal_metadata                                      GPTV response  \\\n",
       "169               NaN  It appears that you are looking for informatio...   \n",
       "170               NaN  The image shows a webpage from ClinicalTrials....   \n",
       "\n",
       "                      chat_completion_messages_content  \\\n",
       "169  **Goal**: Let's play a game - You are an exper...   \n",
       "170  **Goal**: Let's play a game - You are an exper...   \n",
       "\n",
       "                                       GPTV_evaluation  \n",
       "169  SCORE: 60\\nEXPLANATION:\\nThe user appears to b...  \n",
       "170  SCORE: 95\\nEXPLANATION:\\nThe user is very clos...  \n",
       "\n",
       "[2 rows x 40 columns]"
      ]
     },
     "execution_count": 115,
     "metadata": {},
     "output_type": "execute_result"
    }
   ],
   "source": [
    "eligible_traj_df = pd.read_csv(\n",
    "  dataset_path/f'csv/{table_name}.csv', index_col=0)\n",
    "eligible_traj_df.index.name = None\n",
    "eligible_traj_df.head(2)"
   ]
  },
  {
   "cell_type": "markdown",
   "metadata": {},
   "source": [
    "Logging"
   ]
  },
  {
   "cell_type": "code",
   "execution_count": null,
   "metadata": {},
   "outputs": [
    {
     "name": "stderr",
     "output_type": "stream",
     "text": [
      "ERROR:wandb.jupyter:Failed to detect the name of this notebook, you can set it manually with the WANDB_NOTEBOOK_NAME environment variable to enable code saving.\n"
     ]
    },
    {
     "name": "stderr",
     "output_type": "stream",
     "text": [
      "\u001b[34m\u001b[1mwandb\u001b[0m: Logging into wandb.ai. (Learn how to deploy a W&B server locally: https://wandb.me/wandb-server)\n",
      "\u001b[34m\u001b[1mwandb\u001b[0m: You can find your API key in your browser here: https://wandb.ai/authorize\n",
      "\u001b[34m\u001b[1mwandb\u001b[0m: Paste an API key from your profile and hit enter, or press ctrl+c to quit:\u001b[34m\u001b[1mwandb\u001b[0m: Appending key for api.wandb.ai to your netrc file: /home/opadmin/.netrc\n"
     ]
    },
    {
     "data": {
      "text/plain": [
       "True"
      ]
     },
     "execution_count": 113,
     "metadata": {},
     "output_type": "execute_result"
    }
   ],
   "source": [
    "# log data\n",
    "import wandb\n",
    "from dotenv import load_dotenv\n",
    "load_dotenv()\n",
    "wandb.login(relogin=True)"
   ]
  },
  {
   "cell_type": "code",
   "execution_count": null,
   "metadata": {},
   "outputs": [],
   "source": [
    "opentable_artifact = wandb.Artifact(\"opentable_trajectories-gptv_eval\", type=\"dataset\")\n",
    "# opentable_table = wandb.Table(dataframe=traj_df_new)\n",
    "opentable_table_eligible = wandb.Table(dataframe=eligible_traj_df)\n",
    "#\n",
    "# opentable_artifact.add(opentable_table, \"opentable\")\n",
    "opentable_artifact.add(\n",
    "  opentable_table_eligible, artifact_name)\n",
    "# opentable_artifact.add_file(str(dataset_path/'csv/data+gptv.csv'))\n",
    "opentable_artifact.add_file(str(dataset_path/f'csv/{table_name}.csv'))\n"
   ]
  },
  {
   "cell_type": "code",
   "execution_count": null,
   "metadata": {},
   "outputs": [
    {
     "name": "stderr",
     "output_type": "stream",
     "text": [
      "\u001b[34m\u001b[1mwandb\u001b[0m: Currently logged in as: \u001b[33mmmym\u001b[0m (\u001b[33mmultion-agi\u001b[0m). Use \u001b[1m`wandb login --relogin`\u001b[0m to force relogin\n"
     ]
    },
    {
     "data": {
      "text/html": [
       "wandb version 0.16.5 is available!  To upgrade, please run:\n",
       " $ pip install wandb --upgrade"
      ],
      "text/plain": [
       "<IPython.core.display.HTML object>"
      ]
     },
     "metadata": {},
     "output_type": "display_data"
    },
    {
     "data": {
      "text/html": [
       "Tracking run with wandb version 0.16.4"
      ],
      "text/plain": [
       "<IPython.core.display.HTML object>"
      ]
     },
     "metadata": {},
     "output_type": "display_data"
    },
    {
     "data": {
      "text/html": [
       "Run data is saved locally in <code>/home/opadmin/llama2d_opentable/lm_act_eval/wandb/run-20240327_112123-kkcvren2</code>"
      ],
      "text/plain": [
       "<IPython.core.display.HTML object>"
      ]
     },
     "metadata": {},
     "output_type": "display_data"
    },
    {
     "data": {
      "text/html": [
       "Syncing run <strong><a href='https://wandb.ai/multion-agi/trajectory_eval/runs/kkcvren2' target=\"_blank\">classic-bush-11</a></strong> to <a href='https://wandb.ai/multion-agi/trajectory_eval' target=\"_blank\">Weights & Biases</a> (<a href='https://wandb.me/run' target=\"_blank\">docs</a>)<br/>"
      ],
      "text/plain": [
       "<IPython.core.display.HTML object>"
      ]
     },
     "metadata": {},
     "output_type": "display_data"
    },
    {
     "data": {
      "text/html": [
       " View project at <a href='https://wandb.ai/multion-agi/trajectory_eval' target=\"_blank\">https://wandb.ai/multion-agi/trajectory_eval</a>"
      ],
      "text/plain": [
       "<IPython.core.display.HTML object>"
      ]
     },
     "metadata": {},
     "output_type": "display_data"
    },
    {
     "data": {
      "text/html": [
       " View run at <a href='https://wandb.ai/multion-agi/trajectory_eval/runs/kkcvren2' target=\"_blank\">https://wandb.ai/multion-agi/trajectory_eval/runs/kkcvren2</a>"
      ],
      "text/plain": [
       "<IPython.core.display.HTML object>"
      ]
     },
     "metadata": {},
     "output_type": "display_data"
    },
    {
     "name": "stderr",
     "output_type": "stream",
     "text": [
      "\u001b[34m\u001b[1mwandb\u001b[0m: \u001b[33mWARNING\u001b[0m Serializing object of type str that is 531752 bytes\n",
      "\u001b[34m\u001b[1mwandb\u001b[0m: \u001b[33mWARNING\u001b[0m Serializing object of type str that is 517908 bytes\n",
      "\u001b[34m\u001b[1mwandb\u001b[0m: \u001b[33mWARNING\u001b[0m Serializing object of type str that is 541284 bytes\n",
      "\u001b[34m\u001b[1mwandb\u001b[0m: \u001b[33mWARNING\u001b[0m Serializing object of type str that is 525810 bytes\n",
      "\u001b[34m\u001b[1mwandb\u001b[0m: \u001b[33mWARNING\u001b[0m Serializing object of type str that is 116864 bytes\n",
      "\u001b[34m\u001b[1mwandb\u001b[0m: \u001b[33mWARNING\u001b[0m Serializing object of type str that is 121274 bytes\n",
      "\u001b[34m\u001b[1mwandb\u001b[0m: \u001b[33mWARNING\u001b[0m Serializing object of type str that is 120688 bytes\n",
      "\u001b[34m\u001b[1mwandb\u001b[0m: \u001b[33mWARNING\u001b[0m Serializing object of type str that is 124364 bytes\n",
      "\u001b[34m\u001b[1mwandb\u001b[0m: \u001b[33mWARNING\u001b[0m Serializing object of type str that is 127354 bytes\n",
      "\u001b[34m\u001b[1mwandb\u001b[0m: \u001b[33mWARNING\u001b[0m Serializing object of type str that is 129308 bytes\n",
      "\u001b[34m\u001b[1mwandb\u001b[0m: \u001b[33mWARNING\u001b[0m Serializing object of type str that is 129582 bytes\n",
      "\u001b[34m\u001b[1mwandb\u001b[0m: \u001b[33mWARNING\u001b[0m Serializing object of type str that is 135310 bytes\n",
      "\u001b[34m\u001b[1mwandb\u001b[0m: \u001b[33mWARNING\u001b[0m Serializing object of type str that is 137856 bytes\n",
      "\u001b[34m\u001b[1mwandb\u001b[0m: \u001b[33mWARNING\u001b[0m Serializing object of type str that is 137644 bytes\n",
      "\u001b[34m\u001b[1mwandb\u001b[0m: \u001b[33mWARNING\u001b[0m Serializing object of type str that is 136800 bytes\n",
      "\u001b[34m\u001b[1mwandb\u001b[0m: \u001b[33mWARNING\u001b[0m Serializing object of type str that is 139488 bytes\n",
      "\u001b[34m\u001b[1mwandb\u001b[0m: \u001b[33mWARNING\u001b[0m Serializing object of type str that is 145450 bytes\n",
      "\u001b[34m\u001b[1mwandb\u001b[0m: \u001b[33mWARNING\u001b[0m Serializing object of type str that is 143400 bytes\n",
      "\u001b[34m\u001b[1mwandb\u001b[0m: \u001b[33mWARNING\u001b[0m Serializing object of type str that is 144604 bytes\n",
      "\u001b[34m\u001b[1mwandb\u001b[0m: \u001b[33mWARNING\u001b[0m Serializing object of type str that is 148884 bytes\n",
      "\u001b[34m\u001b[1mwandb\u001b[0m: \u001b[33mWARNING\u001b[0m Serializing object of type str that is 144942 bytes\n",
      "\u001b[34m\u001b[1mwandb\u001b[0m: \u001b[33mWARNING\u001b[0m Serializing object of type str that is 158396 bytes\n",
      "\u001b[34m\u001b[1mwandb\u001b[0m: \u001b[33mWARNING\u001b[0m Serializing object of type str that is 160856 bytes\n",
      "\u001b[34m\u001b[1mwandb\u001b[0m: \u001b[33mWARNING\u001b[0m Serializing object of type str that is 101088 bytes\n",
      "\u001b[34m\u001b[1mwandb\u001b[0m: \u001b[33mWARNING\u001b[0m Serializing object of type str that is 163330 bytes\n",
      "\u001b[34m\u001b[1mwandb\u001b[0m: \u001b[33mWARNING\u001b[0m Serializing object of type str that is 102826 bytes\n",
      "\u001b[34m\u001b[1mwandb\u001b[0m: \u001b[33mWARNING\u001b[0m Serializing object of type str that is 163974 bytes\n",
      "\u001b[34m\u001b[1mwandb\u001b[0m: \u001b[33mWARNING\u001b[0m Serializing object of type str that is 102464 bytes\n",
      "\u001b[34m\u001b[1mwandb\u001b[0m: \u001b[33mWARNING\u001b[0m Serializing object of type str that is 162444 bytes\n",
      "\u001b[34m\u001b[1mwandb\u001b[0m: \u001b[33mWARNING\u001b[0m Serializing object of type str that is 100274 bytes\n",
      "\u001b[34m\u001b[1mwandb\u001b[0m: \u001b[33mWARNING\u001b[0m Serializing object of type str that is 171034 bytes\n",
      "\u001b[34m\u001b[1mwandb\u001b[0m: \u001b[33mWARNING\u001b[0m Serializing object of type str that is 107774 bytes\n",
      "\u001b[34m\u001b[1mwandb\u001b[0m: \u001b[33mWARNING\u001b[0m Serializing object of type str that is 171514 bytes\n",
      "\u001b[34m\u001b[1mwandb\u001b[0m: \u001b[33mWARNING\u001b[0m Serializing object of type str that is 107154 bytes\n",
      "\u001b[34m\u001b[1mwandb\u001b[0m: \u001b[33mWARNING\u001b[0m Serializing object of type str that is 178978 bytes\n",
      "\u001b[34m\u001b[1mwandb\u001b[0m: \u001b[33mWARNING\u001b[0m Serializing object of type str that is 113514 bytes\n",
      "\u001b[34m\u001b[1mwandb\u001b[0m: \u001b[33mWARNING\u001b[0m Serializing object of type str that is 182604 bytes\n",
      "\u001b[34m\u001b[1mwandb\u001b[0m: \u001b[33mWARNING\u001b[0m Serializing object of type str that is 116100 bytes\n",
      "\u001b[34m\u001b[1mwandb\u001b[0m: \u001b[33mWARNING\u001b[0m Serializing object of type str that is 181408 bytes\n",
      "\u001b[34m\u001b[1mwandb\u001b[0m: \u001b[33mWARNING\u001b[0m Serializing object of type str that is 111572 bytes\n",
      "\u001b[34m\u001b[1mwandb\u001b[0m: \u001b[33mWARNING\u001b[0m Serializing object of type str that is 184360 bytes\n",
      "\u001b[34m\u001b[1mwandb\u001b[0m: \u001b[33mWARNING\u001b[0m Serializing object of type str that is 115362 bytes\n",
      "\u001b[34m\u001b[1mwandb\u001b[0m: \u001b[33mWARNING\u001b[0m Serializing object of type str that is 184852 bytes\n",
      "\u001b[34m\u001b[1mwandb\u001b[0m: \u001b[33mWARNING\u001b[0m Serializing object of type str that is 111658 bytes\n",
      "\u001b[34m\u001b[1mwandb\u001b[0m: \u001b[33mWARNING\u001b[0m Serializing object of type str that is 184348 bytes\n",
      "\u001b[34m\u001b[1mwandb\u001b[0m: \u001b[33mWARNING\u001b[0m Serializing object of type str that is 108370 bytes\n",
      "\u001b[34m\u001b[1mwandb\u001b[0m: \u001b[33mWARNING\u001b[0m Serializing object of type str that is 101956 bytes\n",
      "\u001b[34m\u001b[1mwandb\u001b[0m: \u001b[33mWARNING\u001b[0m Serializing object of type str that is 104122 bytes\n",
      "\u001b[34m\u001b[1mwandb\u001b[0m: \u001b[33mWARNING\u001b[0m Serializing object of type str that is 155904 bytes\n",
      "\u001b[34m\u001b[1mwandb\u001b[0m: \u001b[33mWARNING\u001b[0m Serializing object of type str that is 101490 bytes\n",
      "\u001b[34m\u001b[1mwandb\u001b[0m: \u001b[33mWARNING\u001b[0m Serializing object of type str that is 190120 bytes\n",
      "\u001b[34m\u001b[1mwandb\u001b[0m: \u001b[33mWARNING\u001b[0m Serializing object of type str that is 110260 bytes\n",
      "\u001b[34m\u001b[1mwandb\u001b[0m: \u001b[33mWARNING\u001b[0m Serializing object of type str that is 193908 bytes\n",
      "\u001b[34m\u001b[1mwandb\u001b[0m: \u001b[33mWARNING\u001b[0m Serializing object of type str that is 104770 bytes\n",
      "\u001b[34m\u001b[1mwandb\u001b[0m: \u001b[33mWARNING\u001b[0m Serializing object of type str that is 103218 bytes\n",
      "\u001b[34m\u001b[1mwandb\u001b[0m: \u001b[33mWARNING\u001b[0m Serializing object of type str that is 124644 bytes\n",
      "\u001b[34m\u001b[1mwandb\u001b[0m: \u001b[33mWARNING\u001b[0m Serializing object of type str that is 143560 bytes\n",
      "\u001b[34m\u001b[1mwandb\u001b[0m: \u001b[33mWARNING\u001b[0m Serializing object of type str that is 148592 bytes\n",
      "\u001b[34m\u001b[1mwandb\u001b[0m: \u001b[33mWARNING\u001b[0m Serializing object of type str that is 106152 bytes\n",
      "\u001b[34m\u001b[1mwandb\u001b[0m: \u001b[33mWARNING\u001b[0m Serializing object of type str that is 116552 bytes\n"
     ]
    },
    {
     "data": {
      "text/plain": [
       "<Artifact opentable_trajectories-gptv_eval>"
      ]
     },
     "execution_count": 120,
     "metadata": {},
     "output_type": "execute_result"
    }
   ],
   "source": [
    "# Start a W&B run to log data\n",
    "run = wandb.init(project=\"trajectory_eval\", reinit=True)\n",
    "# Log the table to visualize with a run...\n",
    "run.log({\"opentable_gptv\": opentable_table_eligible})\n",
    "\n",
    "# and Log as an Artifact to increase the available row limit!\n",
    "run.log_artifact(opentable_artifact)"
   ]
  }
 ],
 "metadata": {
  "kernelspec": {
   "display_name": "eval-dev",
   "language": "python",
   "name": "python3"
  },
  "language_info": {
   "codemirror_mode": {
    "name": "ipython",
    "version": 3
   },
   "file_extension": ".py",
   "mimetype": "text/x-python",
   "name": "python",
   "nbconvert_exporter": "python",
   "pygments_lexer": "ipython3",
   "version": "3.11.8"
  }
 },
 "nbformat": 4,
 "nbformat_minor": 2
}
