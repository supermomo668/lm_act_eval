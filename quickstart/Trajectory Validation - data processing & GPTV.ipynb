{
 "cells": [
  {
   "cell_type": "code",
   "execution_count": 1,
   "metadata": {},
   "outputs": [],
   "source": [
    "from pathlib import Path\n",
    "import os\n",
    "from dotenv import load_dotenv\n",
    "\n",
    "%load_ext autoreload\n",
    "%autoreload 2"
   ]
  },
  {
   "cell_type": "code",
   "execution_count": 2,
   "metadata": {},
   "outputs": [
    {
     "name": "stdout",
     "output_type": "stream",
     "text": [
      "/home/opadmin/llama2d_opentable/lm_act_eval\n"
     ]
    },
    {
     "data": {
      "text/plain": [
       "True"
      ]
     },
     "execution_count": 2,
     "metadata": {},
     "output_type": "execute_result"
    }
   ],
   "source": [
    "# change dir to ml repo at ml/ root (if you started in notebook/)\n",
    "os.chdir('../')\n",
    "print(Path.cwd())\n",
    "load_dotenv()"
   ]
  },
  {
   "cell_type": "code",
   "execution_count": 100,
   "metadata": {},
   "outputs": [
    {
     "name": "stdout",
     "output_type": "stream",
     "text": [
      "Index(['Unnamed: 0', '_id', 'tenant', 'project_id', 'created_at', 'updated_at',\n",
      "       'inputs', 'history', 'ground_truth', 'linked_event', 'linked_evals',\n",
      "       'linked_datasets', 'saved', 'type', 'metadata', 'QUERY', 'URL', 'DOM',\n",
      "       'RULES', 'CURRENT_TIME', 'planPrompt',\n",
      "       'previousActionsRepetitionPrompt', 'chat_completion_messages',\n",
      "       'USER_CONTEXT', 'PREV_ACTIONS', 'prompt', 'CHAT_HISTORY'],\n",
      "      dtype='object')\n"
     ]
    },
    {
     "data": {
      "text/html": [
       "<div>\n",
       "<style scoped>\n",
       "    .dataframe tbody tr th:only-of-type {\n",
       "        vertical-align: middle;\n",
       "    }\n",
       "\n",
       "    .dataframe tbody tr th {\n",
       "        vertical-align: top;\n",
       "    }\n",
       "\n",
       "    .dataframe thead th {\n",
       "        text-align: right;\n",
       "    }\n",
       "</style>\n",
       "<table border=\"1\" class=\"dataframe\">\n",
       "  <thead>\n",
       "    <tr style=\"text-align: right;\">\n",
       "      <th></th>\n",
       "      <th>Unnamed: 0</th>\n",
       "      <th>_id</th>\n",
       "      <th>tenant</th>\n",
       "      <th>project_id</th>\n",
       "      <th>created_at</th>\n",
       "      <th>updated_at</th>\n",
       "      <th>inputs</th>\n",
       "      <th>history</th>\n",
       "      <th>ground_truth</th>\n",
       "      <th>linked_event</th>\n",
       "      <th>...</th>\n",
       "      <th>DOM</th>\n",
       "      <th>RULES</th>\n",
       "      <th>CURRENT_TIME</th>\n",
       "      <th>planPrompt</th>\n",
       "      <th>previousActionsRepetitionPrompt</th>\n",
       "      <th>chat_completion_messages</th>\n",
       "      <th>USER_CONTEXT</th>\n",
       "      <th>PREV_ACTIONS</th>\n",
       "      <th>prompt</th>\n",
       "      <th>CHAT_HISTORY</th>\n",
       "    </tr>\n",
       "  </thead>\n",
       "  <tbody>\n",
       "    <tr>\n",
       "      <th>0</th>\n",
       "      <td>0</td>\n",
       "      <td>65c95958a3d1e05a556776d4</td>\n",
       "      <td>org_5486oZLB8HZcT2Y1</td>\n",
       "      <td>648f6f2cd97aa222cef53da9</td>\n",
       "      <td>2024-02-11 23:33:44.479</td>\n",
       "      <td>2024-02-11 23:33:44.479</td>\n",
       "      <td>{'QUERY': \"Book a reservation for the restaura...</td>\n",
       "      <td>[{'role': 'user', 'content': \"Book a reservati...</td>\n",
       "      <td>It appears that the browser content is not ava...</td>\n",
       "      <td>9c92b671-c113-4472-aeb9-d1d5944f1a9b</td>\n",
       "      <td>...</td>\n",
       "      <td>NaN</td>\n",
       "      <td>NaN</td>\n",
       "      <td>Sunday, February 11, 2024 at 4:44:52 AM UTC</td>\n",
       "      <td>IMPORTANT: If the objective is complex, or you...</td>\n",
       "      <td>**PREVIOUS ACTIONS Repetition**:\\n- Review the...</td>\n",
       "      <td>[{'role': 'system', 'content': '**Goal**: Let\\...</td>\n",
       "      <td>NaN</td>\n",
       "      <td>NaN</td>\n",
       "      <td>NaN</td>\n",
       "      <td>NaN</td>\n",
       "    </tr>\n",
       "    <tr>\n",
       "      <th>1</th>\n",
       "      <td>1</td>\n",
       "      <td>65c95958a3d1e05a556776d5</td>\n",
       "      <td>org_5486oZLB8HZcT2Y1</td>\n",
       "      <td>648f6f2cd97aa222cef53da9</td>\n",
       "      <td>2024-02-11 23:33:44.480</td>\n",
       "      <td>2024-02-11 23:33:44.480</td>\n",
       "      <td>{'QUERY': \"Book a reservation for the restaura...</td>\n",
       "      <td>[{'role': 'user', 'content': \"Book a reservati...</td>\n",
       "      <td>COMMANDS:\\nCLICK 29\\nEXPLANATION: I am clickin...</td>\n",
       "      <td>535be7d9-b6ad-4014-8191-a293ee71372d</td>\n",
       "      <td>...</td>\n",
       "      <td>&lt;l id=0/&gt;\\n&lt;t id=1&gt;Skip to main content/&gt;\\n&lt;l ...</td>\n",
       "      <td>NaN</td>\n",
       "      <td>Sunday, February 11, 2024 at 4:44:48 AM UTC</td>\n",
       "      <td>IMPORTANT: If the objective is complex, or you...</td>\n",
       "      <td>**PREVIOUS ACTIONS Repetition**:\\n- Review the...</td>\n",
       "      <td>[{'role': 'system', 'content': '**Goal**: Let\\...</td>\n",
       "      <td>NaN</td>\n",
       "      <td>NaN</td>\n",
       "      <td>NaN</td>\n",
       "      <td>NaN</td>\n",
       "    </tr>\n",
       "  </tbody>\n",
       "</table>\n",
       "<p>2 rows × 27 columns</p>\n",
       "</div>"
      ],
      "text/plain": [
       "   Unnamed: 0                       _id                tenant  \\\n",
       "0           0  65c95958a3d1e05a556776d4  org_5486oZLB8HZcT2Y1   \n",
       "1           1  65c95958a3d1e05a556776d5  org_5486oZLB8HZcT2Y1   \n",
       "\n",
       "                 project_id               created_at               updated_at  \\\n",
       "0  648f6f2cd97aa222cef53da9  2024-02-11 23:33:44.479  2024-02-11 23:33:44.479   \n",
       "1  648f6f2cd97aa222cef53da9  2024-02-11 23:33:44.480  2024-02-11 23:33:44.480   \n",
       "\n",
       "                                              inputs  \\\n",
       "0  {'QUERY': \"Book a reservation for the restaura...   \n",
       "1  {'QUERY': \"Book a reservation for the restaura...   \n",
       "\n",
       "                                             history  \\\n",
       "0  [{'role': 'user', 'content': \"Book a reservati...   \n",
       "1  [{'role': 'user', 'content': \"Book a reservati...   \n",
       "\n",
       "                                        ground_truth  \\\n",
       "0  It appears that the browser content is not ava...   \n",
       "1  COMMANDS:\\nCLICK 29\\nEXPLANATION: I am clickin...   \n",
       "\n",
       "                           linked_event  ...  \\\n",
       "0  9c92b671-c113-4472-aeb9-d1d5944f1a9b  ...   \n",
       "1  535be7d9-b6ad-4014-8191-a293ee71372d  ...   \n",
       "\n",
       "                                                 DOM RULES  \\\n",
       "0                                                NaN   NaN   \n",
       "1  <l id=0/>\\n<t id=1>Skip to main content/>\\n<l ...   NaN   \n",
       "\n",
       "                                  CURRENT_TIME  \\\n",
       "0  Sunday, February 11, 2024 at 4:44:52 AM UTC   \n",
       "1  Sunday, February 11, 2024 at 4:44:48 AM UTC   \n",
       "\n",
       "                                          planPrompt  \\\n",
       "0  IMPORTANT: If the objective is complex, or you...   \n",
       "1  IMPORTANT: If the objective is complex, or you...   \n",
       "\n",
       "                     previousActionsRepetitionPrompt  \\\n",
       "0  **PREVIOUS ACTIONS Repetition**:\\n- Review the...   \n",
       "1  **PREVIOUS ACTIONS Repetition**:\\n- Review the...   \n",
       "\n",
       "                            chat_completion_messages USER_CONTEXT  \\\n",
       "0  [{'role': 'system', 'content': '**Goal**: Let\\...          NaN   \n",
       "1  [{'role': 'system', 'content': '**Goal**: Let\\...          NaN   \n",
       "\n",
       "  PREV_ACTIONS prompt CHAT_HISTORY  \n",
       "0          NaN    NaN          NaN  \n",
       "1          NaN    NaN          NaN  \n",
       "\n",
       "[2 rows x 27 columns]"
      ]
     },
     "execution_count": 100,
     "metadata": {},
     "output_type": "execute_result"
    }
   ],
   "source": [
    "# read dataset into datasets\n",
    "from datasets import Dataset\n",
    "import pandas as pd\n",
    "dataset_name = \"five-star-trajectories\"\n",
    "dataset_path = Path(f\"lm_act_eval/.cache/{dataset_name }\")\n",
    "traj_df = pd.read_csv(dataset_path/\"csv/data.csv\")\n",
    "traj_dataset = Dataset.from_pandas(traj_df)\n",
    "print(traj_df.columns)\n",
    "traj_df[traj_df.session_id==traj_df.session_id.unique()[0]]\n",
    "traj_df.head(2)"
   ]
  },
  {
   "cell_type": "code",
   "execution_count": 5,
   "metadata": {},
   "outputs": [
    {
     "name": "stdout",
     "output_type": "stream",
     "text": [
      "{'role': 'assistant', 'content': 'COMMANDS:\\nCLICK 10\\nEXPLANATION: I am clicking on the \"Ayuda\" (Help) section, which is likely to contain FAQs or other assistance information that may include details about the expiration of prepaid SIM cards.\\n\\nSTATUS: CONTINUE'}\n",
      "COMMANDS:\n",
      "CLICK 10\n",
      "EXPLANATION: I am clicking on the \"Ayuda\" (Help) section, which is likely to contain FAQs or other assistance information that may include details about the expiration of prepaid SIM cards.\n",
      "\n",
      "STATUS: CONTINUE\n",
      "- I am navigating to the Claro Paraguay website to find information about the expiration of prepaid SIM cards.\n",
      "\n",
      "\n",
      "- I am clicking on the \"Ayuda\" (Help) link, which is likely to lead to a section with customer support information or FAQs where we might find details about the expiration of prepaid SIM cards.\n",
      "\n",
      "\n"
     ]
    },
    {
     "data": {
      "text/plain": [
       "[None, None, None]"
      ]
     },
     "execution_count": 5,
     "metadata": {},
     "output_type": "execute_result"
    }
   ],
   "source": [
    "[\n",
    "  print(obj[15]) for obj in [\n",
    "    traj_df.outputs, \n",
    "    traj_df.ground_truth, \n",
    "    traj_df.PREV_ACTIONS\n",
    "  ]\n",
    "]"
   ]
  },
  {
   "cell_type": "code",
   "execution_count": 57,
   "metadata": {},
   "outputs": [],
   "source": [
    "from lm_act_eval.evaluation_harness.helper_functions.multion import (\n",
    "  action_prefix,\n",
    "  clean_extracted_text,\n",
    "  extract_thought,\n",
    "  extract_action,\n",
    "  extract_explanation,\n",
    "  ParseChatCompletion\n",
    ")\n",
    "from lm_act_eval.evaluation_harness.utils.url import is_screenshot_url_accessible"
   ]
  },
  {
   "cell_type": "code",
   "execution_count": 15,
   "metadata": {},
   "outputs": [
    {
     "name": "stdout",
     "output_type": "stream",
     "text": [
      "GOTO_URL https://www.google.com/search?q=Tony+Kanaan+Indy+500+results+2013-2023\n"
     ]
    }
   ],
   "source": [
    "print(extract_action(traj_df.ground_truth[211]))"
   ]
  },
  {
   "cell_type": "code",
   "execution_count": 16,
   "metadata": {},
   "outputs": [
    {
     "name": "stdout",
     "output_type": "stream",
     "text": [
      "- I am selecting Boogaloo - St. Louis restaurant which has been identified as accommodating vegetarian preferences to view their menu.\n",
      "\n",
      "\n",
      "**PREVIOUS ACTIONS Repetition**:\n",
      "- Review the \"PREVIOUS ACTIONS\"\n",
      "- Then check if there is a repeated PREVIOUS ACTION.\n",
      "- If you see repeated PREVIOUS ACTION, say: \"EXPLANATION: I already did this action. I'm going to do another action.\", and do another action.\n",
      "- You can not repeat PREVIOUS ACTIONS, so you must correct yourself if you see a repeated PREVIOUS ACTION.\n",
      "- Detect when you are in a loop based on the repeated PREVIOUS ACTIONS. You are a genius detecting that. This way you can win the game.\n",
      "\n",
      "[{'role': 'system', 'content': '**Goal**: Let\\'s play a game - You are an expert agent named MULTI·ON developed by \"MultiOn\" controlling a browser (you are not just a language model anymore). \\n\\nYou are given:\\n1. An objective that you are trying to achieve\\n2. The URL of your current web page\\n3. A simplified text description of what\\'s visible in the browser window (more on that below)\\n\\n**Actions**:\\nChoose from these actions: COMMANDS, ANSWER, or ASK_USER_HELP. If the user seeks information and you know the answer based on prior knowledge or the page content, answer without issuing commands.\\n\\n1. COMMANDS: Start with “COMMANDS:\\n”. Use simple commands like CLICK <id>, TYPE <id> \"<text>\", or SUBMIT <id>. <id> is a number for an item on the webpage. After commands, write an explanation with \"EXPLANATION: I am\" followed by a summary of your goal (do not mention low-level details like IDs). Each command should be on a new line. In outputs, use only the integer part of the ID, without brackets or other characters (e.g., <id=123> should be 123).\\nYou have access to the following commands:\\n- GOTO_URL X - set the URL to X (only use this at the start of the command list)\\n- CLICK X - click on a given element. You can only click on links, buttons, and inputs!\\n- TYPE X \"TEXT\" - type the specified text into the input with id X\\n- SUBMIT X - presses ENTER to submit the form or search query (highly preferred if the input is a search box)\\n- CLEAR X - clears the text in the input with id X (use to clear previously typed text)\\n- SCROLL_UP X - scroll up X pages\\n- SCROLL_DOWN X - scroll down X pages\\n- WAIT - wait 5ms on a page (this will refresh the page, so don\\'t issue any subsequent command)\\n\\nDo not issue any commands besides those given above and only use the specified command language spec.\\n\\n2. ANSWER: If you know the answer, start with “ANSWER: ”.\\n\\n3. ASK_USER_HELP: If you need the user\\'s help, start with “ASK_USER_HELP: ”. No need for explanations here. Finish with \"STATUS: NOT SURE\". Example of how to ask for help: \"ASK_USER_HELP: I need help with this....\\n\\nSTATUS: NOT SURE\".\\n\\n**Interacting with Menus**:\\n- Click to open a menu and wait. Pick options carefully.\\n- Don\\'t rush or open multiple menus at once.\\n- Always remember to select the correct option from the dropdown (using \"CLICK\") before moving to the next menu\\n\\n**Status Update**:\\nAfter the response (always at the end of the response), on a newline, write your current task status of achieving the objective:\\n- “STATUS: DONE” if the task is finished.\\n- “STATUS: CONTINUE” with a suggestion for the next action if the task isn\\'t finished.\\n- “STATUS: NOT SURE” if you\\'re unsure and need help. Also, ask the user for help or more information. Also use this status when you asked a question to the user and are waiting for a response.\\n- “STATUS: WRONG” if the user\\'s request seems incorrect. Also, clarify the user intention.\\n\\nIf the objective has been achieved already based on the previous actions, browser content, or chat history, then the task is finished. Remember, ALWAYS include a status in your output!\\n\\n**Research or Information Gathering Technique**:\\nWhen you need to research or collect information:\\n- Begin by locating the information, which may involve visiting websites or searching online.\\n- Scroll through the page to uncover the necessary details.\\nUpon finding the relevant information, pause scrolling. Summarize the main points using the Memorization Technique. You may continue to scroll for additional information if needed.\\n- Utilize this summary to complete your task.\\n- If the information isn\\'t on the page, note, \"EXPLANATION: I checked the page but found no relevant information. I will search on another page.\" Proceed to a new page and repeat the steps.\\n\\n**Memorization Technique**:\\nSince you don\\'t have a memory, for tasks requiring memorization:\\n- First, be sure of what you want to memorize.\\n- Start the memory with: \"EXPLANATION: Memorizing the following information: ...\".\\n- This is the only way you have to remember things.\\n- Example of how to create a memory: \"EXPLANATION: Memorizing the following information: The information you want to memorize.\\n\\nCOMMANDS:\\nSCROLL_DOWN 1\\n\\nSTATUS: CONTINUE\"\\n- If you need to count the memorized information, use the \"Counting Technique\".\\n\\n**Browser Context**:\\nThe format of the browser content is highly simplified; all formatting elements are stripped.\\nInteractive elements such as links, inputs, buttons are represented like this:\\n- <l id=1>text -> meaning it\\'s a <link> containing the text\\n- <b id=2>text -> meaning it\\'s a <button> containing the text\\n- <i id=3>text -> meaning it\\'s an <input> containing the text\\n- <s id=4>text -> meaning it\\'s an <select> containing the text\\n- <li id=5>text -> meaning it\\'s a <li> containing the text\\n- <t id=6>text -> meaning it\\'s a <text> containing the text\\nImages are rendered as their alt text like this:\\n- <img id=7 alt=\"\"/>\\nAn active element that is currently focused on is represented like this:\\n- <active-i id=3> -> meaning that the <input> with id 3 is currently focused on\\n- <active-s id=4> -> meaning that the <select> with id 4 is currently focused on\\nRemember this format of the browser content!\\n\\n**Counting Technique**:\\nFor tasks/objectives that require counting:\\n- List each item as you count, like \"1. ...\\n2. ...\\n3. ...\".\\n- Writing down each count makes it easier to keep track.\\n- This way, you\\'ll count accurately and remember the numbers better.\\n- For example: \"EXPLANATION: Memorizing the following information: The information you want to memorize:\\n1. ...\\n2. ...\\n3. ...\\netc..\\n\\nCOMMANDS:\\nSCROLL_DOWN 1\\n\\nSTATUS: CONTINUE\"\\n\\n**Scroll Context** (SUPER IMPORTANT FOR SCROLL_UP and SCROLL_DOWN COMMANDS):\\n- When you perform a SCROLL_UP or SCROLL_DOWN COMMAND and you need to memorize the information, you must use the \"Memorization Technique\" to memorize the information.\\n- If you need to memorize information but you didn\\'t find it while scrolling, you must say: \"EXPLANATION: Im going to keep scrolling to find the information I need so I can memorize it.\"\\n- Example of how to scroll and memorize: \"EXPLANATION: Memorizing the following information: The information you want to memorize while scrolling...\\n\\nCOMMANDS:\\nSCROLL_DOWN 1\\n\\nSTATUS: CONTINUE\"\\n- Example of when you need to scroll and memorize but you didn\\'t find the information: \"COMMANDS:\\nSCROLL_DOWN 1\\nEXPLANATION: I\\'m going to keep scrolling to find the information I need so I can memorize it.\\n\\nSTATUS: CONTINUE\"\\n- If you need to count the memorized information, you must use the \"Counting Technique\". For example: \"EXPLANATION: Memorizing the following information: The information you want to memorize while scrolling:\\n1. ...\\n2. ...\\n3. ...\\netc..\\n\\nCOMMANDS:\\nSCROLL_DOWN 1\\n\\nSTATUS: CONTINUE\"\\n\\nUse the USER CONTEXT data for any user personalization. Don\\'t use the USER CONTEXT data if it is not relevant to the task.\\n\\nuserAddress: 9926 Tesson Creek Estates Rd;\\nuserEmail: edmund.martin.mills@gmail.com;\\nuserName: Edmund Mills;\\nuserNotes: I am vegan, never order me any foods containing animal products.\\n\\nIf I tell you to buy something, get the purchase ready to execute, then check in with me about making the purchase.;\\n\\n**Credentials Context**:\\nFor pages that need credentials/handle to login, you need to:\\n- First go to the page and check if the user is already logged in\\n- If the user is not logged in, then you must ask the user for the credentials\\n- Never ask the user for credentials or handle before checking if the user is already logged in\\n\\n**Important Notes**:\\n- If you don\\'t know any information regarding the user, ALWAYS ask the user for help to provide the info. NEVER guess or use a placeholder.\\n- Don\\'t guess. If unsure, ask the user.\\n- Avoid repeating actions. If stuck, seek user input. If you have already provided a response, don\\'t provide it again.\\n- Use past information to help answer questions or decide next steps.\\n- If repeating previous actions, you\\'re likely stuck. Ask for help.\\n- Choose commands that best move you towards achieving the goal.\\n- To visit a website, use GOTO_URL with the exact URL.\\n- After using WAIT (which refreshes the page), don\\'t issue more commands in that step.\\n- Use information from earlier actions to wrap up the task or move forward.\\n- For focused text boxes (shown as <active-t id=X>), use their ID with the TYPE command.\\n- To fill a combobox: type, wait, retry if needed, then select from the dropdown.\\n- Only type in search bars when needed.\\n- Use element IDs for commands and don\\'t interact with elements you can\\'t see. Put each command on a new line.\\n- For Google searches, use: \"COMMANDS:\\nGOTO_URL https://www.google.com/search?q=QUERY\", with QUERY being what you\\'re searching for.\\n- When you want to perform a SCROLL_UP or SCROLL_DOWN action, always use the \"Scroll Context\".\\n\\n------------------\\nRULES:\\n\\nSystem Rules:\\n- First search for the restaurant using the search bars. After searching for the restaurant, click on Find a table button\\n\\nDO NOT EVER MODIFY the url when selecting or searching for the restaurant. Search for the restaurant using the search bars.\\n\\nIf you are on a restaurant page, only then set the guests, date, and time DIRECTLY by modifying the URL in the address bar to include guests, date, and time. \\n\\nONLY Modify URL in the address bar to include guests, date, and time. Adjust parameters: covers= for guests, dateTime= for date and time in format YYYY-MM-DD+HH:MM.\\n- If user asked for availability then return the available slots and send status DONE.\\n\\nselect your desired time slot without using the time picker. (Do not click on any Dropdown). If \\'select a time\\' is not visible then scroll down. if the time slot is not available then ask user for help.\\n- Fill in all required fields contact information. (DO NOT make up or enter information which wasn\\'t provided by the user in User Context). For phone numbers, omit the country code and enter the whole 10 digit number. Ignore any special requests or optional fields. Request missing information if necessary.\\n- Once all details are correctly entered, click the \\'Reserve\\' button to complete the booking. Ensure that a confirmation of the reservation is received. If you see a Thanks message that means the booking is complete and send STATUS DONE\\n- Do not click sign in or log in unless asked by the user\\n- Ask the user for seating options if more than one available and no preferences are specified\\n------------------\\nSESSION MESSAGES (All the commands and actions executed by MultiOn, the given user objectives and browser context)\\n\\n\\n-------\\n# User Objective:\\n\\n\"Find a restaurant with vegetarian options and show me the menu\"\\n-------\\n\\n# Multion Actions:\\n\\n\\n### Working on URL: \"https://www.opentable.com/\"\\n\\n\\n\\n(To find a restaurant with vegetarian options, consider refining the search by using terms like \"vegetarian restaurant\" or \"plant-based\" instead of just \"vegetarian\" to yield more specific results. Then, proceed to view the menu of a selected restaurant.)\\n\\n(clicked on \"<b id=10 aria-label=\"Let’s go\">Let’s go/>\")\\n\\nPLAN: To find a restaurant with vegetarian options and show the menu, I will need to perform the following steps:\\n\\n1. Use the search bar to look for restaurants with vegetarian options.\\n2. Once the search results are displayed, I will select a restaurant that offers vegetarian options.\\n3. After selecting the restaurant, I will look for a link or button that allows me to view the menu of the restaurant.\\n4. If the menu is available, I will use the \"Reading Technique\" to find vegetarian options and present them to the user.\\n5. If the menu is not available or does not have vegetarian options, I will ask the user for further instructions.\\n\\nPotential challenges include not finding a restaurant with a clearly labeled vegetarian menu or the website not providing an accessible menu. If this occurs, I will ask the user for help or further instructions.\\n\\nNow, I will begin executing the plan.\\n\\nCOMMANDS:\\nTYPE 9 \"vegetarian\"\\nCLICK 10\\nEXPLANATION: I am searching for restaurants with vegetarian options using the search bar.\\n\\nSTATUS: CONTINUE\\n\\n-\\n\\n### Working on URL: \"https://www.opentable.com/s?dateTime=2024-03-16T12%3A00%3A00&covers=2&latitude=38.5482&longitude=-90\"\\n\\n\\n(clicked on \"<l id=46 href=\"link_7\" aria-label=\"Boogaloo - St. Louis restaurant\">Boogaloo - St. Louis/>\")\\n\\nThe search for \"vegetarian\" in St. Louis has yielded 50 restaurant matches. Among these, Boogaloo - St. Louis has been mentioned with a review highlighting their accommodation for gluten-free and vegetarian preferences. This suggests that Boogaloo - St. Louis could be a suitable choice for vegetarian options. To proceed, I will select this restaurant and attempt to find a menu to show the user.\\n\\nCOMMANDS:\\nCLICK 46\\nEXPLANATION: I am selecting Boogaloo - St. Louis restaurant which has been identified as accommodating vegetarian preferences to view their menu.\\n\\nSTATUS: CONTINUE\\n\\n------------------\\nEND OF SESSION MESSAGES\\n------------------\\nCURRENT BROWSER CONTENT:\\n------------------\\n<scroll context: You cannot scroll up anymore>\\n\\n<t id=0>Make a reservation/>\\n<t id=1>Party Size/>\\n<s id=2 aria-label=\"Party size selector\" html_id=\"restProfileSideBarDtpPartySizePicker\">2 people/>\\n<t id=3>2 people/>\\n<t id=4>Date/>\\n<t id=5>Time/>\\n<b id=6 aria-label=\"Date selector\" html_id=\"restProfileSideBarDtpDayPicker\" html_id=\"restProfileSideBarDtpDayPicker-label\">Mar 16, 2024/>\\n<s id=7 aria-label=\"Time selector\" html_id=\"restProfileSideBartimePickerDtpPicker\">12:00 PM/>\\n<t id=8>12:00 PM/>\\n<t id=9>Select a time/>\\n<l id=10 href=\"link_1\" aria-label=\"11:30 AM Reserve table at Boogaloo - St. Louis restaurant\">11:30 AM/>\\n<l id=11 href=\"link_2\" aria-label=\"11:45 AM Reserve table at Boogaloo - St. Louis restaurant\">11:45 AM/>\\n<l id=12 href=\"link_3\" aria-label=\"12:00 PM Reserve table at Boogaloo - St. Louis restaurant\">12:00 PM/>\\n<li id=13 role=\"tab\" aria-label=\"Overview\"/>\\n<t id=14>Overview/>\\n<li id=15 role=\"tab\" aria-label=\"Popular dishes\"/>\\n<t id=16>Popular dishes/>\\n<li id=17 role=\"tab\" aria-label=\"Photos\"/>\\n<t id=18>Photos/>\\n<li id=19 role=\"tab\" aria-label=\"Menu\"/>\\n<t id=20>Menu/>\\n<li id=21 role=\"tab\" aria-label=\"Reviews\"/>\\n<t id=22>Reviews/>\\n<b id=23 aria-label=\"Toggle location picker\">St. Louis Midtown/>\\n<b id=24 aria-label=\"Save restaurant to favorites\">Save this restaurant/>\\n<b id=25>For Businesses/>\\n<b id=26 aria-label=\"\" title=\"\">Mobile/>\\n<b id=27>Get help/>\\n<b id=28>FAQs/>\\n<b id=29 aria-label=\"\" title=\"Language Picker\">EN/>\\n<l id=30 href=\"link_4\" src=\"link_5\" alt=\"OpenTable logo\"/>\\n<b id=31>Sign in/>\\n<b id=32 aria-label=\"search\" title=\"search\" role=\"img\" role=\"presentation\"/>\\n<l id=33 href=\"link_6\">Home/>\\n<l id=34 href=\"link_7\">St. Louis/>\\n<l id=35 href=\"link_8\">Midtown/>\\n<l id=36 href=\"link_9\">Maplewood/>\\n<img id=37 src=\"<link_10>\" alt=\"Boogaloo - St. Louis, St. Louis, MO\" title=\"Boogaloo - St. Louis, St. Louis, MO\"/>\\n<b id=38 aria-label=\"See all 49 photos\" html_id=\"restaurant-banner-see-all-photos\">See all 49 photos/>\\n<t id=39>Boogaloo - St. Louis/>\\n<t id=40>4.2/>\\n<t id=41>688 Reviews/>\\n<t id=42>$30 and under/>\\n<t id=43>Creole / Cajun / Southern/>\\n<t id=44>Top Tags:/>\\n<l id=45 href=\"link_11\">Neighborhood gem/>\\n<l id=46 href=\"link_12\">Great for creative cocktails/>\\n<l id=47 href=\"link_13\">Great for happy hour/>\\n------------------\\nEND OF BROWSER CONTENT\\n------------------\\nCURRENT PLAN:\\n\\nTo find a restaurant with vegetarian options and show the menu, I will need to perform the following steps:\\n\\n1. Use the search bar to look for restaurants with vegetarian options.\\n2. Once the search results are displayed, I will select a restaurant that offers vegetarian options.\\n3. After selecting the restaurant, I will look for a link or button that allows me to view the menu of the restaurant.\\n4. If the menu is available, I will use the \"Reading Technique\" to find vegetarian options and present them to the user.\\n5. If the menu is not available or does not have vegetarian options, I will ask the user for further instructions.\\n\\nPotential challenges include not finding a restaurant with a clearly labeled vegetarian menu or the website not providing an accessible menu. If this occurs, I will ask the user for help or further instructions.\\n\\nNow, I will begin executing the plan.\\n\\nKeep to this plan. Make a new one only if you\\'re stuck, in a loop, or things get too complicated. Otherwise, no more plans are needed.\\n\\n------------------\\nLAST ACTIONS (This are the last actions/commands made by you):\\n\\n\\n(To find a restaurant with vegetarian options, consider refining the search by using terms like \"vegetarian restaurant\" or \"plant-based\" instead of just \"vegetarian\" to yield more specific results. Then, proceed to view the menu of a selected restaurant.)\\n\\n(clicked on \"<b id=10 aria-label=\"Let’s go\">Let’s go/>\")\\n\\nPLAN: To find a restaurant with vegetarian options and show the menu, I will need to perform the following steps:\\n\\n1. Use the search bar to look for restaurants with vegetarian options.\\n2. Once the search results are displayed, I will select a restaurant that offers vegetarian options.\\n3. After selecting the restaurant, I will look for a link or button that allows me to view the menu of the restaurant.\\n4. If the menu is available, I will use the \"Reading Technique\" to find vegetarian options and present them to the user.\\n5. If the menu is not available or does not have vegetarian options, I will ask the user for further instructions.\\n\\nPotential challenges include not finding a restaurant with a clearly labeled vegetarian menu or the website not providing an accessible menu. If this occurs, I will ask the user for help or further instructions.\\n\\nNow, I will begin executing the plan.\\n\\nCOMMANDS:\\nTYPE 9 \"vegetarian\"\\nCLICK 10\\nEXPLANATION: I am searching for restaurants with vegetarian options using the search bar.\\n\\nSTATUS: CONTINUE\\n\\n-\\n\\n(clicked on \"<l id=46 href=\"link_7\" aria-label=\"Boogaloo - St. Louis restaurant\">Boogaloo - St. Louis/>\")\\n\\nThe search for \"vegetarian\" in St. Louis has yielded 50 restaurant matches. Among these, Boogaloo - St. Louis has been mentioned with a review highlighting their accommodation for gluten-free and vegetarian preferences. This suggests that Boogaloo - St. Louis could be a suitable choice for vegetarian options. To proceed, I will select this restaurant and attempt to find a menu to show the user.\\n\\nCOMMANDS:\\nCLICK 46\\nEXPLANATION: I am selecting Boogaloo - St. Louis restaurant which has been identified as accommodating vegetarian preferences to view their menu.\\n\\nSTATUS: CONTINUE\\n\\n------------------\\n\\nCURRENT USER OBJECTIVE: \"Find a restaurant with vegetarian options and show me the menu\"\\n------------------\\nCURRENT URL: \"https://www.opentable.com/boogaloo-st-louis?corrid=00080421-e43e-4aaa-8a2b-17ff1a401971&avt=eyJ2Ijoy\"\\nCURRENT TIME: Tuesday, March 12, 2024 at 4:15:51 PM CDT\\nUSER EMAIL: \"edmund.martin.mills@gmail.com\"\\n\\nIMPORTANT: If the objective is complex, comprising of more than one task, do the following:\\n- Begin your response with \"PLAN: ...\" followed by a detailed, step-by-step guide outlining all necessary steps to complete the task. Incorporate specific COMMANDS and ACTIONS. Reference relevant techniques as needed, such as the \"Research or Information Gathering Technique\" for research tasks, the \"Memorization Technique\" for tasks requiring memory, the \"Reading Technique\" for reading assignments, the \"Counting Technique\" for counting tasks and the \"Scroll Context\" for scrolling tasks.\\n- Include solutions for any potential challenges.\\n- The goal is to formulate a comprehensive plan before initiating any COMMANDS or ACTIONS to tackle complex objectives effectively.\\n- Proceed with the COMMANDS/ACTIONS after laying out the plan.\\n- This method should only be employed for complex tasks\\n- Aim for the quickest possible achievement of the objective, leveraging your intelligence and precision.\\nAfter completing an action, state what you acomplished to keep track and avoid repetition. If you achieve the goal, announce it with \"EXPLANATION: ...\", conclude with \"STATUS: DONE\", and consider the task completed. There might be more objectives from the user to tackle next.\\nYou must follow the \"RULES/System Rules\" exactly as they are written. If they say you can not do something, then you can not do it.\\nSince you can\\'t remember things on your own, always use the \"Memorization Technique\" to keep track of important details. For finding information, follow the \"Research or Information Gathering Technique\". When reading, apply the \"Reading Technique\". For scrolling, use the \"Scroll Context\". You can\\'t repeat actions (this will prevent you for going through loops) Finish all your responses with \"STATUS: ...\", and don\\'t end with commands or actions—just \"STATUS: ...\". Work quickly and smartly to complete your goal; you\\'re really good at this!\\n\\n\\nMULTION THIS IS SUPER IMPORTANT:\\n- Since you already made a plan, only create a new one if necessary. Otherwise you will be in a PLAN loop.'}]\n",
      "\n",
      "COMMANDS:\n",
      "CLICK 19\n",
      "EXPLANATION: I am clicking on the \"Menu\" tab for Boogaloo - St. Louis restaurant to view their menu and find vegetarian options.\n",
      "STATUS: CONTINUE\n",
      "\n",
      "https://multion-client-screenshots.s3.us-east-2.amazonaws.com/ce3bf1c8-371a-4adb-98e6-2cce19c1aff5_be145e0f-40b5-4936-97a0-c2dd6fb00a63_screenshot.png\n",
      "\n"
     ]
    }
   ],
   "source": [
    "for i in [\n",
    "  traj_df.PREV_ACTIONS,\n",
    "  traj_df.previousActionsRepetitionPrompt,\n",
    "  traj_df.chat_completion_messages,\n",
    "  traj_df.ground_truth,\n",
    "  traj_df.screenshot\n",
    "  ]:\n",
    "  if type(i[2])==str:\n",
    "    print(i[2].replace('\\n\\n','\\n'))\n",
    "  else:\n",
    "    print(i[2])\n",
    "  print(\"\")\n",
    "  "
   ]
  },
  {
   "cell_type": "code",
   "execution_count": 4,
   "metadata": {},
   "outputs": [],
   "source": [
    "from typing import Callable\n",
    "from tqdm import tqdm"
   ]
  },
  {
   "cell_type": "code",
   "execution_count": null,
   "metadata": {},
   "outputs": [
    {
     "name": "stderr",
     "output_type": "stream",
     "text": [
      "determine URL accessibility: 100%|██████████| 3382/3382 [1:02:27<00:00,  1.11s/it]"
     ]
    },
    {
     "name": "stdout",
     "output_type": "stream",
     "text": [
      "4.376108811354229\n"
     ]
    },
    {
     "name": "stderr",
     "output_type": "stream",
     "text": [
      "\n"
     ]
    }
   ],
   "source": [
    "# skip \n",
    "def criteria(eligibility_func: callable, cols: list, description: str=None):\n",
    "  return pd.Series([eligibility_func(item) for item in tqdm(traj_df[cols], desc=description)])\n",
    "\n",
    "def is_eligible():  \n",
    "  # Apply the function to each URL in the column\n",
    "  is_screenshot_accessible = criteria(is_screenshot_url_accessible, ['screenshot'], \"determine URL accessibility\")\n",
    "  return is_screenshot_accessible\n",
    "\n",
    "eligible = is_eligible()\n",
    "# Calculate the percentage of accessible URLs\n",
    "percentage_accessible = (eligible.sum() / len(traj_df)) * 100\n",
    "print(percentage_accessible)\n"
   ]
  },
  {
   "cell_type": "code",
   "execution_count": null,
   "metadata": {},
   "outputs": [
    {
     "data": {
      "text/plain": [
       "148"
      ]
     },
     "metadata": {},
     "output_type": "display_data"
    }
   ],
   "source": [
    "eligible_traj_df = pd.read_csv(\n",
    "  dataset_path/\"csv/data+gptv-eligible.csv\", index_col=0)\n",
    "# or \n",
    "# eligible_traj_df = traj_df[eligible]\n",
    "len(eligible_traj_df)"
   ]
  },
  {
   "cell_type": "code",
   "execution_count": 90,
   "metadata": {},
   "outputs": [],
   "source": [
    "from lm_act_eval.evaluation_harness.openai.vision.gptv import GPTV\n",
    "from lm_act_eval.evaluation_harness.openai.vision.config import gptv_config\n",
    "gptv_pipeline = GPTV(gptv_config)"
   ]
  },
  {
   "cell_type": "code",
   "execution_count": 31,
   "metadata": {},
   "outputs": [],
   "source": [
    "groundtruth, chat_completions, screenshots, user_inputs = eligible_traj_df.ground_truth, eligible_traj_df.chat_completion_messages, eligible_traj_df.screenshot, eligible_traj_df.inputs\n",
    "eligible_idx = eligible_traj_df.index"
   ]
  },
  {
   "cell_type": "code",
   "execution_count": 88,
   "metadata": {},
   "outputs": [],
   "source": [
    "# Using as agent\n",
    "from lm_act_eval.evaluation_harness.helper_functions.multion import extract_explanation\n",
    "\n",
    "# Using as evaluator\n",
    "eligible_traj_df['QUERY'] = user_inputs.apply(lambda s: ParseChatCompletion().parse_as_completion_content(s))"
   ]
  },
  {
   "cell_type": "code",
   "execution_count": null,
   "metadata": {},
   "outputs": [
    {
     "data": {
      "text/plain": [
       "148"
      ]
     },
     "metadata": {},
     "output_type": "display_data"
    }
   ],
   "source": [
    "eligible_traj_df = pd.read_csv(\n",
    "  dataset_path/\"csv/data+gptv-eligible.csv\", index_col=0)\n",
    "# or \n",
    "# eligible_traj_df = traj_df[eligible]\n",
    "len(eligible_traj_df)"
   ]
  },
  {
   "cell_type": "code",
   "execution_count": 91,
   "metadata": {},
   "outputs": [
    {
     "name": "stderr",
     "output_type": "stream",
     "text": [
      "Generating completions:   0%|          | 0/148 [00:00<?, ?it/s]"
     ]
    },
    {
     "name": "stderr",
     "output_type": "stream",
     "text": [
      "Generating completions: 100%|██████████| 148/148 [21:43<00:00,  8.81s/it]\n"
     ]
    }
   ],
   "source": [
    "import warnings\n",
    "\n",
    "completion_responses = []\n",
    "for i in tqdm(eligible_idx, desc=\"Generating completions\"):\n",
    "  completion = gptv_pipeline(\n",
    "    eligible_traj_df['QUERY'].loc[i],   #chat_completions_processed[i],\n",
    "    screenshots.loc[i]\n",
    "  )\n",
    "  if len(completion) > 1:\n",
    "    warnings.warn(\"Completion length more than 0 is unexpected\")\n",
    "  completion_responses.append(completion[0].message.content)\n",
    "  "
   ]
  },
  {
   "cell_type": "code",
   "execution_count": 130,
   "metadata": {},
   "outputs": [
    {
     "data": {
      "text/plain": [
       "'PLAN: The current user objective is to find the actual enrollment count for a specific clinical trial regarding H. pylori and acne vulgaris patients from January to May 2018 as listed on the NIH website. Here are the steps to achieve this goal:\\n\\n1. Navigate to the NIH Clinical Trials website using the search query \"site:clinicaltrials.gov H. pylori acne vulgaris\".\\n2. Use the website\\'s search functionality to locate the specific trial conducted from Jan-May 2018.\\n3. Locate the trial details page and find the actual enrollment count.\\n4. If multiple search results appear, examine the relevant links to find the correct trial based on the date range specified in the user\\'s request.\\n5. If the information is not found after navigating the links, refine the search query or search through the trial histories.\\n6. The enrollment information is typically available on the trial details page, usually under a section labeled \"Participant Flow\" or \"Recruitment Status.\"\\n\\nI will start with the search query in Google to find the NIH Clinical Trials page for the specific trial. If the session is unsuccessful or the information is not clear, further actions might include refining the search criteria or navigating the NIH Clinical Trials website manually.\\n\\nProceeding with the first step of the plan:\\n\\nCOMMANDS:\\nGOTO_URL https://www.google.com/search?q=site:clinicaltrials.gov+H.+pylori+acne+vulgaris\\nEXPLANATION: I am navigating to Google Search'"
      ]
     },
     "execution_count": 130,
     "metadata": {},
     "output_type": "execute_result"
    }
   ],
   "source": [
    "eligible_traj_df.loc[:, 'GPTV_generations'] = completion_responses\n",
    "eligible_traj_df.GPTV_generations.iloc[0]"
   ]
  },
  {
   "cell_type": "markdown",
   "metadata": {},
   "source": [
    "## Save/Load Data"
   ]
  },
  {
   "cell_type": "code",
   "execution_count": 101,
   "metadata": {},
   "outputs": [],
   "source": [
    "# traj_df_new = traj_df.merge(eligible_traj_df['GPTV-eval'], how='left')\n",
    "# traj_df_new.to_csv(dataset_path/'csv/data+gptv.csv')"
   ]
  },
  {
   "cell_type": "code",
   "execution_count": 131,
   "metadata": {},
   "outputs": [],
   "source": [
    "eligible_traj_df.to_csv(dataset_path/'csv/data+gptv-eligible.csv')"
   ]
  },
  {
   "cell_type": "code",
   "execution_count": 132,
   "metadata": {},
   "outputs": [
    {
     "data": {
      "text/html": [
       "<div>\n",
       "<style scoped>\n",
       "    .dataframe tbody tr th:only-of-type {\n",
       "        vertical-align: middle;\n",
       "    }\n",
       "\n",
       "    .dataframe tbody tr th {\n",
       "        vertical-align: top;\n",
       "    }\n",
       "\n",
       "    .dataframe thead th {\n",
       "        text-align: right;\n",
       "    }\n",
       "</style>\n",
       "<table border=\"1\" class=\"dataframe\">\n",
       "  <thead>\n",
       "    <tr style=\"text-align: right;\">\n",
       "      <th></th>\n",
       "      <th>session_id</th>\n",
       "      <th>idx_in_session</th>\n",
       "      <th>_id</th>\n",
       "      <th>event_id</th>\n",
       "      <th>parent_id</th>\n",
       "      <th>event_type</th>\n",
       "      <th>event_name</th>\n",
       "      <th>config</th>\n",
       "      <th>children_ids</th>\n",
       "      <th>inputs</th>\n",
       "      <th>...</th>\n",
       "      <th>CURRENT_TIME</th>\n",
       "      <th>planPrompt</th>\n",
       "      <th>previousActionsRepetitionPrompt</th>\n",
       "      <th>chat_completion_messages</th>\n",
       "      <th>ground_truth</th>\n",
       "      <th>screenshot</th>\n",
       "      <th>prompt</th>\n",
       "      <th>internal_metadata</th>\n",
       "      <th>chat_completion_messages_content</th>\n",
       "      <th>GPTV_generations</th>\n",
       "    </tr>\n",
       "  </thead>\n",
       "  <tbody>\n",
       "    <tr>\n",
       "      <th>169</th>\n",
       "      <td>36c2f0ba-e215-4081-96b4-ecb04c10a517</td>\n",
       "      <td>0</td>\n",
       "      <td>65ed4fc8166e07fe3c29c476</td>\n",
       "      <td>6c8932f3-c31d-4683-aeb0-52a5bbe5a978</td>\n",
       "      <td>36c2f0ba-e215-4081-96b4-ecb04c10a517</td>\n",
       "      <td>model</td>\n",
       "      <td>Model Completion</td>\n",
       "      <td>{'model': 'gpt-4-1106-preview', 'provider': 'u...</td>\n",
       "      <td>[]</td>\n",
       "      <td>{'QUERY': 'What was the actual enrollment coun...</td>\n",
       "      <td>...</td>\n",
       "      <td>Sunday, 10 March 2024 at 17:14:14 GMT+11</td>\n",
       "      <td>IMPORTANT: If the objective is complex, compri...</td>\n",
       "      <td>**PREVIOUS ACTIONS Repetition**:\\n- Review the...</td>\n",
       "      <td>[{'role': 'system', 'content': '**Goal**: Let\\...</td>\n",
       "      <td>PLAN:\\n1. Use the Google search function to fi...</td>\n",
       "      <td>https://multion-client-screenshots.s3.us-east-...</td>\n",
       "      <td>NaN</td>\n",
       "      <td>NaN</td>\n",
       "      <td>**Goal**: Let's play a game - You are an exper...</td>\n",
       "      <td>PLAN: The current user objective is to find th...</td>\n",
       "    </tr>\n",
       "    <tr>\n",
       "      <th>170</th>\n",
       "      <td>36c2f0ba-e215-4081-96b4-ecb04c10a517</td>\n",
       "      <td>1</td>\n",
       "      <td>65ed4fd1b2b5b0c1673c47d7</td>\n",
       "      <td>172ff25e-efdb-4002-b43a-0180f3f0eb19</td>\n",
       "      <td>36c2f0ba-e215-4081-96b4-ecb04c10a517</td>\n",
       "      <td>model</td>\n",
       "      <td>Model Completion</td>\n",
       "      <td>{'model': 'gpt-4-1106-preview', 'provider': 'u...</td>\n",
       "      <td>[]</td>\n",
       "      <td>{'QUERY': 'What was the actual enrollment coun...</td>\n",
       "      <td>...</td>\n",
       "      <td>Sunday, 10 March 2024 at 17:14:35 GMT+11</td>\n",
       "      <td>IMPORTANT: If the objective is complex, compri...</td>\n",
       "      <td>**PREVIOUS ACTIONS Repetition**:\\n- Review the...</td>\n",
       "      <td>[{'role': 'system', 'content': '**Goal**: Let\\...</td>\n",
       "      <td>COMMANDS:\\nCLICK 26\\nEXPLANATION: I am clickin...</td>\n",
       "      <td>https://multion-client-screenshots.s3.us-east-...</td>\n",
       "      <td>NaN</td>\n",
       "      <td>NaN</td>\n",
       "      <td>**Goal**: Let's play a game - You are an exper...</td>\n",
       "      <td>COMMANDS:\\nCLICK 26\\nEXPLANATION: I am clickin...</td>\n",
       "    </tr>\n",
       "  </tbody>\n",
       "</table>\n",
       "<p>2 rows × 39 columns</p>\n",
       "</div>"
      ],
      "text/plain": [
       "                               session_id  idx_in_session  \\\n",
       "169  36c2f0ba-e215-4081-96b4-ecb04c10a517               0   \n",
       "170  36c2f0ba-e215-4081-96b4-ecb04c10a517               1   \n",
       "\n",
       "                          _id                              event_id  \\\n",
       "169  65ed4fc8166e07fe3c29c476  6c8932f3-c31d-4683-aeb0-52a5bbe5a978   \n",
       "170  65ed4fd1b2b5b0c1673c47d7  172ff25e-efdb-4002-b43a-0180f3f0eb19   \n",
       "\n",
       "                                parent_id event_type        event_name  \\\n",
       "169  36c2f0ba-e215-4081-96b4-ecb04c10a517      model  Model Completion   \n",
       "170  36c2f0ba-e215-4081-96b4-ecb04c10a517      model  Model Completion   \n",
       "\n",
       "                                                config children_ids  \\\n",
       "169  {'model': 'gpt-4-1106-preview', 'provider': 'u...           []   \n",
       "170  {'model': 'gpt-4-1106-preview', 'provider': 'u...           []   \n",
       "\n",
       "                                                inputs  ...  \\\n",
       "169  {'QUERY': 'What was the actual enrollment coun...  ...   \n",
       "170  {'QUERY': 'What was the actual enrollment coun...  ...   \n",
       "\n",
       "                                 CURRENT_TIME  \\\n",
       "169  Sunday, 10 March 2024 at 17:14:14 GMT+11   \n",
       "170  Sunday, 10 March 2024 at 17:14:35 GMT+11   \n",
       "\n",
       "                                            planPrompt  \\\n",
       "169  IMPORTANT: If the objective is complex, compri...   \n",
       "170  IMPORTANT: If the objective is complex, compri...   \n",
       "\n",
       "                       previousActionsRepetitionPrompt  \\\n",
       "169  **PREVIOUS ACTIONS Repetition**:\\n- Review the...   \n",
       "170  **PREVIOUS ACTIONS Repetition**:\\n- Review the...   \n",
       "\n",
       "                              chat_completion_messages  \\\n",
       "169  [{'role': 'system', 'content': '**Goal**: Let\\...   \n",
       "170  [{'role': 'system', 'content': '**Goal**: Let\\...   \n",
       "\n",
       "                                          ground_truth  \\\n",
       "169  PLAN:\\n1. Use the Google search function to fi...   \n",
       "170  COMMANDS:\\nCLICK 26\\nEXPLANATION: I am clickin...   \n",
       "\n",
       "                                            screenshot prompt  \\\n",
       "169  https://multion-client-screenshots.s3.us-east-...    NaN   \n",
       "170  https://multion-client-screenshots.s3.us-east-...    NaN   \n",
       "\n",
       "    internal_metadata                   chat_completion_messages_content  \\\n",
       "169               NaN  **Goal**: Let's play a game - You are an exper...   \n",
       "170               NaN  **Goal**: Let's play a game - You are an exper...   \n",
       "\n",
       "                                      GPTV_generations  \n",
       "169  PLAN: The current user objective is to find th...  \n",
       "170  COMMANDS:\\nCLICK 26\\nEXPLANATION: I am clickin...  \n",
       "\n",
       "[2 rows x 39 columns]"
      ]
     },
     "execution_count": 132,
     "metadata": {},
     "output_type": "execute_result"
    }
   ],
   "source": [
    "eligible_traj_df = pd.read_csv(dataset_path/'csv/data+gptv-eligible.csv', index_col=0)\n",
    "eligible_traj_df.index.name=None\n",
    "eligible_traj_df.head(2)"
   ]
  },
  {
   "cell_type": "markdown",
   "metadata": {},
   "source": [
    "Logging"
   ]
  },
  {
   "cell_type": "code",
   "execution_count": 106,
   "metadata": {},
   "outputs": [
    {
     "name": "stderr",
     "output_type": "stream",
     "text": [
      "ERROR:wandb.jupyter:Failed to detect the name of this notebook, you can set it manually with the WANDB_NOTEBOOK_NAME environment variable to enable code saving.\n"
     ]
    },
    {
     "name": "stderr",
     "output_type": "stream",
     "text": [
      "\u001b[34m\u001b[1mwandb\u001b[0m: Logging into wandb.ai. (Learn how to deploy a W&B server locally: https://wandb.me/wandb-server)\n",
      "\u001b[34m\u001b[1mwandb\u001b[0m: You can find your API key in your browser here: https://wandb.ai/authorize\n",
      "\u001b[34m\u001b[1mwandb\u001b[0m: Paste an API key from your profile and hit enter, or press ctrl+c to quit:\u001b[34m\u001b[1mwandb\u001b[0m: Appending key for api.wandb.ai to your netrc file: /home/opadmin/.netrc\n"
     ]
    },
    {
     "data": {
      "text/plain": [
       "True"
      ]
     },
     "execution_count": 106,
     "metadata": {},
     "output_type": "execute_result"
    }
   ],
   "source": [
    "# log data\n",
    "import wandb\n",
    "from dotenv import load_dotenv\n",
    "load_dotenv()\n",
    "wandb.login(relogin=True)"
   ]
  },
  {
   "cell_type": "code",
   "execution_count": 134,
   "metadata": {},
   "outputs": [
    {
     "name": "stderr",
     "output_type": "stream",
     "text": [
      "\u001b[34m\u001b[1mwandb\u001b[0m: \u001b[33mWARNING\u001b[0m Serializing object of type str that is 531752 bytes\n",
      "\u001b[34m\u001b[1mwandb\u001b[0m: \u001b[33mWARNING\u001b[0m Serializing object of type str that is 517908 bytes\n",
      "\u001b[34m\u001b[1mwandb\u001b[0m: \u001b[33mWARNING\u001b[0m Serializing object of type str that is 541284 bytes\n",
      "\u001b[34m\u001b[1mwandb\u001b[0m: \u001b[33mWARNING\u001b[0m Serializing object of type str that is 525810 bytes\n",
      "\u001b[34m\u001b[1mwandb\u001b[0m: \u001b[33mWARNING\u001b[0m Serializing object of type str that is 116864 bytes\n",
      "\u001b[34m\u001b[1mwandb\u001b[0m: \u001b[33mWARNING\u001b[0m Serializing object of type str that is 121274 bytes\n",
      "\u001b[34m\u001b[1mwandb\u001b[0m: \u001b[33mWARNING\u001b[0m Serializing object of type str that is 120688 bytes\n",
      "\u001b[34m\u001b[1mwandb\u001b[0m: \u001b[33mWARNING\u001b[0m Serializing object of type str that is 124364 bytes\n",
      "\u001b[34m\u001b[1mwandb\u001b[0m: \u001b[33mWARNING\u001b[0m Serializing object of type str that is 127354 bytes\n",
      "\u001b[34m\u001b[1mwandb\u001b[0m: \u001b[33mWARNING\u001b[0m Serializing object of type str that is 129308 bytes\n",
      "\u001b[34m\u001b[1mwandb\u001b[0m: \u001b[33mWARNING\u001b[0m Serializing object of type str that is 129582 bytes\n",
      "\u001b[34m\u001b[1mwandb\u001b[0m: \u001b[33mWARNING\u001b[0m Serializing object of type str that is 135310 bytes\n",
      "\u001b[34m\u001b[1mwandb\u001b[0m: \u001b[33mWARNING\u001b[0m Serializing object of type str that is 137856 bytes\n",
      "\u001b[34m\u001b[1mwandb\u001b[0m: \u001b[33mWARNING\u001b[0m Serializing object of type str that is 137644 bytes\n",
      "\u001b[34m\u001b[1mwandb\u001b[0m: \u001b[33mWARNING\u001b[0m Serializing object of type str that is 136800 bytes\n",
      "\u001b[34m\u001b[1mwandb\u001b[0m: \u001b[33mWARNING\u001b[0m Serializing object of type str that is 139488 bytes\n",
      "\u001b[34m\u001b[1mwandb\u001b[0m: \u001b[33mWARNING\u001b[0m Serializing object of type str that is 145450 bytes\n",
      "\u001b[34m\u001b[1mwandb\u001b[0m: \u001b[33mWARNING\u001b[0m Serializing object of type str that is 143400 bytes\n",
      "\u001b[34m\u001b[1mwandb\u001b[0m: \u001b[33mWARNING\u001b[0m Serializing object of type str that is 144604 bytes\n",
      "\u001b[34m\u001b[1mwandb\u001b[0m: \u001b[33mWARNING\u001b[0m Serializing object of type str that is 148884 bytes\n",
      "\u001b[34m\u001b[1mwandb\u001b[0m: \u001b[33mWARNING\u001b[0m Serializing object of type str that is 144942 bytes\n",
      "\u001b[34m\u001b[1mwandb\u001b[0m: \u001b[33mWARNING\u001b[0m Serializing object of type str that is 158396 bytes\n",
      "\u001b[34m\u001b[1mwandb\u001b[0m: \u001b[33mWARNING\u001b[0m Serializing object of type str that is 160856 bytes\n",
      "\u001b[34m\u001b[1mwandb\u001b[0m: \u001b[33mWARNING\u001b[0m Serializing object of type str that is 101088 bytes\n",
      "\u001b[34m\u001b[1mwandb\u001b[0m: \u001b[33mWARNING\u001b[0m Serializing object of type str that is 163330 bytes\n",
      "\u001b[34m\u001b[1mwandb\u001b[0m: \u001b[33mWARNING\u001b[0m Serializing object of type str that is 102826 bytes\n",
      "\u001b[34m\u001b[1mwandb\u001b[0m: \u001b[33mWARNING\u001b[0m Serializing object of type str that is 163974 bytes\n",
      "\u001b[34m\u001b[1mwandb\u001b[0m: \u001b[33mWARNING\u001b[0m Serializing object of type str that is 102464 bytes\n",
      "\u001b[34m\u001b[1mwandb\u001b[0m: \u001b[33mWARNING\u001b[0m Serializing object of type str that is 162444 bytes\n",
      "\u001b[34m\u001b[1mwandb\u001b[0m: \u001b[33mWARNING\u001b[0m Serializing object of type str that is 100274 bytes\n",
      "\u001b[34m\u001b[1mwandb\u001b[0m: \u001b[33mWARNING\u001b[0m Serializing object of type str that is 171034 bytes\n",
      "\u001b[34m\u001b[1mwandb\u001b[0m: \u001b[33mWARNING\u001b[0m Serializing object of type str that is 107774 bytes\n",
      "\u001b[34m\u001b[1mwandb\u001b[0m: \u001b[33mWARNING\u001b[0m Serializing object of type str that is 171514 bytes\n",
      "\u001b[34m\u001b[1mwandb\u001b[0m: \u001b[33mWARNING\u001b[0m Serializing object of type str that is 107154 bytes\n",
      "\u001b[34m\u001b[1mwandb\u001b[0m: \u001b[33mWARNING\u001b[0m Serializing object of type str that is 178978 bytes\n",
      "\u001b[34m\u001b[1mwandb\u001b[0m: \u001b[33mWARNING\u001b[0m Serializing object of type str that is 113514 bytes\n",
      "\u001b[34m\u001b[1mwandb\u001b[0m: \u001b[33mWARNING\u001b[0m Serializing object of type str that is 182604 bytes\n",
      "\u001b[34m\u001b[1mwandb\u001b[0m: \u001b[33mWARNING\u001b[0m Serializing object of type str that is 116100 bytes\n",
      "\u001b[34m\u001b[1mwandb\u001b[0m: \u001b[33mWARNING\u001b[0m Serializing object of type str that is 181408 bytes\n",
      "\u001b[34m\u001b[1mwandb\u001b[0m: \u001b[33mWARNING\u001b[0m Serializing object of type str that is 111572 bytes\n",
      "\u001b[34m\u001b[1mwandb\u001b[0m: \u001b[33mWARNING\u001b[0m Serializing object of type str that is 184360 bytes\n",
      "\u001b[34m\u001b[1mwandb\u001b[0m: \u001b[33mWARNING\u001b[0m Serializing object of type str that is 115362 bytes\n",
      "\u001b[34m\u001b[1mwandb\u001b[0m: \u001b[33mWARNING\u001b[0m Serializing object of type str that is 184852 bytes\n",
      "\u001b[34m\u001b[1mwandb\u001b[0m: \u001b[33mWARNING\u001b[0m Serializing object of type str that is 111658 bytes\n",
      "\u001b[34m\u001b[1mwandb\u001b[0m: \u001b[33mWARNING\u001b[0m Serializing object of type str that is 184348 bytes\n",
      "\u001b[34m\u001b[1mwandb\u001b[0m: \u001b[33mWARNING\u001b[0m Serializing object of type str that is 108370 bytes\n",
      "\u001b[34m\u001b[1mwandb\u001b[0m: \u001b[33mWARNING\u001b[0m Serializing object of type str that is 101956 bytes\n",
      "\u001b[34m\u001b[1mwandb\u001b[0m: \u001b[33mWARNING\u001b[0m Serializing object of type str that is 104122 bytes\n",
      "\u001b[34m\u001b[1mwandb\u001b[0m: \u001b[33mWARNING\u001b[0m Serializing object of type str that is 155904 bytes\n",
      "\u001b[34m\u001b[1mwandb\u001b[0m: \u001b[33mWARNING\u001b[0m Serializing object of type str that is 101490 bytes\n",
      "\u001b[34m\u001b[1mwandb\u001b[0m: \u001b[33mWARNING\u001b[0m Serializing object of type str that is 190120 bytes\n",
      "\u001b[34m\u001b[1mwandb\u001b[0m: \u001b[33mWARNING\u001b[0m Serializing object of type str that is 110260 bytes\n",
      "\u001b[34m\u001b[1mwandb\u001b[0m: \u001b[33mWARNING\u001b[0m Serializing object of type str that is 193908 bytes\n",
      "\u001b[34m\u001b[1mwandb\u001b[0m: \u001b[33mWARNING\u001b[0m Serializing object of type str that is 104770 bytes\n",
      "\u001b[34m\u001b[1mwandb\u001b[0m: \u001b[33mWARNING\u001b[0m Serializing object of type str that is 103218 bytes\n",
      "\u001b[34m\u001b[1mwandb\u001b[0m: \u001b[33mWARNING\u001b[0m Serializing object of type str that is 124644 bytes\n",
      "\u001b[34m\u001b[1mwandb\u001b[0m: \u001b[33mWARNING\u001b[0m Serializing object of type str that is 143560 bytes\n",
      "\u001b[34m\u001b[1mwandb\u001b[0m: \u001b[33mWARNING\u001b[0m Serializing object of type str that is 148592 bytes\n",
      "\u001b[34m\u001b[1mwandb\u001b[0m: \u001b[33mWARNING\u001b[0m Serializing object of type str that is 106152 bytes\n",
      "\u001b[34m\u001b[1mwandb\u001b[0m: \u001b[33mWARNING\u001b[0m Serializing object of type str that is 116552 bytes\n"
     ]
    },
    {
     "data": {
      "text/plain": [
       "ArtifactManifestEntry(path='data+gptv-eligible.csv', digest='tbuWE+QMIHDMzBz9xKpwTw==', size=17643141, local_path='/home/opadmin/.local/share/wandb/artifacts/staging/tmpwfli3p9c')"
      ]
     },
     "execution_count": 134,
     "metadata": {},
     "output_type": "execute_result"
    }
   ],
   "source": [
    "opentable_artifact = wandb.Artifact(\"opentable_trajectories_gptv\", type=\"dataset\")\n",
    "# opentable_table = wandb.Table(dataframe=traj_df_new)\n",
    "opentable_table_eligible = wandb.Table(dataframe=eligible_traj_df)\n",
    "#\n",
    "# opentable_artifact.add(opentable_table, \"opentable\")\n",
    "opentable_artifact.add(opentable_table_eligible, \"opentable-eligibleonly\")\n",
    "# opentable_artifact.add_file(str(dataset_path/'csv/data+gptv.csv'))\n",
    "opentable_artifact.add_file(str(dataset_path/'csv/data+gptv-eligible.csv'))\n"
   ]
  },
  {
   "cell_type": "code",
   "execution_count": 135,
   "metadata": {},
   "outputs": [
    {
     "data": {
      "text/html": [
       "Finishing last run (ID:hjzdqhle) before initializing another..."
      ],
      "text/plain": [
       "<IPython.core.display.HTML object>"
      ]
     },
     "metadata": {},
     "output_type": "display_data"
    },
    {
     "name": "stderr",
     "output_type": "stream",
     "text": [
      "wandb: WARNING Source type is set to 'repo' but some required information is missing from the environment. A job will not be created from this run. See https://docs.wandb.ai/guides/launch/create-job\n"
     ]
    },
    {
     "data": {
      "text/html": [
       " View run <strong style=\"color:#cdcd00\">quiet-surf-5</strong> at: <a href='https://wandb.ai/multion-agi/opentable-vision/runs/hjzdqhle' target=\"_blank\">https://wandb.ai/multion-agi/opentable-vision/runs/hjzdqhle</a><br/>Synced 6 W&B file(s), 1 media file(s), 1 artifact file(s) and 0 other file(s)"
      ],
      "text/plain": [
       "<IPython.core.display.HTML object>"
      ]
     },
     "metadata": {},
     "output_type": "display_data"
    },
    {
     "data": {
      "text/html": [
       "Find logs at: <code>./wandb/run-20240327_102422-hjzdqhle/logs</code>"
      ],
      "text/plain": [
       "<IPython.core.display.HTML object>"
      ]
     },
     "metadata": {},
     "output_type": "display_data"
    },
    {
     "data": {
      "text/html": [
       "Successfully finished last run (ID:hjzdqhle). Initializing new run:<br/>"
      ],
      "text/plain": [
       "<IPython.core.display.HTML object>"
      ]
     },
     "metadata": {},
     "output_type": "display_data"
    },
    {
     "data": {
      "text/html": [
       "wandb version 0.16.5 is available!  To upgrade, please run:\n",
       " $ pip install wandb --upgrade"
      ],
      "text/plain": [
       "<IPython.core.display.HTML object>"
      ]
     },
     "metadata": {},
     "output_type": "display_data"
    },
    {
     "data": {
      "text/html": [
       "Tracking run with wandb version 0.16.4"
      ],
      "text/plain": [
       "<IPython.core.display.HTML object>"
      ]
     },
     "metadata": {},
     "output_type": "display_data"
    },
    {
     "data": {
      "text/html": [
       "Run data is saved locally in <code>/home/opadmin/llama2d_opentable/lm_act_eval/wandb/run-20240327_102712-zf01p6pn</code>"
      ],
      "text/plain": [
       "<IPython.core.display.HTML object>"
      ]
     },
     "metadata": {},
     "output_type": "display_data"
    },
    {
     "data": {
      "text/html": [
       "Syncing run <strong><a href='https://wandb.ai/multion-agi/opentable-vision/runs/zf01p6pn' target=\"_blank\">peach-dawn-6</a></strong> to <a href='https://wandb.ai/multion-agi/opentable-vision' target=\"_blank\">Weights & Biases</a> (<a href='https://wandb.me/run' target=\"_blank\">docs</a>)<br/>"
      ],
      "text/plain": [
       "<IPython.core.display.HTML object>"
      ]
     },
     "metadata": {},
     "output_type": "display_data"
    },
    {
     "data": {
      "text/html": [
       " View project at <a href='https://wandb.ai/multion-agi/opentable-vision' target=\"_blank\">https://wandb.ai/multion-agi/opentable-vision</a>"
      ],
      "text/plain": [
       "<IPython.core.display.HTML object>"
      ]
     },
     "metadata": {},
     "output_type": "display_data"
    },
    {
     "data": {
      "text/html": [
       " View run at <a href='https://wandb.ai/multion-agi/opentable-vision/runs/zf01p6pn' target=\"_blank\">https://wandb.ai/multion-agi/opentable-vision/runs/zf01p6pn</a>"
      ],
      "text/plain": [
       "<IPython.core.display.HTML object>"
      ]
     },
     "metadata": {},
     "output_type": "display_data"
    },
    {
     "name": "stderr",
     "output_type": "stream",
     "text": [
      "\u001b[34m\u001b[1mwandb\u001b[0m: \u001b[33mWARNING\u001b[0m Serializing object of type str that is 531752 bytes\n",
      "\u001b[34m\u001b[1mwandb\u001b[0m: \u001b[33mWARNING\u001b[0m Serializing object of type str that is 517908 bytes\n",
      "\u001b[34m\u001b[1mwandb\u001b[0m: \u001b[33mWARNING\u001b[0m Serializing object of type str that is 541284 bytes\n",
      "\u001b[34m\u001b[1mwandb\u001b[0m: \u001b[33mWARNING\u001b[0m Serializing object of type str that is 525810 bytes\n",
      "\u001b[34m\u001b[1mwandb\u001b[0m: \u001b[33mWARNING\u001b[0m Serializing object of type str that is 116864 bytes\n",
      "\u001b[34m\u001b[1mwandb\u001b[0m: \u001b[33mWARNING\u001b[0m Serializing object of type str that is 121274 bytes\n",
      "\u001b[34m\u001b[1mwandb\u001b[0m: \u001b[33mWARNING\u001b[0m Serializing object of type str that is 120688 bytes\n",
      "\u001b[34m\u001b[1mwandb\u001b[0m: \u001b[33mWARNING\u001b[0m Serializing object of type str that is 124364 bytes\n",
      "\u001b[34m\u001b[1mwandb\u001b[0m: \u001b[33mWARNING\u001b[0m Serializing object of type str that is 127354 bytes\n",
      "\u001b[34m\u001b[1mwandb\u001b[0m: \u001b[33mWARNING\u001b[0m Serializing object of type str that is 129308 bytes\n",
      "\u001b[34m\u001b[1mwandb\u001b[0m: \u001b[33mWARNING\u001b[0m Serializing object of type str that is 129582 bytes\n",
      "\u001b[34m\u001b[1mwandb\u001b[0m: \u001b[33mWARNING\u001b[0m Serializing object of type str that is 135310 bytes\n",
      "\u001b[34m\u001b[1mwandb\u001b[0m: \u001b[33mWARNING\u001b[0m Serializing object of type str that is 137856 bytes\n",
      "\u001b[34m\u001b[1mwandb\u001b[0m: \u001b[33mWARNING\u001b[0m Serializing object of type str that is 137644 bytes\n",
      "\u001b[34m\u001b[1mwandb\u001b[0m: \u001b[33mWARNING\u001b[0m Serializing object of type str that is 136800 bytes\n",
      "\u001b[34m\u001b[1mwandb\u001b[0m: \u001b[33mWARNING\u001b[0m Serializing object of type str that is 139488 bytes\n",
      "\u001b[34m\u001b[1mwandb\u001b[0m: \u001b[33mWARNING\u001b[0m Serializing object of type str that is 145450 bytes\n",
      "\u001b[34m\u001b[1mwandb\u001b[0m: \u001b[33mWARNING\u001b[0m Serializing object of type str that is 143400 bytes\n",
      "\u001b[34m\u001b[1mwandb\u001b[0m: \u001b[33mWARNING\u001b[0m Serializing object of type str that is 144604 bytes\n",
      "\u001b[34m\u001b[1mwandb\u001b[0m: \u001b[33mWARNING\u001b[0m Serializing object of type str that is 148884 bytes\n",
      "\u001b[34m\u001b[1mwandb\u001b[0m: \u001b[33mWARNING\u001b[0m Serializing object of type str that is 144942 bytes\n",
      "\u001b[34m\u001b[1mwandb\u001b[0m: \u001b[33mWARNING\u001b[0m Serializing object of type str that is 158396 bytes\n",
      "\u001b[34m\u001b[1mwandb\u001b[0m: \u001b[33mWARNING\u001b[0m Serializing object of type str that is 160856 bytes\n",
      "\u001b[34m\u001b[1mwandb\u001b[0m: \u001b[33mWARNING\u001b[0m Serializing object of type str that is 101088 bytes\n",
      "\u001b[34m\u001b[1mwandb\u001b[0m: \u001b[33mWARNING\u001b[0m Serializing object of type str that is 163330 bytes\n",
      "\u001b[34m\u001b[1mwandb\u001b[0m: \u001b[33mWARNING\u001b[0m Serializing object of type str that is 102826 bytes\n",
      "\u001b[34m\u001b[1mwandb\u001b[0m: \u001b[33mWARNING\u001b[0m Serializing object of type str that is 163974 bytes\n",
      "\u001b[34m\u001b[1mwandb\u001b[0m: \u001b[33mWARNING\u001b[0m Serializing object of type str that is 102464 bytes\n",
      "\u001b[34m\u001b[1mwandb\u001b[0m: \u001b[33mWARNING\u001b[0m Serializing object of type str that is 162444 bytes\n",
      "\u001b[34m\u001b[1mwandb\u001b[0m: \u001b[33mWARNING\u001b[0m Serializing object of type str that is 100274 bytes\n",
      "\u001b[34m\u001b[1mwandb\u001b[0m: \u001b[33mWARNING\u001b[0m Serializing object of type str that is 171034 bytes\n",
      "\u001b[34m\u001b[1mwandb\u001b[0m: \u001b[33mWARNING\u001b[0m Serializing object of type str that is 107774 bytes\n",
      "\u001b[34m\u001b[1mwandb\u001b[0m: \u001b[33mWARNING\u001b[0m Serializing object of type str that is 171514 bytes\n",
      "\u001b[34m\u001b[1mwandb\u001b[0m: \u001b[33mWARNING\u001b[0m Serializing object of type str that is 107154 bytes\n",
      "\u001b[34m\u001b[1mwandb\u001b[0m: \u001b[33mWARNING\u001b[0m Serializing object of type str that is 178978 bytes\n",
      "\u001b[34m\u001b[1mwandb\u001b[0m: \u001b[33mWARNING\u001b[0m Serializing object of type str that is 113514 bytes\n",
      "\u001b[34m\u001b[1mwandb\u001b[0m: \u001b[33mWARNING\u001b[0m Serializing object of type str that is 182604 bytes\n",
      "\u001b[34m\u001b[1mwandb\u001b[0m: \u001b[33mWARNING\u001b[0m Serializing object of type str that is 116100 bytes\n",
      "\u001b[34m\u001b[1mwandb\u001b[0m: \u001b[33mWARNING\u001b[0m Serializing object of type str that is 181408 bytes\n",
      "\u001b[34m\u001b[1mwandb\u001b[0m: \u001b[33mWARNING\u001b[0m Serializing object of type str that is 111572 bytes\n",
      "\u001b[34m\u001b[1mwandb\u001b[0m: \u001b[33mWARNING\u001b[0m Serializing object of type str that is 184360 bytes\n",
      "\u001b[34m\u001b[1mwandb\u001b[0m: \u001b[33mWARNING\u001b[0m Serializing object of type str that is 115362 bytes\n",
      "\u001b[34m\u001b[1mwandb\u001b[0m: \u001b[33mWARNING\u001b[0m Serializing object of type str that is 184852 bytes\n",
      "\u001b[34m\u001b[1mwandb\u001b[0m: \u001b[33mWARNING\u001b[0m Serializing object of type str that is 111658 bytes\n",
      "\u001b[34m\u001b[1mwandb\u001b[0m: \u001b[33mWARNING\u001b[0m Serializing object of type str that is 184348 bytes\n",
      "\u001b[34m\u001b[1mwandb\u001b[0m: \u001b[33mWARNING\u001b[0m Serializing object of type str that is 108370 bytes\n",
      "\u001b[34m\u001b[1mwandb\u001b[0m: \u001b[33mWARNING\u001b[0m Serializing object of type str that is 101956 bytes\n",
      "\u001b[34m\u001b[1mwandb\u001b[0m: \u001b[33mWARNING\u001b[0m Serializing object of type str that is 104122 bytes\n",
      "\u001b[34m\u001b[1mwandb\u001b[0m: \u001b[33mWARNING\u001b[0m Serializing object of type str that is 155904 bytes\n",
      "\u001b[34m\u001b[1mwandb\u001b[0m: \u001b[33mWARNING\u001b[0m Serializing object of type str that is 101490 bytes\n",
      "\u001b[34m\u001b[1mwandb\u001b[0m: \u001b[33mWARNING\u001b[0m Serializing object of type str that is 190120 bytes\n",
      "\u001b[34m\u001b[1mwandb\u001b[0m: \u001b[33mWARNING\u001b[0m Serializing object of type str that is 110260 bytes\n",
      "\u001b[34m\u001b[1mwandb\u001b[0m: \u001b[33mWARNING\u001b[0m Serializing object of type str that is 193908 bytes\n",
      "\u001b[34m\u001b[1mwandb\u001b[0m: \u001b[33mWARNING\u001b[0m Serializing object of type str that is 104770 bytes\n",
      "\u001b[34m\u001b[1mwandb\u001b[0m: \u001b[33mWARNING\u001b[0m Serializing object of type str that is 103218 bytes\n",
      "\u001b[34m\u001b[1mwandb\u001b[0m: \u001b[33mWARNING\u001b[0m Serializing object of type str that is 124644 bytes\n",
      "\u001b[34m\u001b[1mwandb\u001b[0m: \u001b[33mWARNING\u001b[0m Serializing object of type str that is 143560 bytes\n",
      "\u001b[34m\u001b[1mwandb\u001b[0m: \u001b[33mWARNING\u001b[0m Serializing object of type str that is 148592 bytes\n",
      "\u001b[34m\u001b[1mwandb\u001b[0m: \u001b[33mWARNING\u001b[0m Serializing object of type str that is 106152 bytes\n",
      "\u001b[34m\u001b[1mwandb\u001b[0m: \u001b[33mWARNING\u001b[0m Serializing object of type str that is 116552 bytes\n"
     ]
    },
    {
     "data": {
      "text/plain": [
       "<Artifact opentable_trajectories_gptv>"
      ]
     },
     "execution_count": 135,
     "metadata": {},
     "output_type": "execute_result"
    }
   ],
   "source": [
    "# Start a W&B run to log data\n",
    "run = wandb.init(\n",
    "  project=\"opentable-vision\", reinit=True)\n",
    "# Log the table to visualize with a run...\n",
    "run.log({\n",
    "  \"GPTV\": opentable_table_eligible})\n",
    "\n",
    "# and Log as an Artifact to increase the available row limit!\n",
    "run.log_artifact(opentable_artifact)"
   ]
  }
 ],
 "metadata": {
  "kernelspec": {
   "display_name": "eval-dev",
   "language": "python",
   "name": "python3"
  },
  "language_info": {
   "codemirror_mode": {
    "name": "ipython",
    "version": 3
   },
   "file_extension": ".py",
   "mimetype": "text/x-python",
   "name": "python",
   "nbconvert_exporter": "python",
   "pygments_lexer": "ipython3",
   "version": "3.11.8"
  }
 },
 "nbformat": 4,
 "nbformat_minor": 2
}
